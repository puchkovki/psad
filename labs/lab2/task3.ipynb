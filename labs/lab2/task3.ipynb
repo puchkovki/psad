{
 "cells": [
  {
   "cell_type": "markdown",
   "metadata": {},
   "source": [
    "# Задача 3.1"
   ]
  },
  {
   "cell_type": "markdown",
   "metadata": {},
   "source": [
    "\n",
    "**[Выборка](https://github.com/natasha/nerus)**: набор предложений на русском языке с указанием частей речи для каждого слова.\n",
    "\n",
    "Требуется:\n",
    "1. Рассмотреть последовательность частей речи как марковскую модель. Определить оптимальный порядок марковской модели.\n",
    "2. Обучить скрытую марковскую модель по выборке. Оценить точность предсказания частей речи, посчитать энтропию на выборке.\n",
    "\n",
    "**Важно**: в целях ускорения эксперимента рекомендуется взять первые 10 МБ текста из выборки.\n"
   ]
  },
  {
   "cell_type": "code",
   "execution_count": null,
   "metadata": {},
   "outputs": [],
   "source": []
  }
 ],
 "metadata": {
  "kernelspec": {
   "display_name": "Python 3",
   "language": "python",
   "name": "python3"
  },
  "language_info": {
   "codemirror_mode": {
    "name": "ipython",
    "version": 3
   },
   "file_extension": ".py",
   "mimetype": "text/x-python",
   "name": "python",
   "nbconvert_exporter": "python",
   "pygments_lexer": "ipython3",
   "version": "3.8.5"
  }
 },
 "nbformat": 4,
 "nbformat_minor": 4
}
