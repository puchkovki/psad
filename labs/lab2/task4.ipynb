{
 "cells": [
  {
   "cell_type": "markdown",
   "metadata": {},
   "source": [
    "# Задача 4.2"
   ]
  },
  {
   "cell_type": "markdown",
   "metadata": {},
   "source": [
    "Получить аналитическую формулу для оценки правдоподобия последовательности слов из словаря мощности `d` на основе языковой модели, если известно:\n",
    "1. Все слова независимы и распределенны равномерно.\n",
    "2. Известно распределение $p(w_i|w_{i-1}) = Dir(mu(w_{i-1}))$ где $Dir$ является распределением Дирихле с вектором параметров $mu(w_i, w_{i-1})$ размерности $d$. Причем компоненты вектора $mu(w_{i-1})$ задаются выражением: $mu_i = exp(-|i-j|)$, где j — это номер слова $w_{i-1}$ в словаре. *Для поиска распределения последовательности удобно использовать не правдоподобие, а логарифм правдоподобия.*\n",
    "\n",
    "Все выкладки должны быть сделаны аналитически, без использования компьютера."
   ]
  },
  {
   "cell_type": "code",
   "execution_count": null,
   "metadata": {},
   "outputs": [],
   "source": []
  }
 ],
 "metadata": {
  "kernelspec": {
   "display_name": "Python 3",
   "language": "python",
   "name": "python3"
  },
  "language_info": {
   "codemirror_mode": {
    "name": "ipython",
    "version": 3
   },
   "file_extension": ".py",
   "mimetype": "text/x-python",
   "name": "python",
   "nbconvert_exporter": "python",
   "pygments_lexer": "ipython3",
   "version": "3.8.5"
  }
 },
 "nbformat": 4,
 "nbformat_minor": 4
}
