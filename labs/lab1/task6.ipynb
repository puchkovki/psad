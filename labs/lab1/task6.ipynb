{
 "cells": [
  {
   "cell_type": "markdown",
   "metadata": {},
   "source": [
    "# Задача 6.1"
   ]
  },
  {
   "cell_type": "markdown",
   "metadata": {},
   "source": [
    "Рассмотрим задачу: предсказание числа заболевших некоторой болезнью от некоторых экологических анализов (см. [файл](data/sick.csv)). Гарантируется, что предсказание описывается линейной моделью.\n",
    "\n",
    "Так как проведение анализов не является бесплатным, то стоит вопрос о том, какие из анализов являются лишними для предсказания линейной модели на уровне значимости $\\alpha = 0.05$.\n",
    "\n",
    "**Требуется:**\n",
    "1. Записать задачу формально.\n",
    "2. Провести отбор признаков линейной модели.\n",
    "\n",
    "Все выкладки должны быть сделаны аналитически, без использования компьютера. Допускается использование компютера для подстановки численых значений в финальную формулу."
   ]
  },
  {
   "cell_type": "markdown",
   "metadata": {},
   "source": [
    "**Формальная задача: методом линейной регрессии провести отбор признаков.**"
   ]
  },
  {
   "cell_type": "code",
   "execution_count": 1,
   "metadata": {},
   "outputs": [
    {
     "data": {
      "text/html": [
       "<div>\n",
       "<style scoped>\n",
       "    .dataframe tbody tr th:only-of-type {\n",
       "        vertical-align: middle;\n",
       "    }\n",
       "\n",
       "    .dataframe tbody tr th {\n",
       "        vertical-align: top;\n",
       "    }\n",
       "\n",
       "    .dataframe thead th {\n",
       "        text-align: right;\n",
       "    }\n",
       "</style>\n",
       "<table border=\"1\" class=\"dataframe\">\n",
       "  <thead>\n",
       "    <tr style=\"text-align: right;\">\n",
       "      <th></th>\n",
       "      <th>x1</th>\n",
       "      <th>x2</th>\n",
       "      <th>x3</th>\n",
       "      <th>x4</th>\n",
       "      <th>x5</th>\n",
       "      <th>x6</th>\n",
       "      <th>x7</th>\n",
       "      <th>x8</th>\n",
       "      <th>x9</th>\n",
       "      <th>x10</th>\n",
       "      <th>Y</th>\n",
       "    </tr>\n",
       "  </thead>\n",
       "  <tbody>\n",
       "    <tr>\n",
       "      <th>20</th>\n",
       "      <td>0.3</td>\n",
       "      <td>-1.9</td>\n",
       "      <td>0.1</td>\n",
       "      <td>1.7</td>\n",
       "      <td>0.8</td>\n",
       "      <td>1.1</td>\n",
       "      <td>-1.8</td>\n",
       "      <td>0.2</td>\n",
       "      <td>-1.3</td>\n",
       "      <td>-0.9</td>\n",
       "      <td>1.0</td>\n",
       "    </tr>\n",
       "    <tr>\n",
       "      <th>1</th>\n",
       "      <td>1.0</td>\n",
       "      <td>0.4</td>\n",
       "      <td>0.5</td>\n",
       "      <td>-1.1</td>\n",
       "      <td>0.6</td>\n",
       "      <td>-0.1</td>\n",
       "      <td>-0.2</td>\n",
       "      <td>-0.7</td>\n",
       "      <td>-0.5</td>\n",
       "      <td>0.4</td>\n",
       "      <td>1.0</td>\n",
       "    </tr>\n",
       "    <tr>\n",
       "      <th>6</th>\n",
       "      <td>-0.7</td>\n",
       "      <td>-0.5</td>\n",
       "      <td>1.5</td>\n",
       "      <td>0.2</td>\n",
       "      <td>1.0</td>\n",
       "      <td>-1.2</td>\n",
       "      <td>-0.1</td>\n",
       "      <td>0.1</td>\n",
       "      <td>0.3</td>\n",
       "      <td>-0.7</td>\n",
       "      <td>10.0</td>\n",
       "    </tr>\n",
       "    <tr>\n",
       "      <th>24</th>\n",
       "      <td>0.1</td>\n",
       "      <td>1.5</td>\n",
       "      <td>-0.4</td>\n",
       "      <td>-0.4</td>\n",
       "      <td>-0.7</td>\n",
       "      <td>0.7</td>\n",
       "      <td>0.3</td>\n",
       "      <td>0.3</td>\n",
       "      <td>-0.2</td>\n",
       "      <td>0.5</td>\n",
       "      <td>1.0</td>\n",
       "    </tr>\n",
       "    <tr>\n",
       "      <th>17</th>\n",
       "      <td>0.3</td>\n",
       "      <td>-1.2</td>\n",
       "      <td>0.2</td>\n",
       "      <td>1.5</td>\n",
       "      <td>-0.5</td>\n",
       "      <td>-0.2</td>\n",
       "      <td>-0.5</td>\n",
       "      <td>1.6</td>\n",
       "      <td>-0.4</td>\n",
       "      <td>-0.1</td>\n",
       "      <td>1.0</td>\n",
       "    </tr>\n",
       "  </tbody>\n",
       "</table>\n",
       "</div>"
      ],
      "text/plain": [
       "     x1   x2   x3   x4   x5   x6   x7   x8   x9  x10     Y\n",
       "20  0.3 -1.9  0.1  1.7  0.8  1.1 -1.8  0.2 -1.3 -0.9   1.0\n",
       "1   1.0  0.4  0.5 -1.1  0.6 -0.1 -0.2 -0.7 -0.5  0.4   1.0\n",
       "6  -0.7 -0.5  1.5  0.2  1.0 -1.2 -0.1  0.1  0.3 -0.7  10.0\n",
       "24  0.1  1.5 -0.4 -0.4 -0.7  0.7  0.3  0.3 -0.2  0.5   1.0\n",
       "17  0.3 -1.2  0.2  1.5 -0.5 -0.2 -0.5  1.6 -0.4 -0.1   1.0"
      ]
     },
     "execution_count": 1,
     "metadata": {},
     "output_type": "execute_result"
    }
   ],
   "source": [
    "import pandas as pd\n",
    "\n",
    "data = pd.read_csv(\"data/sick.csv\")\n",
    "data.sample(5)"
   ]
  },
  {
   "cell_type": "code",
   "execution_count": 9,
   "metadata": {},
   "outputs": [
    {
     "data": {
      "text/html": [
       "<table class=\"simpletable\">\n",
       "<caption>Generalized Linear Model Regression Results</caption>\n",
       "<tr>\n",
       "  <th>Dep. Variable:</th>           <td>Y</td>        <th>  No. Observations:  </th>  <td>    30</td> \n",
       "</tr>\n",
       "<tr>\n",
       "  <th>Model:</th>                  <td>GLM</td>       <th>  Df Residuals:      </th>  <td>    19</td> \n",
       "</tr>\n",
       "<tr>\n",
       "  <th>Model Family:</th>        <td>Gaussian</td>     <th>  Df Model:          </th>  <td>    10</td> \n",
       "</tr>\n",
       "<tr>\n",
       "  <th>Link Function:</th>       <td>identity</td>     <th>  Scale:             </th> <td>  4.2355</td>\n",
       "</tr>\n",
       "<tr>\n",
       "  <th>Method:</th>                <td>IRLS</td>       <th>  Log-Likelihood:    </th> <td> -57.369</td>\n",
       "</tr>\n",
       "<tr>\n",
       "  <th>Date:</th>            <td>Sun, 04 Apr 2021</td> <th>  Deviance:          </th> <td>  80.474</td>\n",
       "</tr>\n",
       "<tr>\n",
       "  <th>Time:</th>                <td>12:00:41</td>     <th>  Pearson chi2:      </th>  <td>  80.5</td> \n",
       "</tr>\n",
       "<tr>\n",
       "  <th>No. Iterations:</th>          <td>3</td>        <th>                     </th>     <td> </td>   \n",
       "</tr>\n",
       "<tr>\n",
       "  <th>Covariance Type:</th>     <td>nonrobust</td>    <th>                     </th>     <td> </td>   \n",
       "</tr>\n",
       "</table>\n",
       "<table class=\"simpletable\">\n",
       "<tr>\n",
       "      <td></td>         <th>coef</th>     <th>std err</th>      <th>z</th>      <th>P>|z|</th>  <th>[0.025</th>    <th>0.975]</th>  \n",
       "</tr>\n",
       "<tr>\n",
       "  <th>Intercept</th> <td>    1.9411</td> <td>    0.491</td> <td>    3.954</td> <td> 0.000</td> <td>    0.979</td> <td>    2.903</td>\n",
       "</tr>\n",
       "<tr>\n",
       "  <th>x1</th>        <td>   -0.8668</td> <td>    0.380</td> <td>   -2.284</td> <td> 0.022</td> <td>   -1.611</td> <td>   -0.123</td>\n",
       "</tr>\n",
       "<tr>\n",
       "  <th>x2</th>        <td>    0.3373</td> <td>    0.456</td> <td>    0.739</td> <td> 0.460</td> <td>   -0.557</td> <td>    1.232</td>\n",
       "</tr>\n",
       "<tr>\n",
       "  <th>x3</th>        <td>    2.9763</td> <td>    0.527</td> <td>    5.651</td> <td> 0.000</td> <td>    1.944</td> <td>    4.009</td>\n",
       "</tr>\n",
       "<tr>\n",
       "  <th>x4</th>        <td>    0.4234</td> <td>    0.355</td> <td>    1.193</td> <td> 0.233</td> <td>   -0.272</td> <td>    1.119</td>\n",
       "</tr>\n",
       "<tr>\n",
       "  <th>x5</th>        <td>    0.0855</td> <td>    0.516</td> <td>    0.166</td> <td> 0.869</td> <td>   -0.927</td> <td>    1.098</td>\n",
       "</tr>\n",
       "<tr>\n",
       "  <th>x6</th>        <td>   -0.4043</td> <td>    0.430</td> <td>   -0.940</td> <td> 0.347</td> <td>   -1.247</td> <td>    0.438</td>\n",
       "</tr>\n",
       "<tr>\n",
       "  <th>x7</th>        <td>   -0.3956</td> <td>    0.438</td> <td>   -0.903</td> <td> 0.367</td> <td>   -1.255</td> <td>    0.464</td>\n",
       "</tr>\n",
       "<tr>\n",
       "  <th>x8</th>        <td>    0.1615</td> <td>    0.472</td> <td>    0.342</td> <td> 0.732</td> <td>   -0.763</td> <td>    1.086</td>\n",
       "</tr>\n",
       "<tr>\n",
       "  <th>x9</th>        <td>    0.0899</td> <td>    0.461</td> <td>    0.195</td> <td> 0.845</td> <td>   -0.814</td> <td>    0.994</td>\n",
       "</tr>\n",
       "<tr>\n",
       "  <th>x10</th>       <td>   -0.0148</td> <td>    0.550</td> <td>   -0.027</td> <td> 0.979</td> <td>   -1.092</td> <td>    1.063</td>\n",
       "</tr>\n",
       "</table>"
      ],
      "text/plain": [
       "<class 'statsmodels.iolib.summary.Summary'>\n",
       "\"\"\"\n",
       "                 Generalized Linear Model Regression Results                  \n",
       "==============================================================================\n",
       "Dep. Variable:                      Y   No. Observations:                   30\n",
       "Model:                            GLM   Df Residuals:                       19\n",
       "Model Family:                Gaussian   Df Model:                           10\n",
       "Link Function:               identity   Scale:                          4.2355\n",
       "Method:                          IRLS   Log-Likelihood:                -57.369\n",
       "Date:                Sun, 04 Apr 2021   Deviance:                       80.474\n",
       "Time:                        12:00:41   Pearson chi2:                     80.5\n",
       "No. Iterations:                     3                                         \n",
       "Covariance Type:            nonrobust                                         \n",
       "==============================================================================\n",
       "                 coef    std err          z      P>|z|      [0.025      0.975]\n",
       "------------------------------------------------------------------------------\n",
       "Intercept      1.9411      0.491      3.954      0.000       0.979       2.903\n",
       "x1            -0.8668      0.380     -2.284      0.022      -1.611      -0.123\n",
       "x2             0.3373      0.456      0.739      0.460      -0.557       1.232\n",
       "x3             2.9763      0.527      5.651      0.000       1.944       4.009\n",
       "x4             0.4234      0.355      1.193      0.233      -0.272       1.119\n",
       "x5             0.0855      0.516      0.166      0.869      -0.927       1.098\n",
       "x6            -0.4043      0.430     -0.940      0.347      -1.247       0.438\n",
       "x7            -0.3956      0.438     -0.903      0.367      -1.255       0.464\n",
       "x8             0.1615      0.472      0.342      0.732      -0.763       1.086\n",
       "x9             0.0899      0.461      0.195      0.845      -0.814       0.994\n",
       "x10           -0.0148      0.550     -0.027      0.979      -1.092       1.063\n",
       "==============================================================================\n",
       "\"\"\""
      ]
     },
     "execution_count": 9,
     "metadata": {},
     "output_type": "execute_result"
    }
   ],
   "source": [
    "import statsmodels.api as sm\n",
    "\n",
    "model = sm.GLM.from_formula('Y~x1 + x2 + x3 + x4 + x5 + x6 + x7 + x8 + x9 + x10', \n",
    "                             data=data).fit()\n",
    "model.summary()"
   ]
  },
  {
   "cell_type": "markdown",
   "metadata": {},
   "source": [
    "Случайные величины из выборки абсолютно непрерывны, значит нам потребуется непрерывная функция распределение. По умолчанию будет использоваться нормальное распределение (Гаусса). Проверим это:"
   ]
  },
  {
   "cell_type": "code",
   "execution_count": 7,
   "metadata": {},
   "outputs": [
    {
     "data": {
      "text/plain": [
       "<statsmodels.genmod.families.family.Gaussian at 0x7f846ecc64c0>"
      ]
     },
     "execution_count": 7,
     "metadata": {},
     "output_type": "execute_result"
    }
   ],
   "source": [
    "model.family"
   ]
  },
  {
   "cell_type": "markdown",
   "metadata": {},
   "source": [
    "Оценим полученные результаты: как видно из $summary$ модели, признаки $x_2, x_4, x_5, x_6, x_7, x_8, x_9, x_{10}$ являются незначимыми $\\rightarrow$ удалим их."
   ]
  },
  {
   "cell_type": "code",
   "execution_count": 18,
   "metadata": {},
   "outputs": [
    {
     "data": {
      "text/html": [
       "<table class=\"simpletable\">\n",
       "<tr>\n",
       "        <td>Model:</td>               <td>GLM</td>            <td>AIC:</td>       <td>125.9859</td>\n",
       "</tr>\n",
       "<tr>\n",
       "    <td>Link Function:</td>        <td>identity</td>          <td>BIC:</td>        <td>4.0241</td> \n",
       "</tr>\n",
       "<tr>\n",
       "  <td>Dependent Variable:</td>         <td>Y</td>        <td>Log-Likelihood:</td>  <td>-59.993</td>\n",
       "</tr>\n",
       "<tr>\n",
       "         <td>Date:</td>        <td>2021-04-04 12:09</td>    <td>LL-Null:</td>      <td>-89.993</td>\n",
       "</tr>\n",
       "<tr>\n",
       "   <td>No. Observations:</td>         <td>30</td>           <td>Deviance:</td>     <td>95.856</td> \n",
       "</tr>\n",
       "<tr>\n",
       "       <td>Df Model:</td>              <td>2</td>         <td>Pearson chi2:</td>    <td>95.9</td>  \n",
       "</tr>\n",
       "<tr>\n",
       "     <td>Df Residuals:</td>           <td>27</td>            <td>Scale:</td>       <td>3.5502</td> \n",
       "</tr>\n",
       "<tr>\n",
       "        <td>Method:</td>             <td>IRLS</td>              <td></td>             <td></td>    \n",
       "</tr>\n",
       "</table>\n",
       "<table class=\"simpletable\">\n",
       "<tr>\n",
       "      <td></td>       <th>Coef.</th>  <th>Std.Err.</th>    <th>z</th>     <th>P>|z|</th> <th>[0.025</th>  <th>0.975]</th> \n",
       "</tr>\n",
       "<tr>\n",
       "  <th>Intercept</th> <td>1.7281</td>   <td>0.3668</td>  <td>4.7114</td>  <td>0.0000</td> <td>1.0092</td>  <td>2.4469</td> \n",
       "</tr>\n",
       "<tr>\n",
       "  <th>x1</th>        <td>-0.7420</td>  <td>0.2971</td>  <td>-2.4975</td> <td>0.0125</td> <td>-1.3244</td> <td>-0.1597</td>\n",
       "</tr>\n",
       "<tr>\n",
       "  <th>x3</th>        <td>3.1980</td>   <td>0.4326</td>  <td>7.3923</td>  <td>0.0000</td> <td>2.3501</td>  <td>4.0459</td> \n",
       "</tr>\n",
       "</table>"
      ],
      "text/plain": [
       "<class 'statsmodels.iolib.summary2.Summary'>\n",
       "\"\"\"\n",
       "              Results: Generalized linear model\n",
       "=============================================================\n",
       "Model:              GLM              AIC:            125.9859\n",
       "Link Function:      identity         BIC:            4.0241  \n",
       "Dependent Variable: Y                Log-Likelihood: -59.993 \n",
       "Date:               2021-04-04 12:09 LL-Null:        -89.993 \n",
       "No. Observations:   30               Deviance:       95.856  \n",
       "Df Model:           2                Pearson chi2:   95.9    \n",
       "Df Residuals:       27               Scale:          3.5502  \n",
       "Method:             IRLS                                     \n",
       "-------------------------------------------------------------\n",
       "               Coef.  Std.Err.    z    P>|z|   [0.025  0.975]\n",
       "-------------------------------------------------------------\n",
       "Intercept      1.7281   0.3668  4.7114 0.0000  1.0092  2.4469\n",
       "x1            -0.7420   0.2971 -2.4975 0.0125 -1.3244 -0.1597\n",
       "x3             3.1980   0.4326  7.3923 0.0000  2.3501  4.0459\n",
       "=============================================================\n",
       "\n",
       "\"\"\""
      ]
     },
     "execution_count": 18,
     "metadata": {},
     "output_type": "execute_result"
    }
   ],
   "source": [
    "model = sm.GLM.from_formula('Y ~ x1 + x3',\n",
    "                             data=data).fit()\n",
    "model.summary2()"
   ]
  },
  {
   "cell_type": "markdown",
   "metadata": {},
   "source": [
    "Попробуем возвращать по одному удалённые признаки:"
   ]
  },
  {
   "cell_type": "code",
   "execution_count": 19,
   "metadata": {},
   "outputs": [
    {
     "name": "stdout",
     "output_type": "stream",
     "text": [
      "x2 5.903007009016434\n",
      "x4 1.8176884483582398\n",
      "x5 7.172202578424802\n",
      "x6 4.28781292794568\n",
      "x7 6.22413849265628\n",
      "x8 6.6120411017059695\n",
      "x9 7.344596791860781\n",
      "x10 7.415686304733683\n"
     ]
    },
    {
     "name": "stderr",
     "output_type": "stream",
     "text": [
      "/home/hp/.local/lib/python3.8/site-packages/statsmodels/genmod/generalized_linear_model.py:1721: FutureWarning: The bic value is computed using the deviance formula. After 0.13 this will change to the log-likelihood based formula. This change has no impact on the relative rank of models compared using BIC. You can directly access the log-likelihood version using the `bic_llf` attribute. You can suppress this message by calling statsmodels.genmod.generalized_linear_model.SET_USE_BIC_LLF with True to get the LLF-based version now or False to retainthe deviance version.\n",
      "  warnings.warn(\n"
     ]
    }
   ],
   "source": [
    "formula = 'Y ~ x1 + x3 +'\n",
    "for p in ['x2','x4','x5','x6','x7','x8', 'x9', 'x10']:\n",
    "    model = sm.GLM.from_formula(formula+p, data=data).fit()\n",
    "    print (p, model.bic)"
   ]
  },
  {
   "cell_type": "markdown",
   "metadata": {},
   "source": [
    "Из двух моделей предпочтительно выбрать с меньшим значением байесовского критерия. Лучший показатель выдает добавление признака $x_4$."
   ]
  },
  {
   "cell_type": "code",
   "execution_count": 22,
   "metadata": {},
   "outputs": [
    {
     "data": {
      "text/html": [
       "<table class=\"simpletable\">\n",
       "<tr>\n",
       "        <td>Model:</td>               <td>GLM</td>            <td>AIC:</td>       <td>126.1775</td>\n",
       "</tr>\n",
       "<tr>\n",
       "    <td>Link Function:</td>        <td>identity</td>          <td>BIC:</td>        <td>1.8177</td> \n",
       "</tr>\n",
       "<tr>\n",
       "  <td>Dependent Variable:</td>         <td>Y</td>        <td>Log-Likelihood:</td>  <td>-59.089</td>\n",
       "</tr>\n",
       "<tr>\n",
       "         <td>Date:</td>        <td>2021-04-04 12:11</td>    <td>LL-Null:</td>      <td>-90.645</td>\n",
       "</tr>\n",
       "<tr>\n",
       "   <td>No. Observations:</td>         <td>30</td>           <td>Deviance:</td>     <td>90.249</td> \n",
       "</tr>\n",
       "<tr>\n",
       "       <td>Df Model:</td>              <td>3</td>         <td>Pearson chi2:</td>    <td>90.2</td>  \n",
       "</tr>\n",
       "<tr>\n",
       "     <td>Df Residuals:</td>           <td>26</td>            <td>Scale:</td>       <td>3.4711</td> \n",
       "</tr>\n",
       "<tr>\n",
       "        <td>Method:</td>             <td>IRLS</td>              <td></td>             <td></td>    \n",
       "</tr>\n",
       "</table>\n",
       "<table class=\"simpletable\">\n",
       "<tr>\n",
       "      <td></td>       <th>Coef.</th>  <th>Std.Err.</th>    <th>z</th>     <th>P>|z|</th> <th>[0.025</th>  <th>0.975]</th> \n",
       "</tr>\n",
       "<tr>\n",
       "  <th>Intercept</th> <td>1.6877</td>   <td>0.3641</td>  <td>4.6356</td>  <td>0.0000</td> <td>0.9741</td>  <td>2.4012</td> \n",
       "</tr>\n",
       "<tr>\n",
       "  <th>x1</th>        <td>-0.7759</td>  <td>0.2950</td>  <td>-2.6303</td> <td>0.0085</td> <td>-1.3541</td> <td>-0.1977</td>\n",
       "</tr>\n",
       "<tr>\n",
       "  <th>x3</th>        <td>3.1463</td>   <td>0.4297</td>  <td>7.3223</td>  <td>0.0000</td> <td>2.3041</td>  <td>3.9885</td> \n",
       "</tr>\n",
       "<tr>\n",
       "  <th>x4</th>        <td>0.3638</td>   <td>0.2862</td>  <td>1.2710</td>  <td>0.2037</td> <td>-0.1972</td> <td>0.9247</td> \n",
       "</tr>\n",
       "</table>"
      ],
      "text/plain": [
       "<class 'statsmodels.iolib.summary2.Summary'>\n",
       "\"\"\"\n",
       "              Results: Generalized linear model\n",
       "=============================================================\n",
       "Model:              GLM              AIC:            126.1775\n",
       "Link Function:      identity         BIC:            1.8177  \n",
       "Dependent Variable: Y                Log-Likelihood: -59.089 \n",
       "Date:               2021-04-04 12:11 LL-Null:        -90.645 \n",
       "No. Observations:   30               Deviance:       90.249  \n",
       "Df Model:           3                Pearson chi2:   90.2    \n",
       "Df Residuals:       26               Scale:          3.4711  \n",
       "Method:             IRLS                                     \n",
       "-------------------------------------------------------------\n",
       "               Coef.  Std.Err.    z    P>|z|   [0.025  0.975]\n",
       "-------------------------------------------------------------\n",
       "Intercept      1.6877   0.3641  4.6356 0.0000  0.9741  2.4012\n",
       "x1            -0.7759   0.2950 -2.6303 0.0085 -1.3541 -0.1977\n",
       "x3             3.1463   0.4297  7.3223 0.0000  2.3041  3.9885\n",
       "x4             0.3638   0.2862  1.2710 0.2037 -0.1972  0.9247\n",
       "=============================================================\n",
       "\n",
       "\"\"\""
      ]
     },
     "execution_count": 22,
     "metadata": {},
     "output_type": "execute_result"
    }
   ],
   "source": [
    "model = sm.GLM.from_formula('Y ~ x1 + x3 + x4', data=data, family=sm.families.Gaussian()).fit()\n",
    "model.summary2()"
   ]
  },
  {
   "cell_type": "markdown",
   "metadata": {},
   "source": [
    "Как видно из $summary$, даже добавление этого признака избыточно с $\\alpha = 0.05$."
   ]
  },
  {
   "cell_type": "markdown",
   "metadata": {},
   "source": [
    "Значит, возвращаемся к модели без 4-го признака и попробуем добавлять значимые межфакторные взаимодействия:у нас такое может быть только между $x_1$ и $x_3$."
   ]
  },
  {
   "cell_type": "code",
   "execution_count": 24,
   "metadata": {},
   "outputs": [
    {
     "name": "stdout",
     "output_type": "stream",
     "text": [
      "x1 x3 -16.389826449847675\n"
     ]
    },
    {
     "name": "stderr",
     "output_type": "stream",
     "text": [
      "/home/hp/.local/lib/python3.8/site-packages/statsmodels/genmod/generalized_linear_model.py:1721: FutureWarning: The bic value is computed using the deviance formula. After 0.13 this will change to the log-likelihood based formula. This change has no impact on the relative rank of models compared using BIC. You can directly access the log-likelihood version using the `bic_llf` attribute. You can suppress this message by calling statsmodels.genmod.generalized_linear_model.SET_USE_BIC_LLF with True to get the LLF-based version now or False to retainthe deviance version.\n",
      "  warnings.warn(\n"
     ]
    }
   ],
   "source": [
    "formula = 'Y ~ x1 + x3 +'\n",
    "features = ['x1', 'x3']\n",
    "for f1 in range(len(features)):\n",
    "    for f2 in range(f1+1, len(features)): \n",
    "        f1_ = features[f1]\n",
    "        f2_ = features[f2]\n",
    "        model = sm.GLM.from_formula(formula+str(f1_)+':'+str(f2_),\n",
    "                                    data=data).fit()               \n",
    "        for name, p in model.pvalues.items():\n",
    "            if p < 0.05 and ':' in name:\n",
    "                print (f1_, f2_, model.bic)"
   ]
  },
  {
   "cell_type": "markdown",
   "metadata": {},
   "source": [
    "Следовательно, добавление межфакторного взаимодействия $x_1$ и $x_3$ существенно."
   ]
  },
  {
   "cell_type": "markdown",
   "metadata": {},
   "source": [
    "## Финальная модель"
   ]
  },
  {
   "cell_type": "code",
   "execution_count": 26,
   "metadata": {},
   "outputs": [
    {
     "data": {
      "text/html": [
       "<table class=\"simpletable\">\n",
       "<tr>\n",
       "        <td>Model:</td>               <td>GLM</td>            <td>AIC:</td>       <td>119.4176</td>\n",
       "</tr>\n",
       "<tr>\n",
       "    <td>Link Function:</td>        <td>identity</td>          <td>BIC:</td>       <td>-16.3898</td>\n",
       "</tr>\n",
       "<tr>\n",
       "  <td>Dependent Variable:</td>         <td>Y</td>        <td>Log-Likelihood:</td>  <td>-55.709</td>\n",
       "</tr>\n",
       "<tr>\n",
       "         <td>Date:</td>        <td>2021-04-04 12:17</td>    <td>LL-Null:</td>      <td>-98.489</td>\n",
       "</tr>\n",
       "<tr>\n",
       "   <td>No. Observations:</td>         <td>30</td>           <td>Deviance:</td>     <td>72.041</td> \n",
       "</tr>\n",
       "<tr>\n",
       "       <td>Df Model:</td>              <td>3</td>         <td>Pearson chi2:</td>    <td>72.0</td>  \n",
       "</tr>\n",
       "<tr>\n",
       "     <td>Df Residuals:</td>           <td>26</td>            <td>Scale:</td>       <td>2.7708</td> \n",
       "</tr>\n",
       "<tr>\n",
       "        <td>Method:</td>             <td>IRLS</td>              <td></td>             <td></td>    \n",
       "</tr>\n",
       "</table>\n",
       "<table class=\"simpletable\">\n",
       "<tr>\n",
       "      <td></td>       <th>Coef.</th>  <th>Std.Err.</th>    <th>z</th>     <th>P>|z|</th> <th>[0.025</th>  <th>0.975]</th> \n",
       "</tr>\n",
       "<tr>\n",
       "  <th>Intercept</th> <td>1.6900</td>   <td>0.3243</td>  <td>5.2113</td>  <td>0.0000</td> <td>1.0544</td>  <td>2.3256</td> \n",
       "</tr>\n",
       "<tr>\n",
       "  <th>x1</th>        <td>-0.4300</td>  <td>0.2832</td>  <td>-1.5183</td> <td>0.1289</td> <td>-0.9852</td> <td>0.1251</td> \n",
       "</tr>\n",
       "<tr>\n",
       "  <th>x3</th>        <td>3.4223</td>   <td>0.3898</td>  <td>8.7804</td>  <td>0.0000</td> <td>2.6584</td>  <td>4.1862</td> \n",
       "</tr>\n",
       "<tr>\n",
       "  <th>x1:x3</th>     <td>-0.8248</td>  <td>0.2813</td>  <td>-2.9317</td> <td>0.0034</td> <td>-1.3762</td> <td>-0.2734</td>\n",
       "</tr>\n",
       "</table>"
      ],
      "text/plain": [
       "<class 'statsmodels.iolib.summary2.Summary'>\n",
       "\"\"\"\n",
       "              Results: Generalized linear model\n",
       "=============================================================\n",
       "Model:              GLM              AIC:            119.4176\n",
       "Link Function:      identity         BIC:            -16.3898\n",
       "Dependent Variable: Y                Log-Likelihood: -55.709 \n",
       "Date:               2021-04-04 12:17 LL-Null:        -98.489 \n",
       "No. Observations:   30               Deviance:       72.041  \n",
       "Df Model:           3                Pearson chi2:   72.0    \n",
       "Df Residuals:       26               Scale:          2.7708  \n",
       "Method:             IRLS                                     \n",
       "-------------------------------------------------------------\n",
       "               Coef.  Std.Err.    z    P>|z|   [0.025  0.975]\n",
       "-------------------------------------------------------------\n",
       "Intercept      1.6900   0.3243  5.2113 0.0000  1.0544  2.3256\n",
       "x1            -0.4300   0.2832 -1.5183 0.1289 -0.9852  0.1251\n",
       "x3             3.4223   0.3898  8.7804 0.0000  2.6584  4.1862\n",
       "x1:x3         -0.8248   0.2813 -2.9317 0.0034 -1.3762 -0.2734\n",
       "=============================================================\n",
       "\n",
       "\"\"\""
      ]
     },
     "execution_count": 26,
     "metadata": {},
     "output_type": "execute_result"
    }
   ],
   "source": [
    "model = sm.GLM.from_formula('Y ~ x1 * x3', data=data, family=sm.families.Gaussian()).fit()\n",
    "model.summary2()"
   ]
  }
 ],
 "metadata": {
  "kernelspec": {
   "display_name": "Python 3",
   "language": "python",
   "name": "python3"
  },
  "language_info": {
   "codemirror_mode": {
    "name": "ipython",
    "version": 3
   },
   "file_extension": ".py",
   "mimetype": "text/x-python",
   "name": "python",
   "nbconvert_exporter": "python",
   "pygments_lexer": "ipython3",
   "version": "3.8.5"
  }
 },
 "nbformat": 4,
 "nbformat_minor": 4
}
