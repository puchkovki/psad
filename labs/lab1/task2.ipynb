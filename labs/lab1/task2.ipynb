{
 "cells": [
  {
   "cell_type": "markdown",
   "metadata": {},
   "source": [
    "# Задача 2.3"
   ]
  },
  {
   "cell_type": "markdown",
   "metadata": {},
   "source": [
    "Известно, что электричка \"Вашингтон-Петушки\" аварийно останавливается раз в несколько дней. Аналитики РЖД проанализировали, сколько дней электричка едет без поломок, и составили выборку: $X = (3, 22, 13, 6, 18, 5, 6, 10, 7, 15)$.\n",
    "\n",
    "РЖД хочет проверить гипотезу, что дисперсия распределения равна 9 против правосторонней альтернативы.\n",
    "\n",
    "**Требуется**:\n",
    "1. Ввести предположение, каким распределением описывается данная выборка.\n",
    "2. Записать задачу формально.\n",
    "3. Предложить критерий для оценки дисперсии распределения.\n",
    "4. Проверить гипотезу о значении дисперсии распределения для уровня значимости $\\alpha = 0.05$ аналитически.\n",
    "5. Вывести и получить доверительный интервал для значения дисперсии при $\\alpha = 0.05$.\n",
    "\n",
    "Все выкладки должны быть сделаны аналитически, без использования компьютера. Допускается использование компютера для подстановки численых значений в финальную формулу."
   ]
  },
  {
   "cell_type": "code",
   "execution_count": 36,
   "metadata": {},
   "outputs": [],
   "source": [
    "import numpy as np\n",
    "from statsmodels.stats.proportion import proportions_chisquare\n",
    "import matplotlib.pyplot as plt\n",
    "import scipy.stats as st"
   ]
  },
  {
   "cell_type": "code",
   "execution_count": 26,
   "metadata": {},
   "outputs": [],
   "source": [
    "data = np.array([3, 22, 13, 6, 18, 5, 6, 10, 7, 15])"
   ]
  },
  {
   "cell_type": "markdown",
   "metadata": {},
   "source": [
    "## Ввести предположение, каким распределением описывается данная выборка."
   ]
  },
  {
   "cell_type": "markdown",
   "metadata": {},
   "source": [
    "Проверим выборку на нормальность."
   ]
  },
  {
   "cell_type": "code",
   "execution_count": 27,
   "metadata": {
    "scrolled": true
   },
   "outputs": [
    {
     "data": {
      "image/png": "[encoded data removed]",
      "text/plain": [
       "<Figure size 432x288 with 1 Axes>"
      ]
     },
     "metadata": {
      "needs_background": "light"
     },
     "output_type": "display_data"
    }
   ],
   "source": [
    "qq_points, qq_line = st.probplot(data, plot=plt)\n",
    "plt.show()"
   ]
  },
  {
   "cell_type": "code",
   "execution_count": 29,
   "metadata": {},
   "outputs": [
    {
     "data": {
      "text/plain": [
       "ShapiroResult(statistic=0.9227311015129089, pvalue=0.38029807806015015)"
      ]
     },
     "execution_count": 29,
     "metadata": {},
     "output_type": "execute_result"
    }
   ],
   "source": [
    "st.shapiro(data)"
   ]
  },
  {
   "cell_type": "markdown",
   "metadata": {},
   "source": [
    "$p-value > 0.05$, следовательно, данные не противоречат гипотезе, утверждающей нормальность выборки."
   ]
  },
  {
   "cell_type": "markdown",
   "metadata": {},
   "source": [
    "## Формальная постановка задачи:\n",
    "\n",
    "$H_0: \\sigma^2 = \\sigma_0^2 = 9 \\\\ H_1: \\sigma^2 > 9$"
   ]
  },
  {
   "cell_type": "markdown",
   "metadata": {},
   "source": [
    "## В процедуре проверки гипотезы будет использован критерий:\n",
    "\n",
    "$\\Phi = (n - 1)\\cdot \\frac{s^2}{\\sigma_0^2}$\n",
    "\n",
    "$s^2 = \\frac{\\sum_{i=1}^n (x_i - \\bar{x})}{n - 1}$\n",
    "\n",
    "$\\bar{x} = \\frac{\\sum_{i=1}^n x_i}{n}$"
   ]
  },
  {
   "cell_type": "markdown",
   "metadata": {},
   "source": [
    "Критерий $\\Phi$ имеет распределение $\\chi^2$  с ($n-1$) степенями свободы."
   ]
  },
  {
   "cell_type": "code",
   "execution_count": 53,
   "metadata": {},
   "outputs": [
    {
     "data": {
      "text/plain": [
       "39.388888888888886"
      ]
     },
     "execution_count": 53,
     "metadata": {},
     "output_type": "execute_result"
    }
   ],
   "source": [
    "mean = data.mean()\n",
    "std = data.std()\n",
    "n = len(data)\n",
    "std_0 = 9\n",
    "\n",
    "s2 = 0\n",
    "for i in range(n):\n",
    "    s2 += (data[i] - mean)**2\n",
    "s2 /= (n - 1)\n",
    "\n",
    "criterion = (n - 1) * s2 / std_0\n",
    "criterion"
   ]
  },
  {
   "cell_type": "markdown",
   "metadata": {},
   "source": [
    "<img src=\"2.jpg\">"
   ]
  },
  {
   "cell_type": "markdown",
   "metadata": {},
   "source": [
    "## Проверить гипотезу о значении дисперсии распределения для уровня значимости $\\alpha = 0.05$."
   ]
  },
  {
   "cell_type": "markdown",
   "metadata": {},
   "source": [
    "Следовательно, для правосторонней гипотезы:"
   ]
  },
  {
   "cell_type": "code",
   "execution_count": 54,
   "metadata": {},
   "outputs": [
    {
     "data": {
      "text/plain": [
       "9.801382711449591e-06"
      ]
     },
     "execution_count": 54,
     "metadata": {},
     "output_type": "execute_result"
    }
   ],
   "source": [
    "p = 1 - st.distributions.chi2.cdf(criterion, n - 1)\n",
    "p"
   ]
  },
  {
   "cell_type": "markdown",
   "metadata": {},
   "source": [
    "$p-value < 0.05$, значит нулевая гипотеза отвергается."
   ]
  },
  {
   "cell_type": "markdown",
   "metadata": {},
   "source": [
    "## Вывести и получить доверительный интервал для значения дисперсии при $\\alpha = 0.05$."
   ]
  },
  {
   "cell_type": "markdown",
   "metadata": {},
   "source": [
    "<font size=\"5\">\n",
    "$\\mathbb{P}(\\chi^2_{1 - \\frac{\\alpha}{2}, n - 1} < criterion < \\chi^2_{\\frac{\\alpha}{2}, n - 1}) = 1 - \\alpha$\n",
    "</font>    "
   ]
  },
  {
   "cell_type": "markdown",
   "metadata": {},
   "source": [
    "<font size=\"5\">\n",
    "$\\mathbb{P}(\\chi^2_{1 - \\frac{\\alpha}{2}, n - 1} < \\frac{s^2\\cdot (n - 1)}{\\sigma^2} < \\chi^2_{\\frac{\\alpha}{2}, n - 1}) = 1 - \\alpha$\n",
    "</font>"
   ]
  },
  {
   "cell_type": "markdown",
   "metadata": {},
   "source": [
    "<font size=\"5\">\n",
    "$\\mathbb{P}(\\frac{s^2\\cdot (n - 1)}{\\chi^2_{1 - \\frac{\\alpha}{2}, n - 1}} < \\sigma^2 < \\frac{s^2\\cdot (n - 1)}{\\chi^2_{\\frac{\\alpha}{2}, n - 1}}) = 1 - \\alpha$\n",
    "</font>"
   ]
  },
  {
   "cell_type": "markdown",
   "metadata": {},
   "source": [
    "<font size=\"5\">\n",
    "Доверительные интервалы для дисперсии: $\\left[\\sqrt{\\frac{s^2\\cdot (n - 1)}{\\chi^2_{1 - \\frac{\\alpha}{2}, n - 1}}}; \\sqrt{\\frac{s^2\\cdot (n - 1)}{\\chi^2_{\\frac{\\alpha}{2}, n - 1}}}\\right]$\n",
    "</font>"
   ]
  },
  {
   "cell_type": "code",
   "execution_count": 58,
   "metadata": {},
   "outputs": [
    {
     "name": "stdout",
     "output_type": "stream",
     "text": [
      "Доверительный интервал для значения дисперсии при alpha = 0.05 равны [ 12.95 ; 34.37 ]\n"
     ]
    }
   ],
   "source": [
    "alpha = 0.05\n",
    "left = s* (n - 1) / (st.chi2(n - 1).ppf(1 - (alpha / 2)))\n",
    "right = s* (n - 1) / (st.chi2(n - 1).ppf(alpha / 2))\n",
    "print(\"Доверительный интервал для значения дисперсии при alpha = 0.05 равны [\",\n",
    "      np.sqrt(left).round(2), \";\", np.sqrt(right).round(2), \"]\" )"
   ]
  }
 ],
 "metadata": {
  "kernelspec": {
   "display_name": "Python 3",
   "language": "python",
   "name": "python3"
  },
  "language_info": {
   "codemirror_mode": {
    "name": "ipython",
    "version": 3
   },
   "file_extension": ".py",
   "mimetype": "text/x-python",
   "name": "python",
   "nbconvert_exporter": "python",
   "pygments_lexer": "ipython3",
   "version": "3.8.5"
  }
 },
 "nbformat": 4,
 "nbformat_minor": 4
}
