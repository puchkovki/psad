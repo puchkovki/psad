{
 "cells": [
  {
   "cell_type": "code",
   "execution_count": 1,
   "metadata": {},
   "outputs": [],
   "source": [
    "import pandas as pd\n",
    "from scipy import stats as st"
   ]
  },
  {
   "cell_type": "code",
   "execution_count": 2,
   "metadata": {},
   "outputs": [],
   "source": [
    "data = pd.read_csv('puchkov.k@phystech.edu.csv', header=None)"
   ]
  },
  {
   "cell_type": "code",
   "execution_count": 3,
   "metadata": {},
   "outputs": [
    {
     "data": {
      "text/html": [
       "<div>\n",
       "<style scoped>\n",
       "    .dataframe tbody tr th:only-of-type {\n",
       "        vertical-align: middle;\n",
       "    }\n",
       "\n",
       "    .dataframe tbody tr th {\n",
       "        vertical-align: top;\n",
       "    }\n",
       "\n",
       "    .dataframe thead th {\n",
       "        text-align: right;\n",
       "    }\n",
       "</style>\n",
       "<table border=\"1\" class=\"dataframe\">\n",
       "  <thead>\n",
       "    <tr style=\"text-align: right;\">\n",
       "      <th></th>\n",
       "      <th>0</th>\n",
       "      <th>1</th>\n",
       "      <th>2</th>\n",
       "      <th>3</th>\n",
       "      <th>4</th>\n",
       "      <th>5</th>\n",
       "      <th>6</th>\n",
       "    </tr>\n",
       "  </thead>\n",
       "  <tbody>\n",
       "    <tr>\n",
       "      <th>23</th>\n",
       "      <td>-0.917317</td>\n",
       "      <td>0.532543</td>\n",
       "      <td>-1.519402</td>\n",
       "      <td>-0.090229</td>\n",
       "      <td>-1.357987</td>\n",
       "      <td>0.384302</td>\n",
       "      <td>1.281841</td>\n",
       "    </tr>\n",
       "    <tr>\n",
       "      <th>29</th>\n",
       "      <td>-2.433938</td>\n",
       "      <td>0.484132</td>\n",
       "      <td>-1.477338</td>\n",
       "      <td>0.440098</td>\n",
       "      <td>-1.139790</td>\n",
       "      <td>1.673886</td>\n",
       "      <td>1.634275</td>\n",
       "    </tr>\n",
       "    <tr>\n",
       "      <th>11</th>\n",
       "      <td>-2.035249</td>\n",
       "      <td>2.988589</td>\n",
       "      <td>0.789031</td>\n",
       "      <td>0.960914</td>\n",
       "      <td>0.589665</td>\n",
       "      <td>0.058482</td>\n",
       "      <td>-1.003099</td>\n",
       "    </tr>\n",
       "    <tr>\n",
       "      <th>10</th>\n",
       "      <td>-0.392056</td>\n",
       "      <td>1.490833</td>\n",
       "      <td>1.468181</td>\n",
       "      <td>0.117432</td>\n",
       "      <td>0.586793</td>\n",
       "      <td>-1.191817</td>\n",
       "      <td>1.727964</td>\n",
       "    </tr>\n",
       "    <tr>\n",
       "      <th>4</th>\n",
       "      <td>-2.002677</td>\n",
       "      <td>-0.728479</td>\n",
       "      <td>0.052631</td>\n",
       "      <td>-0.329110</td>\n",
       "      <td>0.567376</td>\n",
       "      <td>2.192174</td>\n",
       "      <td>0.819236</td>\n",
       "    </tr>\n",
       "  </tbody>\n",
       "</table>\n",
       "</div>"
      ],
      "text/plain": [
       "           0         1         2         3         4         5         6\n",
       "23 -0.917317  0.532543 -1.519402 -0.090229 -1.357987  0.384302  1.281841\n",
       "29 -2.433938  0.484132 -1.477338  0.440098 -1.139790  1.673886  1.634275\n",
       "11 -2.035249  2.988589  0.789031  0.960914  0.589665  0.058482 -1.003099\n",
       "10 -0.392056  1.490833  1.468181  0.117432  0.586793 -1.191817  1.727964\n",
       "4  -2.002677 -0.728479  0.052631 -0.329110  0.567376  2.192174  0.819236"
      ]
     },
     "execution_count": 3,
     "metadata": {},
     "output_type": "execute_result"
    }
   ],
   "source": [
    "data.sample(5)"
   ]
  },
  {
   "cell_type": "code",
   "execution_count": 4,
   "metadata": {},
   "outputs": [
    {
     "data": {
      "text/html": [
       "<div>\n",
       "<style scoped>\n",
       "    .dataframe tbody tr th:only-of-type {\n",
       "        vertical-align: middle;\n",
       "    }\n",
       "\n",
       "    .dataframe tbody tr th {\n",
       "        vertical-align: top;\n",
       "    }\n",
       "\n",
       "    .dataframe thead th {\n",
       "        text-align: right;\n",
       "    }\n",
       "</style>\n",
       "<table border=\"1\" class=\"dataframe\">\n",
       "  <thead>\n",
       "    <tr style=\"text-align: right;\">\n",
       "      <th></th>\n",
       "      <th>0</th>\n",
       "      <th>1</th>\n",
       "      <th>2</th>\n",
       "      <th>3</th>\n",
       "      <th>4</th>\n",
       "      <th>5</th>\n",
       "      <th>6</th>\n",
       "    </tr>\n",
       "  </thead>\n",
       "  <tbody>\n",
       "    <tr>\n",
       "      <th>count</th>\n",
       "      <td>30.000000</td>\n",
       "      <td>30.000000</td>\n",
       "      <td>30.000000</td>\n",
       "      <td>30.000000</td>\n",
       "      <td>30.000000</td>\n",
       "      <td>30.000000</td>\n",
       "      <td>30.000000</td>\n",
       "    </tr>\n",
       "    <tr>\n",
       "      <th>mean</th>\n",
       "      <td>-0.972094</td>\n",
       "      <td>0.848470</td>\n",
       "      <td>0.100682</td>\n",
       "      <td>0.498381</td>\n",
       "      <td>0.247933</td>\n",
       "      <td>0.580504</td>\n",
       "      <td>1.124463</td>\n",
       "    </tr>\n",
       "    <tr>\n",
       "      <th>std</th>\n",
       "      <td>0.931788</td>\n",
       "      <td>1.109865</td>\n",
       "      <td>1.158746</td>\n",
       "      <td>0.948012</td>\n",
       "      <td>0.846485</td>\n",
       "      <td>0.997153</td>\n",
       "      <td>1.177982</td>\n",
       "    </tr>\n",
       "    <tr>\n",
       "      <th>min</th>\n",
       "      <td>-2.579535</td>\n",
       "      <td>-1.664701</td>\n",
       "      <td>-1.859575</td>\n",
       "      <td>-0.781099</td>\n",
       "      <td>-1.357987</td>\n",
       "      <td>-2.172264</td>\n",
       "      <td>-1.130958</td>\n",
       "    </tr>\n",
       "    <tr>\n",
       "      <th>25%</th>\n",
       "      <td>-1.766953</td>\n",
       "      <td>0.212501</td>\n",
       "      <td>-0.814459</td>\n",
       "      <td>-0.182381</td>\n",
       "      <td>-0.213341</td>\n",
       "      <td>0.114758</td>\n",
       "      <td>0.648069</td>\n",
       "    </tr>\n",
       "    <tr>\n",
       "      <th>50%</th>\n",
       "      <td>-0.918178</td>\n",
       "      <td>1.066367</td>\n",
       "      <td>0.228887</td>\n",
       "      <td>0.474213</td>\n",
       "      <td>0.384913</td>\n",
       "      <td>0.638803</td>\n",
       "      <td>1.267508</td>\n",
       "    </tr>\n",
       "    <tr>\n",
       "      <th>75%</th>\n",
       "      <td>-0.415852</td>\n",
       "      <td>1.503958</td>\n",
       "      <td>0.832125</td>\n",
       "      <td>0.944106</td>\n",
       "      <td>0.669977</td>\n",
       "      <td>1.309557</td>\n",
       "      <td>1.925814</td>\n",
       "    </tr>\n",
       "    <tr>\n",
       "      <th>max</th>\n",
       "      <td>0.610077</td>\n",
       "      <td>2.988589</td>\n",
       "      <td>2.318492</td>\n",
       "      <td>3.796164</td>\n",
       "      <td>1.912020</td>\n",
       "      <td>2.411502</td>\n",
       "      <td>3.861457</td>\n",
       "    </tr>\n",
       "  </tbody>\n",
       "</table>\n",
       "</div>"
      ],
      "text/plain": [
       "               0          1          2          3          4          5  \\\n",
       "count  30.000000  30.000000  30.000000  30.000000  30.000000  30.000000   \n",
       "mean   -0.972094   0.848470   0.100682   0.498381   0.247933   0.580504   \n",
       "std     0.931788   1.109865   1.158746   0.948012   0.846485   0.997153   \n",
       "min    -2.579535  -1.664701  -1.859575  -0.781099  -1.357987  -2.172264   \n",
       "25%    -1.766953   0.212501  -0.814459  -0.182381  -0.213341   0.114758   \n",
       "50%    -0.918178   1.066367   0.228887   0.474213   0.384913   0.638803   \n",
       "75%    -0.415852   1.503958   0.832125   0.944106   0.669977   1.309557   \n",
       "max     0.610077   2.988589   2.318492   3.796164   1.912020   2.411502   \n",
       "\n",
       "               6  \n",
       "count  30.000000  \n",
       "mean    1.124463  \n",
       "std     1.177982  \n",
       "min    -1.130958  \n",
       "25%     0.648069  \n",
       "50%     1.267508  \n",
       "75%     1.925814  \n",
       "max     3.861457  "
      ]
     },
     "execution_count": 4,
     "metadata": {},
     "output_type": "execute_result"
    }
   ],
   "source": [
    "data.describe()"
   ]
  },
  {
   "cell_type": "code",
   "execution_count": 8,
   "metadata": {},
   "outputs": [
    {
     "data": {
      "text/plain": [
       "(30, 7)"
      ]
     },
     "execution_count": 8,
     "metadata": {},
     "output_type": "execute_result"
    }
   ],
   "source": [
    "data.shape"
   ]
  },
  {
   "cell_type": "markdown",
   "metadata": {},
   "source": [
    "Воспользуемся t-критерем о сравнении средних для всех пар из столбцов выборки. Для какого количества пар из столбцов отвергается гипотеза о совпадении среднего?"
   ]
  },
  {
   "cell_type": "code",
   "execution_count": 6,
   "metadata": {},
   "outputs": [
    {
     "name": "stdout",
     "output_type": "stream",
     "text": [
      "Для 11 пар\n"
     ]
    }
   ],
   "source": [
    "from itertools import combinations\n",
    "\n",
    "def pairwise_ttest(data: pd.DataFrame, alpha: float = 0.05) -> int:\n",
    "    \"\"\"Returns count of pairwise columns with different means and its pvals.\"\"\"\n",
    "    cols = 0\n",
    "    pvals = []\n",
    "\n",
    "    for col1, col2 in combinations(data.columns, 2):\n",
    "        # p-value для критерия Стьюдента для независимых выборок\n",
    "        pvalue = st.ttest_ind(data[col1], data[col2])[1]\n",
    "        pvals.append(pvalue)\n",
    "        if pvalue <= 0.05:\n",
    "            cols += 1\n",
    "    return cols, pvals\n",
    "\n",
    "print(f'Для {pairwise_ttest(data)[0]} пар')"
   ]
  },
  {
   "cell_type": "markdown",
   "metadata": {},
   "source": [
    "Значение уровня значимости при использовании поправки Бонферрони ($\\alpha$=0.05)"
   ]
  },
  {
   "cell_type": "code",
   "execution_count": 9,
   "metadata": {},
   "outputs": [
    {
     "name": "stdout",
     "output_type": "stream",
     "text": [
      "Уровень значимости = 0.002\n"
     ]
    }
   ],
   "source": [
    "from statsmodels.stats.multitest import multipletests\n",
    "\n",
    "pvals = pairwise_ttest(data)[1]\n",
    "\n",
    "p_new = multipletests(pvals, method='bonferroni')[-1]\n",
    "print(f'Уровень значимости = {p_new:0.3f}')"
   ]
  },
  {
   "cell_type": "markdown",
   "metadata": {},
   "source": [
    "Для какого количества пар из столбцов отвергается гипотеза о совпадении среднего при использовании поправки Бонферрони?"
   ]
  },
  {
   "cell_type": "code",
   "execution_count": 13,
   "metadata": {},
   "outputs": [
    {
     "name": "stdout",
     "output_type": "stream",
     "text": [
      "Отвергли для 8 пар столбцов\n"
     ]
    }
   ],
   "source": [
    "pvals = pairwise_ttest(data)[1]\n",
    "\n",
    "rejected = multipletests(pvals, method='bonferroni')[0].sum()\n",
    "print(f'Отвергли для {rejected} пар столбцов')"
   ]
  },
  {
   "cell_type": "markdown",
   "metadata": {},
   "source": [
    "Для какого количества пар из столбцов отвергается гипотеза о совпадении среднего при использовании метода Холма?"
   ]
  },
  {
   "cell_type": "code",
   "execution_count": 11,
   "metadata": {},
   "outputs": [
    {
     "name": "stdout",
     "output_type": "stream",
     "text": [
      "Отвергли для 8 пар столбцов\n"
     ]
    }
   ],
   "source": [
    "pvals = pairwise_ttest(data)[1]\n",
    "\n",
    "rejected = multipletests(pvals, method='holm')[0].sum()\n",
    "print(f'Отвергли для {rejected} пар столбцов')"
   ]
  },
  {
   "cell_type": "markdown",
   "metadata": {},
   "source": [
    "Оценка $m_0$ по методу Шведера-Спьётволла ($\\lambda$ = 0.5) "
   ]
  },
  {
   "cell_type": "code",
   "execution_count": 13,
   "metadata": {},
   "outputs": [],
   "source": [
    "def shveder_spjetvoll(p_values: list, lambd_s: float = 0.5) -> float:\n",
    "    len_bigger_lambd = len(list(filter(lambda x: x > lambd_s, p_values)))\n",
    "    return (1 / (1 - lambd_s) * (1 + len_bigger_lambd))"
   ]
  },
  {
   "cell_type": "code",
   "execution_count": 14,
   "metadata": {},
   "outputs": [
    {
     "name": "stdout",
     "output_type": "stream",
     "text": [
      "mu_0 = 6.0\n"
     ]
    }
   ],
   "source": [
    "pvals = pairwise_ttest(data)[1]\n",
    "\n",
    "print(f'mu_0 = {shveder_spjetvoll(pvals)}')"
   ]
  }
 ],
 "metadata": {
  "kernelspec": {
   "display_name": "Python 3",
   "language": "python",
   "name": "python3"
  },
  "language_info": {
   "codemirror_mode": {
    "name": "ipython",
    "version": 3
   },
   "file_extension": ".py",
   "mimetype": "text/x-python",
   "name": "python",
   "nbconvert_exporter": "python",
   "pygments_lexer": "ipython3",
   "version": "3.8.5"
  }
 },
 "nbformat": 4,
 "nbformat_minor": 4
}
