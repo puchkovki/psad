{
 "cells": [
  {
   "cell_type": "code",
   "execution_count": 2,
   "metadata": {},
   "outputs": [
    {
     "data": {
      "text/html": [
       "<div>\n",
       "<style scoped>\n",
       "    .dataframe tbody tr th:only-of-type {\n",
       "        vertical-align: middle;\n",
       "    }\n",
       "\n",
       "    .dataframe tbody tr th {\n",
       "        vertical-align: top;\n",
       "    }\n",
       "\n",
       "    .dataframe thead th {\n",
       "        text-align: right;\n",
       "    }\n",
       "</style>\n",
       "<table border=\"1\" class=\"dataframe\">\n",
       "  <thead>\n",
       "    <tr style=\"text-align: right;\">\n",
       "      <th></th>\n",
       "      <th>0</th>\n",
       "    </tr>\n",
       "  </thead>\n",
       "  <tbody>\n",
       "    <tr>\n",
       "      <th>145</th>\n",
       "      <td>1.0</td>\n",
       "    </tr>\n",
       "    <tr>\n",
       "      <th>1375</th>\n",
       "      <td>0.0</td>\n",
       "    </tr>\n",
       "    <tr>\n",
       "      <th>2590</th>\n",
       "      <td>0.0</td>\n",
       "    </tr>\n",
       "    <tr>\n",
       "      <th>2371</th>\n",
       "      <td>1.0</td>\n",
       "    </tr>\n",
       "    <tr>\n",
       "      <th>4832</th>\n",
       "      <td>1.0</td>\n",
       "    </tr>\n",
       "  </tbody>\n",
       "</table>\n",
       "</div>"
      ],
      "text/plain": [
       "        0\n",
       "145   1.0\n",
       "1375  0.0\n",
       "2590  0.0\n",
       "2371  1.0\n",
       "4832  1.0"
      ]
     },
     "execution_count": 2,
     "metadata": {},
     "output_type": "execute_result"
    }
   ],
   "source": [
    "import pandas as pd\n",
    "\n",
    "data = pd.read_csv(\"puchkov.k@phystech.edu.csv\", header=None)\n",
    "data.sample(5)"
   ]
  },
  {
   "cell_type": "code",
   "execution_count": 3,
   "metadata": {},
   "outputs": [
    {
     "data": {
      "text/html": [
       "<div>\n",
       "<style scoped>\n",
       "    .dataframe tbody tr th:only-of-type {\n",
       "        vertical-align: middle;\n",
       "    }\n",
       "\n",
       "    .dataframe tbody tr th {\n",
       "        vertical-align: top;\n",
       "    }\n",
       "\n",
       "    .dataframe thead th {\n",
       "        text-align: right;\n",
       "    }\n",
       "</style>\n",
       "<table border=\"1\" class=\"dataframe\">\n",
       "  <thead>\n",
       "    <tr style=\"text-align: right;\">\n",
       "      <th></th>\n",
       "      <th>0</th>\n",
       "    </tr>\n",
       "  </thead>\n",
       "  <tbody>\n",
       "    <tr>\n",
       "      <th>count</th>\n",
       "      <td>5000.000000</td>\n",
       "    </tr>\n",
       "    <tr>\n",
       "      <th>mean</th>\n",
       "      <td>0.690000</td>\n",
       "    </tr>\n",
       "    <tr>\n",
       "      <th>std</th>\n",
       "      <td>0.462539</td>\n",
       "    </tr>\n",
       "    <tr>\n",
       "      <th>min</th>\n",
       "      <td>0.000000</td>\n",
       "    </tr>\n",
       "    <tr>\n",
       "      <th>25%</th>\n",
       "      <td>0.000000</td>\n",
       "    </tr>\n",
       "    <tr>\n",
       "      <th>50%</th>\n",
       "      <td>1.000000</td>\n",
       "    </tr>\n",
       "    <tr>\n",
       "      <th>75%</th>\n",
       "      <td>1.000000</td>\n",
       "    </tr>\n",
       "    <tr>\n",
       "      <th>max</th>\n",
       "      <td>1.000000</td>\n",
       "    </tr>\n",
       "  </tbody>\n",
       "</table>\n",
       "</div>"
      ],
      "text/plain": [
       "                 0\n",
       "count  5000.000000\n",
       "mean      0.690000\n",
       "std       0.462539\n",
       "min       0.000000\n",
       "25%       0.000000\n",
       "50%       1.000000\n",
       "75%       1.000000\n",
       "max       1.000000"
      ]
     },
     "execution_count": 3,
     "metadata": {},
     "output_type": "execute_result"
    }
   ],
   "source": [
    "data.describe()"
   ]
  },
  {
   "cell_type": "markdown",
   "metadata": {},
   "source": [
    "## Оценка вероятности методом максимального правдоподобия"
   ]
  },
  {
   "cell_type": "code",
   "execution_count": 4,
   "metadata": {},
   "outputs": [
    {
     "name": "stdout",
     "output_type": "stream",
     "text": [
      "Оценка вероятности методом максимального правдоподобия: 0.69\n"
     ]
    }
   ],
   "source": [
    "p = data.sum()/len(data)\n",
    "print('Оценка вероятности методом максимального правдоподобия:', p.round(3)[0])"
   ]
  },
  {
   "cell_type": "markdown",
   "metadata": {},
   "source": [
    "## С помощью последовательного анализа проверить нулевую гипотезу $p_0=0.5$ против $p$, полученной методом максимального правдоподобия. Использовать библиотеку $sprt$ с $\\alpha=\\beta=0.05$. Гипотеза принимается?"
   ]
  },
  {
   "cell_type": "code",
   "execution_count": 24,
   "metadata": {},
   "outputs": [
    {
     "name": "stdout",
     "output_type": "stream",
     "text": [
      "Decision:\tReject\n",
      "\n",
      "      values     lower     upper\n",
      "n                               \n",
      "4991  3442.0  2978.221  2985.581\n",
      "4992  3443.0  2978.819  2986.179\n",
      "4993  3444.0  2979.416  2986.776\n",
      "4994  3444.0  2980.014  2987.374\n",
      "4995  3445.0  2980.611  2987.971\n",
      "4996  3446.0  2981.208  2988.568\n",
      "4997  3447.0  2981.806  2989.166\n",
      "4998  3448.0  2982.403  2989.763\n",
      "4999  3449.0  2983.001  2990.361\n",
      "5000  3450.0  2983.598  2990.958\n"
     ]
    },
    {
     "data": {
      "image/png": "[encoded data removed]",
      "text/plain": [
       "<Figure size 576x432 with 1 Axes>"
      ]
     },
     "metadata": {
      "needs_background": "light"
     },
     "output_type": "display_data"
    }
   ],
   "source": [
    "import sprt\n",
    "\n",
    "alpha = beta = 0.05\n",
    "test = sprt.SPRTBinomial(alpha=alpha, beta=beta, h0=0.5, h1=p[0], values=data.values)\n",
    "test.plot()"
   ]
  },
  {
   "cell_type": "markdown",
   "metadata": {},
   "source": [
    "## Какое минимальное количество итераций требуется для вынесения решения по данной гипотезе?"
   ]
  },
  {
   "cell_type": "code",
   "execution_count": 32,
   "metadata": {
    "scrolled": false
   },
   "outputs": [
    {
     "name": "stdout",
     "output_type": "stream",
     "text": [
      "Decision:\tReject\n",
      "\n",
      "    values   lower   upper\n",
      "n                         \n",
      "56    36.0  29.778  37.138\n",
      "57    37.0  30.375  37.735\n",
      "58    37.0  30.972  38.332\n",
      "59    38.0  31.570  38.930\n",
      "60    39.0  32.167  39.527\n",
      "61    40.0  32.765  40.125\n",
      "62    41.0  33.362  40.722\n",
      "63    42.0  33.960  41.320\n",
      "64    42.0  34.557  41.917\n",
      "65    43.0  35.155  42.515\n"
     ]
    },
    {
     "data": {
      "image/png": "[encoded data removed]",
      "text/plain": [
       "<Figure size 576x432 with 1 Axes>"
      ]
     },
     "metadata": {
      "needs_background": "light"
     },
     "output_type": "display_data"
    }
   ],
   "source": [
    "data_new = data[:65]\n",
    "test = sprt.SPRTBinomial(alpha=alpha, beta=beta, h0=0.5, h1=p[0], values=data_new.values)\n",
    "test.plot()"
   ]
  },
  {
   "cell_type": "markdown",
   "metadata": {},
   "source": [
    "**Видно, что $value$ превышает $upper$ впервые при $n=62$.**"
   ]
  },
  {
   "cell_type": "markdown",
   "metadata": {},
   "source": [
    "## Матожидание требуемого количества итераций (можно использовать scipy.optimize.root_scalar). За истинное значение параметра принимать МП-оценку."
   ]
  },
  {
   "cell_type": "code",
   "execution_count": 35,
   "metadata": {},
   "outputs": [],
   "source": [
    "def expectation(p, p_0, alpha, beta, h):\n",
    "    A = (1 - beta)/alpha\n",
    "    B = beta/(1 - alpha)\n",
    "    L = (A**h - 1)/(A**h - B**h)\n",
    "    \n",
    "    result = (L * np.log(B) + (1 - L) * np.log(A))/ (p * np.log(p/p_0) + (1 - p) * np.log((1 - p)/(1 - p_0)) )\n",
    "    \n",
    "    return result"
   ]
  },
  {
   "cell_type": "code",
   "execution_count": 40,
   "metadata": {},
   "outputs": [
    {
     "name": "stdout",
     "output_type": "stream",
     "text": [
      "      converged: True\n",
      "           flag: 'converged'\n",
      " function_calls: 11\n",
      "     iterations: 10\n",
      "           root: -1.0000000000000002\n",
      "\n",
      " Математическое ожидание числа итераций: 35\n"
     ]
    }
   ],
   "source": [
    "import scipy\n",
    "import scipy.stats as st\n",
    "\n",
    "p = data.sum()/len(data)\n",
    "p_0 = 0.5\n",
    "alpha = beta = 0.05\n",
    "\n",
    "def f(x):\n",
    "    s = (1 - ((1 - p)/(1 - p_0))**x)/((p/p_0)**x - ((1 - p)/(1 - p_0))**x ) - p\n",
    "    return s\n",
    "\n",
    "solution = scipy.optimize.root_scalar(f, bracket=[-15, 15], method='brentq')\n",
    "print(solution)\n",
    "h = solution.root\n",
    "print('\\n Математическое ожидание числа итераций:', int(expectation(p, p_0, alpha, beta, h)[0]))"
   ]
  }
 ],
 "metadata": {
  "kernelspec": {
   "display_name": "Python 3",
   "language": "python",
   "name": "python3"
  },
  "language_info": {
   "codemirror_mode": {
    "name": "ipython",
    "version": 3
   },
   "file_extension": ".py",
   "mimetype": "text/x-python",
   "name": "python",
   "nbconvert_exporter": "python",
   "pygments_lexer": "ipython3",
   "version": "3.8.5"
  }
 },
 "nbformat": 4,
 "nbformat_minor": 4
}
