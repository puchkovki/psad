{
 "cells": [
  {
   "cell_type": "code",
   "execution_count": 1,
   "metadata": {},
   "outputs": [
    {
     "data": {
      "text/html": [
       "<div>\n",
       "<style scoped>\n",
       "    .dataframe tbody tr th:only-of-type {\n",
       "        vertical-align: middle;\n",
       "    }\n",
       "\n",
       "    .dataframe tbody tr th {\n",
       "        vertical-align: top;\n",
       "    }\n",
       "\n",
       "    .dataframe thead th {\n",
       "        text-align: right;\n",
       "    }\n",
       "</style>\n",
       "<table border=\"1\" class=\"dataframe\">\n",
       "  <thead>\n",
       "    <tr style=\"text-align: right;\">\n",
       "      <th></th>\n",
       "      <th>0</th>\n",
       "      <th>1</th>\n",
       "      <th>2</th>\n",
       "      <th>3</th>\n",
       "      <th>4</th>\n",
       "      <th>5</th>\n",
       "      <th>6</th>\n",
       "      <th>7</th>\n",
       "      <th>8</th>\n",
       "      <th>9</th>\n",
       "      <th>10</th>\n",
       "    </tr>\n",
       "  </thead>\n",
       "  <tbody>\n",
       "    <tr>\n",
       "      <th>791</th>\n",
       "      <td>11.983625</td>\n",
       "      <td>-0.878277</td>\n",
       "      <td>-0.104012</td>\n",
       "      <td>0.263148</td>\n",
       "      <td>0.757457</td>\n",
       "      <td>1.075191</td>\n",
       "      <td>0.015871</td>\n",
       "      <td>-0.629975</td>\n",
       "      <td>0.236522</td>\n",
       "      <td>0.625149</td>\n",
       "      <td>0.241363</td>\n",
       "    </tr>\n",
       "    <tr>\n",
       "      <th>810</th>\n",
       "      <td>30.445128</td>\n",
       "      <td>-1.801393</td>\n",
       "      <td>1.718905</td>\n",
       "      <td>-1.293234</td>\n",
       "      <td>-0.018573</td>\n",
       "      <td>-0.242463</td>\n",
       "      <td>0.691569</td>\n",
       "      <td>-0.040810</td>\n",
       "      <td>0.321840</td>\n",
       "      <td>-1.957758</td>\n",
       "      <td>0.285629</td>\n",
       "    </tr>\n",
       "    <tr>\n",
       "      <th>594</th>\n",
       "      <td>28.897669</td>\n",
       "      <td>-0.308582</td>\n",
       "      <td>1.337405</td>\n",
       "      <td>1.534307</td>\n",
       "      <td>-1.151278</td>\n",
       "      <td>-0.233942</td>\n",
       "      <td>-0.111139</td>\n",
       "      <td>-0.362586</td>\n",
       "      <td>0.864458</td>\n",
       "      <td>-1.006416</td>\n",
       "      <td>1.363860</td>\n",
       "    </tr>\n",
       "    <tr>\n",
       "      <th>96</th>\n",
       "      <td>28.965600</td>\n",
       "      <td>-0.390025</td>\n",
       "      <td>-1.316169</td>\n",
       "      <td>0.208652</td>\n",
       "      <td>2.200417</td>\n",
       "      <td>-0.748539</td>\n",
       "      <td>-0.060796</td>\n",
       "      <td>-1.313822</td>\n",
       "      <td>1.918129</td>\n",
       "      <td>-1.210046</td>\n",
       "      <td>-0.079093</td>\n",
       "    </tr>\n",
       "    <tr>\n",
       "      <th>283</th>\n",
       "      <td>29.332522</td>\n",
       "      <td>-1.992610</td>\n",
       "      <td>0.051328</td>\n",
       "      <td>0.467312</td>\n",
       "      <td>-0.742381</td>\n",
       "      <td>1.391216</td>\n",
       "      <td>-0.996733</td>\n",
       "      <td>0.679204</td>\n",
       "      <td>0.854173</td>\n",
       "      <td>1.095426</td>\n",
       "      <td>-0.886425</td>\n",
       "    </tr>\n",
       "  </tbody>\n",
       "</table>\n",
       "</div>"
      ],
      "text/plain": [
       "            0         1         2         3         4         5         6   \\\n",
       "791  11.983625 -0.878277 -0.104012  0.263148  0.757457  1.075191  0.015871   \n",
       "810  30.445128 -1.801393  1.718905 -1.293234 -0.018573 -0.242463  0.691569   \n",
       "594  28.897669 -0.308582  1.337405  1.534307 -1.151278 -0.233942 -0.111139   \n",
       "96   28.965600 -0.390025 -1.316169  0.208652  2.200417 -0.748539 -0.060796   \n",
       "283  29.332522 -1.992610  0.051328  0.467312 -0.742381  1.391216 -0.996733   \n",
       "\n",
       "           7         8         9         10  \n",
       "791 -0.629975  0.236522  0.625149  0.241363  \n",
       "810 -0.040810  0.321840 -1.957758  0.285629  \n",
       "594 -0.362586  0.864458 -1.006416  1.363860  \n",
       "96  -1.313822  1.918129 -1.210046 -0.079093  \n",
       "283  0.679204  0.854173  1.095426 -0.886425  "
      ]
     },
     "execution_count": 1,
     "metadata": {},
     "output_type": "execute_result"
    }
   ],
   "source": [
    "import pandas as pd\n",
    "\n",
    "data = pd.read_csv(\"puchkov.k@phystech.edu.csv\", header=None)\n",
    "data.sample(5)"
   ]
  },
  {
   "cell_type": "markdown",
   "metadata": {},
   "source": [
    "### В выборке содержится зависимая переменная $Y$ (первый столбец) и переменные $X$ (остальные столбцы)."
   ]
  },
  {
   "cell_type": "code",
   "execution_count": 2,
   "metadata": {},
   "outputs": [
    {
     "data": {
      "text/plain": [
       "['Y', 'X0', 'X1', 'X2', 'X3', 'X4', 'X5', 'X6', 'X7', 'X8', 'X9']"
      ]
     },
     "execution_count": 2,
     "metadata": {},
     "output_type": "execute_result"
    }
   ],
   "source": [
    "column_names = list(map(lambda num: f\"X{num - 1}\", data.columns))\n",
    "column_names[0] = 'Y'\n",
    "column_names"
   ]
  },
  {
   "cell_type": "code",
   "execution_count": 3,
   "metadata": {},
   "outputs": [
    {
     "data": {
      "text/html": [
       "<div>\n",
       "<style scoped>\n",
       "    .dataframe tbody tr th:only-of-type {\n",
       "        vertical-align: middle;\n",
       "    }\n",
       "\n",
       "    .dataframe tbody tr th {\n",
       "        vertical-align: top;\n",
       "    }\n",
       "\n",
       "    .dataframe thead th {\n",
       "        text-align: right;\n",
       "    }\n",
       "</style>\n",
       "<table border=\"1\" class=\"dataframe\">\n",
       "  <thead>\n",
       "    <tr style=\"text-align: right;\">\n",
       "      <th></th>\n",
       "      <th>Y</th>\n",
       "      <th>X0</th>\n",
       "      <th>X1</th>\n",
       "      <th>X2</th>\n",
       "      <th>X3</th>\n",
       "      <th>X4</th>\n",
       "      <th>X5</th>\n",
       "      <th>X6</th>\n",
       "      <th>X7</th>\n",
       "      <th>X8</th>\n",
       "      <th>X9</th>\n",
       "    </tr>\n",
       "  </thead>\n",
       "  <tbody>\n",
       "    <tr>\n",
       "      <th>count</th>\n",
       "      <td>1000.000000</td>\n",
       "      <td>1000.000000</td>\n",
       "      <td>1000.000000</td>\n",
       "      <td>1000.000000</td>\n",
       "      <td>1000.000000</td>\n",
       "      <td>1000.000000</td>\n",
       "      <td>1000.000000</td>\n",
       "      <td>1000.000000</td>\n",
       "      <td>1000.000000</td>\n",
       "      <td>1000.000000</td>\n",
       "      <td>1000.000000</td>\n",
       "    </tr>\n",
       "    <tr>\n",
       "      <th>mean</th>\n",
       "      <td>29.089372</td>\n",
       "      <td>0.002714</td>\n",
       "      <td>-0.004323</td>\n",
       "      <td>0.034049</td>\n",
       "      <td>-0.000228</td>\n",
       "      <td>0.008352</td>\n",
       "      <td>-0.012202</td>\n",
       "      <td>0.010559</td>\n",
       "      <td>-0.031931</td>\n",
       "      <td>-0.055138</td>\n",
       "      <td>0.045639</td>\n",
       "    </tr>\n",
       "    <tr>\n",
       "      <th>std</th>\n",
       "      <td>5.704180</td>\n",
       "      <td>0.984356</td>\n",
       "      <td>1.009666</td>\n",
       "      <td>1.002280</td>\n",
       "      <td>1.031709</td>\n",
       "      <td>1.021477</td>\n",
       "      <td>0.977746</td>\n",
       "      <td>1.007578</td>\n",
       "      <td>0.996118</td>\n",
       "      <td>0.988348</td>\n",
       "      <td>1.008778</td>\n",
       "    </tr>\n",
       "    <tr>\n",
       "      <th>min</th>\n",
       "      <td>0.010000</td>\n",
       "      <td>-2.884090</td>\n",
       "      <td>-3.063602</td>\n",
       "      <td>-2.989517</td>\n",
       "      <td>-3.194757</td>\n",
       "      <td>-3.165991</td>\n",
       "      <td>-3.296268</td>\n",
       "      <td>-2.789797</td>\n",
       "      <td>-3.693899</td>\n",
       "      <td>-3.306330</td>\n",
       "      <td>-3.262003</td>\n",
       "    </tr>\n",
       "    <tr>\n",
       "      <th>25%</th>\n",
       "      <td>26.907438</td>\n",
       "      <td>-0.656741</td>\n",
       "      <td>-0.666798</td>\n",
       "      <td>-0.652228</td>\n",
       "      <td>-0.693203</td>\n",
       "      <td>-0.698233</td>\n",
       "      <td>-0.631178</td>\n",
       "      <td>-0.644939</td>\n",
       "      <td>-0.688157</td>\n",
       "      <td>-0.745083</td>\n",
       "      <td>-0.629610</td>\n",
       "    </tr>\n",
       "    <tr>\n",
       "      <th>50%</th>\n",
       "      <td>28.965717</td>\n",
       "      <td>-0.022630</td>\n",
       "      <td>-0.002235</td>\n",
       "      <td>0.026396</td>\n",
       "      <td>-0.010131</td>\n",
       "      <td>0.014361</td>\n",
       "      <td>-0.007937</td>\n",
       "      <td>0.038990</td>\n",
       "      <td>-0.022332</td>\n",
       "      <td>-0.062608</td>\n",
       "      <td>0.034694</td>\n",
       "    </tr>\n",
       "    <tr>\n",
       "      <th>75%</th>\n",
       "      <td>31.180286</td>\n",
       "      <td>0.749966</td>\n",
       "      <td>0.673662</td>\n",
       "      <td>0.712031</td>\n",
       "      <td>0.706913</td>\n",
       "      <td>0.674014</td>\n",
       "      <td>0.687510</td>\n",
       "      <td>0.710347</td>\n",
       "      <td>0.645521</td>\n",
       "      <td>0.619124</td>\n",
       "      <td>0.689879</td>\n",
       "    </tr>\n",
       "    <tr>\n",
       "      <th>max</th>\n",
       "      <td>55.048099</td>\n",
       "      <td>2.933951</td>\n",
       "      <td>3.288487</td>\n",
       "      <td>3.144040</td>\n",
       "      <td>3.128388</td>\n",
       "      <td>2.871982</td>\n",
       "      <td>2.878286</td>\n",
       "      <td>3.464959</td>\n",
       "      <td>3.052889</td>\n",
       "      <td>2.837699</td>\n",
       "      <td>3.256963</td>\n",
       "    </tr>\n",
       "  </tbody>\n",
       "</table>\n",
       "</div>"
      ],
      "text/plain": [
       "                 Y           X0           X1           X2           X3  \\\n",
       "count  1000.000000  1000.000000  1000.000000  1000.000000  1000.000000   \n",
       "mean     29.089372     0.002714    -0.004323     0.034049    -0.000228   \n",
       "std       5.704180     0.984356     1.009666     1.002280     1.031709   \n",
       "min       0.010000    -2.884090    -3.063602    -2.989517    -3.194757   \n",
       "25%      26.907438    -0.656741    -0.666798    -0.652228    -0.693203   \n",
       "50%      28.965717    -0.022630    -0.002235     0.026396    -0.010131   \n",
       "75%      31.180286     0.749966     0.673662     0.712031     0.706913   \n",
       "max      55.048099     2.933951     3.288487     3.144040     3.128388   \n",
       "\n",
       "                X4           X5           X6           X7           X8  \\\n",
       "count  1000.000000  1000.000000  1000.000000  1000.000000  1000.000000   \n",
       "mean      0.008352    -0.012202     0.010559    -0.031931    -0.055138   \n",
       "std       1.021477     0.977746     1.007578     0.996118     0.988348   \n",
       "min      -3.165991    -3.296268    -2.789797    -3.693899    -3.306330   \n",
       "25%      -0.698233    -0.631178    -0.644939    -0.688157    -0.745083   \n",
       "50%       0.014361    -0.007937     0.038990    -0.022332    -0.062608   \n",
       "75%       0.674014     0.687510     0.710347     0.645521     0.619124   \n",
       "max       2.871982     2.878286     3.464959     3.052889     2.837699   \n",
       "\n",
       "                X9  \n",
       "count  1000.000000  \n",
       "mean      0.045639  \n",
       "std       1.008778  \n",
       "min      -3.262003  \n",
       "25%      -0.629610  \n",
       "50%       0.034694  \n",
       "75%       0.689879  \n",
       "max       3.256963  "
      ]
     },
     "execution_count": 3,
     "metadata": {},
     "output_type": "execute_result"
    }
   ],
   "source": [
    "data.columns = column_names\n",
    "data.describe()"
   ]
  },
  {
   "cell_type": "code",
   "execution_count": 4,
   "metadata": {},
   "outputs": [
    {
     "name": "stdout",
     "output_type": "stream",
     "text": [
      "(1000, 10) (1000,)\n"
     ]
    }
   ],
   "source": [
    "X = data.drop('Y', axis=1)\n",
    "y = data['Y']\n",
    "print(X.shape, y.shape)"
   ]
  },
  {
   "cell_type": "markdown",
   "metadata": {},
   "source": [
    "### Постройте линейную модель $Y$ от $X$ и свободного коэффициента."
   ]
  },
  {
   "cell_type": "code",
   "execution_count": 5,
   "metadata": {},
   "outputs": [
    {
     "data": {
      "text/html": [
       "<table class=\"simpletable\">\n",
       "<caption>OLS Regression Results</caption>\n",
       "<tr>\n",
       "  <th>Dep. Variable:</th>            <td>Y</td>        <th>  R-squared:         </th> <td>   0.011</td>\n",
       "</tr>\n",
       "<tr>\n",
       "  <th>Model:</th>                   <td>OLS</td>       <th>  Adj. R-squared:    </th> <td>   0.001</td>\n",
       "</tr>\n",
       "<tr>\n",
       "  <th>Method:</th>             <td>Least Squares</td>  <th>  F-statistic:       </th> <td>   1.064</td>\n",
       "</tr>\n",
       "<tr>\n",
       "  <th>Date:</th>             <td>Tue, 30 Mar 2021</td> <th>  Prob (F-statistic):</th>  <td> 0.387</td> \n",
       "</tr>\n",
       "<tr>\n",
       "  <th>Time:</th>                 <td>19:44:05</td>     <th>  Log-Likelihood:    </th> <td> -3154.3</td>\n",
       "</tr>\n",
       "<tr>\n",
       "  <th>No. Observations:</th>      <td>  1000</td>      <th>  AIC:               </th> <td>   6331.</td>\n",
       "</tr>\n",
       "<tr>\n",
       "  <th>Df Residuals:</th>          <td>   989</td>      <th>  BIC:               </th> <td>   6385.</td>\n",
       "</tr>\n",
       "<tr>\n",
       "  <th>Df Model:</th>              <td>    10</td>      <th>                     </th>     <td> </td>   \n",
       "</tr>\n",
       "<tr>\n",
       "  <th>Covariance Type:</th>      <td>nonrobust</td>    <th>                     </th>     <td> </td>   \n",
       "</tr>\n",
       "</table>\n",
       "<table class=\"simpletable\">\n",
       "<tr>\n",
       "    <td></td>       <th>coef</th>     <th>std err</th>      <th>t</th>      <th>P>|t|</th>  <th>[0.025</th>    <th>0.975]</th>  \n",
       "</tr>\n",
       "<tr>\n",
       "  <th>const</th> <td>   29.0998</td> <td>    0.181</td> <td>  160.742</td> <td> 0.000</td> <td>   28.744</td> <td>   29.455</td>\n",
       "</tr>\n",
       "<tr>\n",
       "  <th>X0</th>    <td>   -0.0665</td> <td>    0.184</td> <td>   -0.362</td> <td> 0.718</td> <td>   -0.427</td> <td>    0.294</td>\n",
       "</tr>\n",
       "<tr>\n",
       "  <th>X1</th>    <td>   -0.0049</td> <td>    0.179</td> <td>   -0.027</td> <td> 0.978</td> <td>   -0.357</td> <td>    0.347</td>\n",
       "</tr>\n",
       "<tr>\n",
       "  <th>X2</th>    <td>   -0.2188</td> <td>    0.181</td> <td>   -1.212</td> <td> 0.226</td> <td>   -0.573</td> <td>    0.135</td>\n",
       "</tr>\n",
       "<tr>\n",
       "  <th>X3</th>    <td>    0.2923</td> <td>    0.176</td> <td>    1.664</td> <td> 0.096</td> <td>   -0.052</td> <td>    0.637</td>\n",
       "</tr>\n",
       "<tr>\n",
       "  <th>X4</th>    <td>   -0.3287</td> <td>    0.177</td> <td>   -1.856</td> <td> 0.064</td> <td>   -0.676</td> <td>    0.019</td>\n",
       "</tr>\n",
       "<tr>\n",
       "  <th>X5</th>    <td>   -0.0366</td> <td>    0.185</td> <td>   -0.198</td> <td> 0.843</td> <td>   -0.400</td> <td>    0.327</td>\n",
       "</tr>\n",
       "<tr>\n",
       "  <th>X6</th>    <td>    0.2175</td> <td>    0.179</td> <td>    1.213</td> <td> 0.226</td> <td>   -0.134</td> <td>    0.569</td>\n",
       "</tr>\n",
       "<tr>\n",
       "  <th>X7</th>    <td>   -0.0820</td> <td>    0.182</td> <td>   -0.451</td> <td> 0.652</td> <td>   -0.439</td> <td>    0.275</td>\n",
       "</tr>\n",
       "<tr>\n",
       "  <th>X8</th>    <td>   -0.0100</td> <td>    0.183</td> <td>   -0.054</td> <td> 0.957</td> <td>   -0.369</td> <td>    0.349</td>\n",
       "</tr>\n",
       "<tr>\n",
       "  <th>X9</th>    <td>   -0.1286</td> <td>    0.180</td> <td>   -0.715</td> <td> 0.475</td> <td>   -0.482</td> <td>    0.224</td>\n",
       "</tr>\n",
       "</table>\n",
       "<table class=\"simpletable\">\n",
       "<tr>\n",
       "  <th>Omnibus:</th>       <td>77.259</td> <th>  Durbin-Watson:     </th> <td>   1.888</td>\n",
       "</tr>\n",
       "<tr>\n",
       "  <th>Prob(Omnibus):</th> <td> 0.000</td> <th>  Jarque-Bera (JB):  </th> <td> 379.469</td>\n",
       "</tr>\n",
       "<tr>\n",
       "  <th>Skew:</th>          <td>-0.090</td> <th>  Prob(JB):          </th> <td>3.98e-83</td>\n",
       "</tr>\n",
       "<tr>\n",
       "  <th>Kurtosis:</th>      <td> 6.012</td> <th>  Cond. No.          </th> <td>    1.18</td>\n",
       "</tr>\n",
       "</table><br/><br/>Notes:<br/>[1] Standard Errors assume that the covariance matrix of the errors is correctly specified."
      ],
      "text/plain": [
       "<class 'statsmodels.iolib.summary.Summary'>\n",
       "\"\"\"\n",
       "                            OLS Regression Results                            \n",
       "==============================================================================\n",
       "Dep. Variable:                      Y   R-squared:                       0.011\n",
       "Model:                            OLS   Adj. R-squared:                  0.001\n",
       "Method:                 Least Squares   F-statistic:                     1.064\n",
       "Date:                Tue, 30 Mar 2021   Prob (F-statistic):              0.387\n",
       "Time:                        19:44:05   Log-Likelihood:                -3154.3\n",
       "No. Observations:                1000   AIC:                             6331.\n",
       "Df Residuals:                     989   BIC:                             6385.\n",
       "Df Model:                          10                                         \n",
       "Covariance Type:            nonrobust                                         \n",
       "==============================================================================\n",
       "                 coef    std err          t      P>|t|      [0.025      0.975]\n",
       "------------------------------------------------------------------------------\n",
       "const         29.0998      0.181    160.742      0.000      28.744      29.455\n",
       "X0            -0.0665      0.184     -0.362      0.718      -0.427       0.294\n",
       "X1            -0.0049      0.179     -0.027      0.978      -0.357       0.347\n",
       "X2            -0.2188      0.181     -1.212      0.226      -0.573       0.135\n",
       "X3             0.2923      0.176      1.664      0.096      -0.052       0.637\n",
       "X4            -0.3287      0.177     -1.856      0.064      -0.676       0.019\n",
       "X5            -0.0366      0.185     -0.198      0.843      -0.400       0.327\n",
       "X6             0.2175      0.179      1.213      0.226      -0.134       0.569\n",
       "X7            -0.0820      0.182     -0.451      0.652      -0.439       0.275\n",
       "X8            -0.0100      0.183     -0.054      0.957      -0.369       0.349\n",
       "X9            -0.1286      0.180     -0.715      0.475      -0.482       0.224\n",
       "==============================================================================\n",
       "Omnibus:                       77.259   Durbin-Watson:                   1.888\n",
       "Prob(Omnibus):                  0.000   Jarque-Bera (JB):              379.469\n",
       "Skew:                          -0.090   Prob(JB):                     3.98e-83\n",
       "Kurtosis:                       6.012   Cond. No.                         1.18\n",
       "==============================================================================\n",
       "\n",
       "Notes:\n",
       "[1] Standard Errors assume that the covariance matrix of the errors is correctly specified.\n",
       "\"\"\""
      ]
     },
     "execution_count": 5,
     "metadata": {},
     "output_type": "execute_result"
    }
   ],
   "source": [
    "import statsmodels.api as sm\n",
    "lin_model = sm.OLS(endog=y, exog=sm.add_constant(X)).fit()\n",
    "lin_model.summary()"
   ]
  },
  {
   "cell_type": "markdown",
   "metadata": {},
   "source": [
    "### Проверьте, есть ли гетероскедастичность в выборке с использованием критерия Бройша-Пагана (использовать $F$-test, см. справку по критерию)."
   ]
  },
  {
   "cell_type": "code",
   "execution_count": 6,
   "metadata": {},
   "outputs": [
    {
     "data": {
      "text/plain": [
       "True"
      ]
     },
     "execution_count": 6,
     "metadata": {},
     "output_type": "execute_result"
    }
   ],
   "source": [
    "from statsmodels.stats.diagnostic import het_breuschpagan\n",
    "\n",
    "het_breuschpagan(lin_model.resid, X)[3] > 0.05"
   ]
  },
  {
   "cell_type": "markdown",
   "metadata": {},
   "source": [
    "**Нулевая гипотеза предполагала наличие гомоскедастичности. Данные не противоречат гипотезе!**"
   ]
  },
  {
   "cell_type": "markdown",
   "metadata": {},
   "source": [
    "### Оптимальное значение $\\lambda$ для преобразования Бокса-Кокса на переменную $Y$ (использовать scipy.stats). "
   ]
  },
  {
   "cell_type": "code",
   "execution_count": 7,
   "metadata": {},
   "outputs": [
    {
     "name": "stdout",
     "output_type": "stream",
     "text": [
      "optimal lambda = 1.181\n"
     ]
    }
   ],
   "source": [
    "import scipy.stats as st\n",
    "\n",
    "_, l = st.boxcox(y)\n",
    "print(f'optimal lambda = {l.round(3)}')"
   ]
  },
  {
   "cell_type": "markdown",
   "metadata": {},
   "source": [
    "### Постройте линейную модель $Y$ от $X$ и свободного коэффициента для первых 100 элементов выборки."
   ]
  },
  {
   "cell_type": "code",
   "execution_count": 18,
   "metadata": {},
   "outputs": [
    {
     "data": {
      "text/html": [
       "<table class=\"simpletable\">\n",
       "<caption>OLS Regression Results</caption>\n",
       "<tr>\n",
       "  <th>Dep. Variable:</th>            <td>Y</td>        <th>  R-squared:         </th> <td>   0.153</td>\n",
       "</tr>\n",
       "<tr>\n",
       "  <th>Model:</th>                   <td>OLS</td>       <th>  Adj. R-squared:    </th> <td>   0.058</td>\n",
       "</tr>\n",
       "<tr>\n",
       "  <th>Method:</th>             <td>Least Squares</td>  <th>  F-statistic:       </th> <td>   1.607</td>\n",
       "</tr>\n",
       "<tr>\n",
       "  <th>Date:</th>             <td>Tue, 30 Mar 2021</td> <th>  Prob (F-statistic):</th>  <td> 0.117</td> \n",
       "</tr>\n",
       "<tr>\n",
       "  <th>Time:</th>                 <td>19:46:23</td>     <th>  Log-Likelihood:    </th> <td>  793.27</td>\n",
       "</tr>\n",
       "<tr>\n",
       "  <th>No. Observations:</th>      <td>   100</td>      <th>  AIC:               </th> <td>  -1565.</td>\n",
       "</tr>\n",
       "<tr>\n",
       "  <th>Df Residuals:</th>          <td>    89</td>      <th>  BIC:               </th> <td>  -1536.</td>\n",
       "</tr>\n",
       "<tr>\n",
       "  <th>Df Model:</th>              <td>    10</td>      <th>                     </th>     <td> </td>   \n",
       "</tr>\n",
       "<tr>\n",
       "  <th>Covariance Type:</th>      <td>nonrobust</td>    <th>                     </th>     <td> </td>   \n",
       "</tr>\n",
       "</table>\n",
       "<table class=\"simpletable\">\n",
       "<tr>\n",
       "    <td></td>       <th>coef</th>     <th>std err</th>      <th>t</th>      <th>P>|t|</th>  <th>[0.025</th>    <th>0.975]</th>  \n",
       "</tr>\n",
       "<tr>\n",
       "  <th>const</th> <td>   28.9657</td> <td> 9.85e-06</td> <td> 2.94e+06</td> <td> 0.000</td> <td>   28.966</td> <td>   28.966</td>\n",
       "</tr>\n",
       "<tr>\n",
       "  <th>X0</th>    <td> 2.845e-05</td> <td> 9.98e-06</td> <td>    2.849</td> <td> 0.005</td> <td> 8.61e-06</td> <td> 4.83e-05</td>\n",
       "</tr>\n",
       "<tr>\n",
       "  <th>X1</th>    <td> 9.232e-06</td> <td> 1.04e-05</td> <td>    0.891</td> <td> 0.375</td> <td>-1.13e-05</td> <td> 2.98e-05</td>\n",
       "</tr>\n",
       "<tr>\n",
       "  <th>X2</th>    <td>  -9.9e-06</td> <td> 1.05e-05</td> <td>   -0.943</td> <td> 0.348</td> <td>-3.08e-05</td> <td>  1.1e-05</td>\n",
       "</tr>\n",
       "<tr>\n",
       "  <th>X3</th>    <td>-1.914e-05</td> <td> 9.43e-06</td> <td>   -2.029</td> <td> 0.045</td> <td>-3.79e-05</td> <td>-3.96e-07</td>\n",
       "</tr>\n",
       "<tr>\n",
       "  <th>X4</th>    <td> 7.679e-06</td> <td> 9.42e-06</td> <td>    0.815</td> <td> 0.417</td> <td> -1.1e-05</td> <td> 2.64e-05</td>\n",
       "</tr>\n",
       "<tr>\n",
       "  <th>X5</th>    <td>-1.323e-05</td> <td> 9.87e-06</td> <td>   -1.341</td> <td> 0.183</td> <td>-3.28e-05</td> <td> 6.38e-06</td>\n",
       "</tr>\n",
       "<tr>\n",
       "  <th>X6</th>    <td>-6.108e-07</td> <td> 9.56e-06</td> <td>   -0.064</td> <td> 0.949</td> <td>-1.96e-05</td> <td> 1.84e-05</td>\n",
       "</tr>\n",
       "<tr>\n",
       "  <th>X7</th>    <td>-5.314e-06</td> <td> 1.05e-05</td> <td>   -0.504</td> <td> 0.615</td> <td>-2.63e-05</td> <td> 1.56e-05</td>\n",
       "</tr>\n",
       "<tr>\n",
       "  <th>X8</th>    <td>-5.471e-06</td> <td> 1.08e-05</td> <td>   -0.506</td> <td> 0.614</td> <td> -2.7e-05</td> <td>  1.6e-05</td>\n",
       "</tr>\n",
       "<tr>\n",
       "  <th>X9</th>    <td> 8.381e-06</td> <td> 9.15e-06</td> <td>    0.916</td> <td> 0.362</td> <td> -9.8e-06</td> <td> 2.66e-05</td>\n",
       "</tr>\n",
       "</table>\n",
       "<table class=\"simpletable\">\n",
       "<tr>\n",
       "  <th>Omnibus:</th>       <td> 0.032</td> <th>  Durbin-Watson:     </th> <td>   1.938</td>\n",
       "</tr>\n",
       "<tr>\n",
       "  <th>Prob(Omnibus):</th> <td> 0.984</td> <th>  Jarque-Bera (JB):  </th> <td>   0.118</td>\n",
       "</tr>\n",
       "<tr>\n",
       "  <th>Skew:</th>          <td> 0.041</td> <th>  Prob(JB):          </th> <td>   0.943</td>\n",
       "</tr>\n",
       "<tr>\n",
       "  <th>Kurtosis:</th>      <td> 2.852</td> <th>  Cond. No.          </th> <td>    1.84</td>\n",
       "</tr>\n",
       "</table><br/><br/>Notes:<br/>[1] Standard Errors assume that the covariance matrix of the errors is correctly specified."
      ],
      "text/plain": [
       "<class 'statsmodels.iolib.summary.Summary'>\n",
       "\"\"\"\n",
       "                            OLS Regression Results                            \n",
       "==============================================================================\n",
       "Dep. Variable:                      Y   R-squared:                       0.153\n",
       "Model:                            OLS   Adj. R-squared:                  0.058\n",
       "Method:                 Least Squares   F-statistic:                     1.607\n",
       "Date:                Tue, 30 Mar 2021   Prob (F-statistic):              0.117\n",
       "Time:                        19:46:23   Log-Likelihood:                 793.27\n",
       "No. Observations:                 100   AIC:                            -1565.\n",
       "Df Residuals:                      89   BIC:                            -1536.\n",
       "Df Model:                          10                                         \n",
       "Covariance Type:            nonrobust                                         \n",
       "==============================================================================\n",
       "                 coef    std err          t      P>|t|      [0.025      0.975]\n",
       "------------------------------------------------------------------------------\n",
       "const         28.9657   9.85e-06   2.94e+06      0.000      28.966      28.966\n",
       "X0          2.845e-05   9.98e-06      2.849      0.005    8.61e-06    4.83e-05\n",
       "X1          9.232e-06   1.04e-05      0.891      0.375   -1.13e-05    2.98e-05\n",
       "X2           -9.9e-06   1.05e-05     -0.943      0.348   -3.08e-05     1.1e-05\n",
       "X3         -1.914e-05   9.43e-06     -2.029      0.045   -3.79e-05   -3.96e-07\n",
       "X4          7.679e-06   9.42e-06      0.815      0.417    -1.1e-05    2.64e-05\n",
       "X5         -1.323e-05   9.87e-06     -1.341      0.183   -3.28e-05    6.38e-06\n",
       "X6         -6.108e-07   9.56e-06     -0.064      0.949   -1.96e-05    1.84e-05\n",
       "X7         -5.314e-06   1.05e-05     -0.504      0.615   -2.63e-05    1.56e-05\n",
       "X8         -5.471e-06   1.08e-05     -0.506      0.614    -2.7e-05     1.6e-05\n",
       "X9          8.381e-06   9.15e-06      0.916      0.362    -9.8e-06    2.66e-05\n",
       "==============================================================================\n",
       "Omnibus:                        0.032   Durbin-Watson:                   1.938\n",
       "Prob(Omnibus):                  0.984   Jarque-Bera (JB):                0.118\n",
       "Skew:                           0.041   Prob(JB):                        0.943\n",
       "Kurtosis:                       2.852   Cond. No.                         1.84\n",
       "==============================================================================\n",
       "\n",
       "Notes:\n",
       "[1] Standard Errors assume that the covariance matrix of the errors is correctly specified.\n",
       "\"\"\""
      ]
     },
     "execution_count": 18,
     "metadata": {},
     "output_type": "execute_result"
    }
   ],
   "source": [
    "lin_model_100 = sm.OLS(endog=y[:100], exog=sm.add_constant(X[:100])).fit()\n",
    "lin_model_100.summary()"
   ]
  },
  {
   "cell_type": "markdown",
   "metadata": {},
   "source": [
    "### Сколько переменных являются избыточными согласно $t$-критерию? Поправку на множественность гипотез проигнорировать."
   ]
  },
  {
   "cell_type": "markdown",
   "metadata": {},
   "source": [
    "**Все, с $P > \\|t\\|$ меньшим $0.05 \\rightarrow $ 8 (все, кроме 0-го и 3-го)!**"
   ]
  },
  {
   "cell_type": "markdown",
   "metadata": {},
   "source": [
    "### Имеет ли смысл данная модель согласно $F$-критерию? "
   ]
  },
  {
   "cell_type": "code",
   "execution_count": null,
   "metadata": {},
   "outputs": [],
   "source": [
    "lin_model_100.f_test('X0 = X1 = X2 = X3 = X4 = X5 = X6 = X7 = X8 = X9 = 0')"
   ]
  },
  {
   "cell_type": "markdown",
   "metadata": {},
   "source": [
    "**$p-value > 0.05$, следовательно, данные не противоречат гипотезе $\\rightarrow$ все коэффициенты можно занулить. Значит модель не имеет смысл!**"
   ]
  },
  {
   "cell_type": "markdown",
   "metadata": {},
   "source": [
    "### Можно ли обнулить первые четыре переменные согласно критерию Вальда? "
   ]
  },
  {
   "cell_type": "code",
   "execution_count": 53,
   "metadata": {},
   "outputs": [
    {
     "data": {
      "text/plain": [
       "False"
      ]
     },
     "execution_count": 53,
     "metadata": {},
     "output_type": "execute_result"
    }
   ],
   "source": [
    "lin_model_100.wald_test('X0 = X1 = X2 = X3 = 0')\n",
    "lin_model_100.f_pvalue < 0.05"
   ]
  },
  {
   "cell_type": "markdown",
   "metadata": {},
   "source": [
    "Нет, нельзя, так как отвергаем нулевую гипотезу ($p-value < 0.05$)."
   ]
  }
 ],
 "metadata": {
  "kernelspec": {
   "display_name": "Python 3",
   "language": "python",
   "name": "python3"
  },
  "language_info": {
   "codemirror_mode": {
    "name": "ipython",
    "version": 3
   },
   "file_extension": ".py",
   "mimetype": "text/x-python",
   "name": "python",
   "nbconvert_exporter": "python",
   "pygments_lexer": "ipython3",
   "version": "3.8.5"
  }
 },
 "nbformat": 4,
 "nbformat_minor": 4
}
