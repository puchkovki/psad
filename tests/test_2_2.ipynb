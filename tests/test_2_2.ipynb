{
  "nbformat": 4,
  "nbformat_minor": 0,
  "metadata": {
    "colab": {
      "name": "test_2.ipynb",
      "provenance": [],
      "collapsed_sections": [],
      "toc_visible": true
    },
    "kernelspec": {
      "name": "python3",
      "display_name": "Python 3"
    }
  },
  "cells": [
    {
      "cell_type": "code",
      "metadata": {
        "id": "jJxt3a06OmZS"
      },
      "source": [
        "from IPython.display import display, HTML\n",
        "from zlib import crc32\n",
        "import pandas as pd\n",
        "import numpy as np"
      ],
      "execution_count": 1,
      "outputs": []
    },
    {
      "cell_type": "code",
      "metadata": {
        "id": "6XsghOTsIapa"
      },
      "source": [
        "def generate_task(code):\n",
        "    rs = np.random.RandomState(code)\n",
        "    tasks = pd.read_csv(\n",
        "        'https://drive.google.com/uc?id=1g-AK3C74K-myj8zKbxk69zXO00roTKh-')\n",
        "\n",
        "    type_to_id = dict()\n",
        "    for i in range(len(tasks)):\n",
        "        _type = tasks.loc[i]['code'].split('_')[0]\n",
        "        if _type not in type_to_id:\n",
        "            type_to_id[_type] = []\n",
        "        type_to_id[_type].append(i)\n",
        "\n",
        "    list_of_task_id = [rs.choice(type_to_id[_type]) for _type in type_to_id]\n",
        "\n",
        "    return [{'task': tasks.loc[_loc]['task'],\n",
        "             'data': tasks.loc[_loc]['data']} \n",
        "            for _loc in list_of_task_id]"
      ],
      "execution_count": 2,
      "outputs": []
    },
    {
      "cell_type": "code",
      "metadata": {
        "id": "2aDBCbTmN5pw",
        "colab": {
          "base_uri": "https://localhost:8080/"
        },
        "outputId": "81ef5901-154a-4abd-f0b2-91cca3ed0816"
      },
      "source": [
        "task = dict()\n",
        "task['mail'] = input(prompt='Enter your mail: ')\n",
        "task['id'] = crc32(task['mail'].encode('utf-8'))\n",
        "task['tasks'] = generate_task(task['id'])\n",
        "\n",
        "task"
      ],
      "execution_count": 3,
      "outputs": [
        {
          "output_type": "stream",
          "text": [
            "Enter your mail: puchkov.k@phystech.edu\n"
          ],
          "name": "stdout"
        },
        {
          "output_type": "execute_result",
          "data": {
            "text/plain": [
              "{'id': 3366284282,\n",
              " 'mail': 'puchkov.k@phystech.edu',\n",
              " 'tasks': [{'data': '1F_FUZ7iUBKeMOhoMhvqjc5Nl7K4g5iE7',\n",
              "   'task': 'Рассмотрим выборку зависимости числа поломок телефонов (среди всех тестовых образцов, в выборке указано сломался телефон или нет) для пары брендов телефонов (brand-1; brand-2) среди дешевых и дорогих телефонов (high price; low price). Есть ли связь между поломками и ценовым сегментом. Есть ли замечания по данным?'},\n",
              "  {'data': '1-6J8Jd6yG4ztDL32SIH99rNH4CK9hKw5',\n",
              "   'task': 'Задана выборка курса обмена иностранной валюты в зависимости от двух переменных: ВВП страны и популярности зеленых гавайских галстуков. Определить, значимы ли эти признаки и их межфакторное взаимодействие для  построения линейное регрессии.'},\n",
              "  {'data': '1p7gTT3ZfmTIwJg1Tfd8Nflojy1alsfks=',\n",
              "   'task': 'Рассмотрим задачу аппроксимации уровня продаж мандарин за последние 10 лет. Постройте модель, которая аппроксимирует данный временной ряд при помощи ARIMA. Подберите оптимальные параметры.'}]}"
            ]
          },
          "metadata": {
            "tags": []
          },
          "execution_count": 3
        }
      ]
    },
    {
      "cell_type": "markdown",
      "metadata": {
        "id": "hMQ6qReVK7oL"
      },
      "source": [
        "# Задача №1"
      ]
    },
    {
      "cell_type": "code",
      "metadata": {
        "id": "kmyZ3-KeQ1hi",
        "colab": {
          "base_uri": "https://localhost:8080/",
          "height": 94
        },
        "outputId": "cd0e00f8-408a-4c9d-ed95-e0b305dfe198"
      },
      "source": [
        "task_numder = 1\n",
        "if task['tasks'][task_numder-1]['data'] != '-':\n",
        "    dataset1 = pd.read_csv(\n",
        "        'https://drive.google.com/uc?id={}'.format(\n",
        "            task['tasks'][task_numder-1]['data']))\n",
        "    print('dataset loaded')\n",
        "else:\n",
        "    dataset1 = pd.DataFrame(['not', 'required'])\n",
        "    print('dataset is not required')\n",
        "display(HTML('<h3>'+task['tasks'][task_numder-1]['task']+'</h3>'))"
      ],
      "execution_count": 4,
      "outputs": [
        {
          "output_type": "stream",
          "text": [
            "dataset loaded\n"
          ],
          "name": "stdout"
        },
        {
          "output_type": "display_data",
          "data": {
            "text/html": [
              "<h3>Рассмотрим выборку зависимости числа поломок телефонов (среди всех тестовых образцов, в выборке указано сломался телефон или нет) для пары брендов телефонов (brand-1; brand-2) среди дешевых и дорогих телефонов (high price; low price). Есть ли связь между поломками и ценовым сегментом. Есть ли замечания по данным?</h3>"
            ],
            "text/plain": [
              "<IPython.core.display.HTML object>"
            ]
          },
          "metadata": {
            "tags": []
          }
        }
      ]
    },
    {
      "cell_type": "markdown",
      "metadata": {
        "id": "cn8TsVjtM0fZ"
      },
      "source": [
        "## Решение задачи"
      ]
    },
    {
      "cell_type": "code",
      "metadata": {
        "id": "zoDzOS5WMYn2",
        "colab": {
          "base_uri": "https://localhost:8080/",
          "height": 204
        },
        "outputId": "d8279b55-6f35-40a2-d23d-d29c1976a403"
      },
      "source": [
        "dataset1.sample(5)"
      ],
      "execution_count": null,
      "outputs": [
        {
          "output_type": "execute_result",
          "data": {
            "text/html": [
              "<div>\n",
              "<style scoped>\n",
              "    .dataframe tbody tr th:only-of-type {\n",
              "        vertical-align: middle;\n",
              "    }\n",
              "\n",
              "    .dataframe tbody tr th {\n",
              "        vertical-align: top;\n",
              "    }\n",
              "\n",
              "    .dataframe thead th {\n",
              "        text-align: right;\n",
              "    }\n",
              "</style>\n",
              "<table border=\"1\" class=\"dataframe\">\n",
              "  <thead>\n",
              "    <tr style=\"text-align: right;\">\n",
              "      <th></th>\n",
              "      <th>price</th>\n",
              "      <th>brand</th>\n",
              "      <th>is_broken</th>\n",
              "    </tr>\n",
              "  </thead>\n",
              "  <tbody>\n",
              "    <tr>\n",
              "      <th>455</th>\n",
              "      <td>high</td>\n",
              "      <td>1</td>\n",
              "      <td>yes</td>\n",
              "    </tr>\n",
              "    <tr>\n",
              "      <th>1686</th>\n",
              "      <td>low</td>\n",
              "      <td>1</td>\n",
              "      <td>yes</td>\n",
              "    </tr>\n",
              "    <tr>\n",
              "      <th>457</th>\n",
              "      <td>high</td>\n",
              "      <td>1</td>\n",
              "      <td>yes</td>\n",
              "    </tr>\n",
              "    <tr>\n",
              "      <th>1028</th>\n",
              "      <td>high</td>\n",
              "      <td>1</td>\n",
              "      <td>no</td>\n",
              "    </tr>\n",
              "    <tr>\n",
              "      <th>3319</th>\n",
              "      <td>high</td>\n",
              "      <td>2</td>\n",
              "      <td>no</td>\n",
              "    </tr>\n",
              "  </tbody>\n",
              "</table>\n",
              "</div>"
            ],
            "text/plain": [
              "     price  brand is_broken\n",
              "455   high      1       yes\n",
              "1686   low      1       yes\n",
              "457   high      1       yes\n",
              "1028  high      1        no\n",
              "3319  high      2        no"
            ]
          },
          "metadata": {
            "tags": []
          },
          "execution_count": 20
        }
      ]
    },
    {
      "cell_type": "code",
      "metadata": {
        "colab": {
          "base_uri": "https://localhost:8080/",
          "height": 390
        },
        "id": "hQB70MCmdTF7",
        "outputId": "9a751175-db99-4619-bcd5-72868f71360d"
      },
      "source": [
        "dataset1.describe(include='all')"
      ],
      "execution_count": null,
      "outputs": [
        {
          "output_type": "execute_result",
          "data": {
            "text/html": [
              "<div>\n",
              "<style scoped>\n",
              "    .dataframe tbody tr th:only-of-type {\n",
              "        vertical-align: middle;\n",
              "    }\n",
              "\n",
              "    .dataframe tbody tr th {\n",
              "        vertical-align: top;\n",
              "    }\n",
              "\n",
              "    .dataframe thead th {\n",
              "        text-align: right;\n",
              "    }\n",
              "</style>\n",
              "<table border=\"1\" class=\"dataframe\">\n",
              "  <thead>\n",
              "    <tr style=\"text-align: right;\">\n",
              "      <th></th>\n",
              "      <th>price</th>\n",
              "      <th>brand</th>\n",
              "      <th>is_broken</th>\n",
              "    </tr>\n",
              "  </thead>\n",
              "  <tbody>\n",
              "    <tr>\n",
              "      <th>count</th>\n",
              "      <td>4140</td>\n",
              "      <td>4140.000000</td>\n",
              "      <td>4140</td>\n",
              "    </tr>\n",
              "    <tr>\n",
              "      <th>unique</th>\n",
              "      <td>2</td>\n",
              "      <td>NaN</td>\n",
              "      <td>2</td>\n",
              "    </tr>\n",
              "    <tr>\n",
              "      <th>top</th>\n",
              "      <td>high</td>\n",
              "      <td>NaN</td>\n",
              "      <td>no</td>\n",
              "    </tr>\n",
              "    <tr>\n",
              "      <th>freq</th>\n",
              "      <td>3000</td>\n",
              "      <td>NaN</td>\n",
              "      <td>2095</td>\n",
              "    </tr>\n",
              "    <tr>\n",
              "      <th>mean</th>\n",
              "      <td>NaN</td>\n",
              "      <td>1.502415</td>\n",
              "      <td>NaN</td>\n",
              "    </tr>\n",
              "    <tr>\n",
              "      <th>std</th>\n",
              "      <td>NaN</td>\n",
              "      <td>0.500055</td>\n",
              "      <td>NaN</td>\n",
              "    </tr>\n",
              "    <tr>\n",
              "      <th>min</th>\n",
              "      <td>NaN</td>\n",
              "      <td>1.000000</td>\n",
              "      <td>NaN</td>\n",
              "    </tr>\n",
              "    <tr>\n",
              "      <th>25%</th>\n",
              "      <td>NaN</td>\n",
              "      <td>1.000000</td>\n",
              "      <td>NaN</td>\n",
              "    </tr>\n",
              "    <tr>\n",
              "      <th>50%</th>\n",
              "      <td>NaN</td>\n",
              "      <td>2.000000</td>\n",
              "      <td>NaN</td>\n",
              "    </tr>\n",
              "    <tr>\n",
              "      <th>75%</th>\n",
              "      <td>NaN</td>\n",
              "      <td>2.000000</td>\n",
              "      <td>NaN</td>\n",
              "    </tr>\n",
              "    <tr>\n",
              "      <th>max</th>\n",
              "      <td>NaN</td>\n",
              "      <td>2.000000</td>\n",
              "      <td>NaN</td>\n",
              "    </tr>\n",
              "  </tbody>\n",
              "</table>\n",
              "</div>"
            ],
            "text/plain": [
              "       price        brand is_broken\n",
              "count   4140  4140.000000      4140\n",
              "unique     2          NaN         2\n",
              "top     high          NaN        no\n",
              "freq    3000          NaN      2095\n",
              "mean     NaN     1.502415       NaN\n",
              "std      NaN     0.500055       NaN\n",
              "min      NaN     1.000000       NaN\n",
              "25%      NaN     1.000000       NaN\n",
              "50%      NaN     2.000000       NaN\n",
              "75%      NaN     2.000000       NaN\n",
              "max      NaN     2.000000       NaN"
            ]
          },
          "metadata": {
            "tags": []
          },
          "execution_count": 21
        }
      ]
    },
    {
      "cell_type": "code",
      "metadata": {
        "colab": {
          "base_uri": "https://localhost:8080/",
          "height": 204
        },
        "id": "3kK7cBUBddQ9",
        "outputId": "4c07b3f1-4dc8-4173-801a-c461cd389484"
      },
      "source": [
        "import scipy.stats as st\n",
        "\n",
        "price = dataset1['price'].copy()\n",
        "price[price == \"high\"] = 1\n",
        "price[price == \"low\"] = 0\n",
        "\n",
        "broken = dataset1['is_broken'].copy()\n",
        "broken[broken == \"yes\"] = 0\n",
        "broken[broken == \"no\"] = 1\n",
        "\n",
        "dataset1['price'] = price\n",
        "dataset1['is_broken'] = broken\n",
        "\n",
        "dataset1.sample(5)"
      ],
      "execution_count": null,
      "outputs": [
        {
          "output_type": "execute_result",
          "data": {
            "text/html": [
              "<div>\n",
              "<style scoped>\n",
              "    .dataframe tbody tr th:only-of-type {\n",
              "        vertical-align: middle;\n",
              "    }\n",
              "\n",
              "    .dataframe tbody tr th {\n",
              "        vertical-align: top;\n",
              "    }\n",
              "\n",
              "    .dataframe thead th {\n",
              "        text-align: right;\n",
              "    }\n",
              "</style>\n",
              "<table border=\"1\" class=\"dataframe\">\n",
              "  <thead>\n",
              "    <tr style=\"text-align: right;\">\n",
              "      <th></th>\n",
              "      <th>price</th>\n",
              "      <th>brand</th>\n",
              "      <th>is_broken</th>\n",
              "    </tr>\n",
              "  </thead>\n",
              "  <tbody>\n",
              "    <tr>\n",
              "      <th>2580</th>\n",
              "      <td>1</td>\n",
              "      <td>2</td>\n",
              "      <td>0</td>\n",
              "    </tr>\n",
              "    <tr>\n",
              "      <th>689</th>\n",
              "      <td>1</td>\n",
              "      <td>1</td>\n",
              "      <td>0</td>\n",
              "    </tr>\n",
              "    <tr>\n",
              "      <th>493</th>\n",
              "      <td>1</td>\n",
              "      <td>1</td>\n",
              "      <td>0</td>\n",
              "    </tr>\n",
              "    <tr>\n",
              "      <th>430</th>\n",
              "      <td>1</td>\n",
              "      <td>1</td>\n",
              "      <td>0</td>\n",
              "    </tr>\n",
              "    <tr>\n",
              "      <th>1052</th>\n",
              "      <td>1</td>\n",
              "      <td>1</td>\n",
              "      <td>1</td>\n",
              "    </tr>\n",
              "  </tbody>\n",
              "</table>\n",
              "</div>"
            ],
            "text/plain": [
              "     price  brand is_broken\n",
              "2580     1      2         0\n",
              "689      1      1         0\n",
              "493      1      1         0\n",
              "430      1      1         0\n",
              "1052     1      1         1"
            ]
          },
          "metadata": {
            "tags": []
          },
          "execution_count": 26
        }
      ]
    },
    {
      "cell_type": "code",
      "metadata": {
        "colab": {
          "base_uri": "https://localhost:8080/"
        },
        "id": "VrXvz5KNfBmI",
        "outputId": "28a89cb7-f398-48d5-fd9f-af8f4d1a7e8f"
      },
      "source": [
        "st.pearsonr(dataset1['price'] , dataset1['is_broken'])"
      ],
      "execution_count": null,
      "outputs": [
        {
          "output_type": "execute_result",
          "data": {
            "text/plain": [
              "(-0.008777837860702256, 0.572324592139672)"
            ]
          },
          "metadata": {
            "tags": []
          },
          "execution_count": 28
        }
      ]
    },
    {
      "cell_type": "code",
      "metadata": {
        "colab": {
          "base_uri": "https://localhost:8080/"
        },
        "id": "GD2gwKGmemTG",
        "outputId": "fc4f9dc0-7bcd-4a9a-dea6-00ee1c325357"
      },
      "source": [
        "# В случае корреляции Спирмана удаcтся избежать ошибки, связанной с выбросами\n",
        "st.spearmanr(price, broken)"
      ],
      "execution_count": null,
      "outputs": [
        {
          "output_type": "execute_result",
          "data": {
            "text/plain": [
              "SpearmanrResult(correlation=-0.008777837860701927, pvalue=0.5723245921415436)"
            ]
          },
          "metadata": {
            "tags": []
          },
          "execution_count": 29
        }
      ]
    },
    {
      "cell_type": "code",
      "metadata": {
        "colab": {
          "base_uri": "https://localhost:8080/"
        },
        "id": "gGJ23rAQexZM",
        "outputId": "8ef2a9b1-68c6-4aca-bf4b-51a7db7956b8"
      },
      "source": [
        "# Аналогично про корреляцию Кендалла\n",
        "# Точнее оценивается по выборке небольших объемов\n",
        "\n",
        "st.kendalltau(price, broken)"
      ],
      "execution_count": null,
      "outputs": [
        {
          "output_type": "execute_result",
          "data": {
            "text/plain": [
              "KendalltauResult(correlation=-0.008777837860701923, pvalue=0.5722623718795733)"
            ]
          },
          "metadata": {
            "tags": []
          },
          "execution_count": 30
        }
      ]
    },
    {
      "cell_type": "markdown",
      "metadata": {
        "id": "hYzx-20jfuss"
      },
      "source": [
        "**Следовательно, везде данные не противоречат гипотезе о некорреляции. Да и само значение везде близко к нулю.**"
      ]
    },
    {
      "cell_type": "markdown",
      "metadata": {
        "id": "Z6i61RXhNauQ"
      },
      "source": [
        "# Задача №2"
      ]
    },
    {
      "cell_type": "code",
      "metadata": {
        "id": "Md49YM1bNauR",
        "colab": {
          "base_uri": "https://localhost:8080/",
          "height": 94
        },
        "outputId": "5f2badbb-6c25-4440-f400-b3e3b382294f"
      },
      "source": [
        "task_numder = 2\n",
        "if task['tasks'][task_numder-1]['data'] != '-':\n",
        "    dataset2 = pd.read_csv(\n",
        "        'https://drive.google.com/uc?id={}'.format(\n",
        "            task['tasks'][task_numder-1]['data']))\n",
        "    print('dataset loaded')\n",
        "else:\n",
        "    dataset2 = pd.DataFrame(['not', 'required'])\n",
        "    print('dataset is not required')\n",
        "display(HTML('<h3>'+task['tasks'][task_numder-1]['task']+'</h3>'))"
      ],
      "execution_count": null,
      "outputs": [
        {
          "output_type": "stream",
          "text": [
            "dataset loaded\n"
          ],
          "name": "stdout"
        },
        {
          "output_type": "display_data",
          "data": {
            "text/html": [
              "<h3>Задана выборка курса обмена иностранной валюты в зависимости от двух переменных: ВВП страны и популярности зеленых гавайских галстуков. Определить, значимы ли эти признаки и их межфакторное взаимодействие для  построения линейное регрессии.</h3>"
            ],
            "text/plain": [
              "<IPython.core.display.HTML object>"
            ]
          },
          "metadata": {
            "tags": []
          }
        }
      ]
    },
    {
      "cell_type": "markdown",
      "metadata": {
        "id": "zJJAb7GFNauS"
      },
      "source": [
        "## Решение задачи"
      ]
    },
    {
      "cell_type": "code",
      "metadata": {
        "id": "m2J6zv0yXUb5",
        "colab": {
          "base_uri": "https://localhost:8080/",
          "height": 204
        },
        "outputId": "7e6c7436-4d9b-441b-dc2d-9231e6988a34"
      },
      "source": [
        "dataset2.sample(5)"
      ],
      "execution_count": null,
      "outputs": [
        {
          "output_type": "execute_result",
          "data": {
            "text/html": [
              "<div>\n",
              "<style scoped>\n",
              "    .dataframe tbody tr th:only-of-type {\n",
              "        vertical-align: middle;\n",
              "    }\n",
              "\n",
              "    .dataframe tbody tr th {\n",
              "        vertical-align: top;\n",
              "    }\n",
              "\n",
              "    .dataframe thead th {\n",
              "        text-align: right;\n",
              "    }\n",
              "</style>\n",
              "<table border=\"1\" class=\"dataframe\">\n",
              "  <thead>\n",
              "    <tr style=\"text-align: right;\">\n",
              "      <th></th>\n",
              "      <th># money</th>\n",
              "      <th>gdp</th>\n",
              "      <th>tie</th>\n",
              "    </tr>\n",
              "  </thead>\n",
              "  <tbody>\n",
              "    <tr>\n",
              "      <th>33</th>\n",
              "      <td>775.4200</td>\n",
              "      <td>861.5700</td>\n",
              "      <td>149.0</td>\n",
              "    </tr>\n",
              "    <tr>\n",
              "      <th>7</th>\n",
              "      <td>7.6483</td>\n",
              "      <td>8.4979</td>\n",
              "      <td>615.0</td>\n",
              "    </tr>\n",
              "    <tr>\n",
              "      <th>79</th>\n",
              "      <td>500.0600</td>\n",
              "      <td>555.6100</td>\n",
              "      <td>595.0</td>\n",
              "    </tr>\n",
              "    <tr>\n",
              "      <th>95</th>\n",
              "      <td>630.1700</td>\n",
              "      <td>700.1900</td>\n",
              "      <td>10.0</td>\n",
              "    </tr>\n",
              "    <tr>\n",
              "      <th>58</th>\n",
              "      <td>295.9200</td>\n",
              "      <td>328.8000</td>\n",
              "      <td>93.0</td>\n",
              "    </tr>\n",
              "  </tbody>\n",
              "</table>\n",
              "</div>"
            ],
            "text/plain": [
              "     # money       gdp    tie\n",
              "33  775.4200  861.5700  149.0\n",
              "7     7.6483    8.4979  615.0\n",
              "79  500.0600  555.6100  595.0\n",
              "95  630.1700  700.1900   10.0\n",
              "58  295.9200  328.8000   93.0"
            ]
          },
          "metadata": {
            "tags": []
          },
          "execution_count": 74
        }
      ]
    },
    {
      "cell_type": "code",
      "metadata": {
        "colab": {
          "base_uri": "https://localhost:8080/",
          "height": 419
        },
        "id": "Rdf4kmvII26Z",
        "outputId": "090a5885-ada6-4285-e2ed-2a28d7d8effc"
      },
      "source": [
        "dataset2.columns = [\"money\", \"gdp\", \"tie\"]\n",
        "X = dataset2.drop('money', axis=1)\n",
        "y = dataset2['money']\n",
        "X"
      ],
      "execution_count": null,
      "outputs": [
        {
          "output_type": "execute_result",
          "data": {
            "text/html": [
              "<div>\n",
              "<style scoped>\n",
              "    .dataframe tbody tr th:only-of-type {\n",
              "        vertical-align: middle;\n",
              "    }\n",
              "\n",
              "    .dataframe tbody tr th {\n",
              "        vertical-align: top;\n",
              "    }\n",
              "\n",
              "    .dataframe thead th {\n",
              "        text-align: right;\n",
              "    }\n",
              "</style>\n",
              "<table border=\"1\" class=\"dataframe\">\n",
              "  <thead>\n",
              "    <tr style=\"text-align: right;\">\n",
              "      <th></th>\n",
              "      <th>gdp</th>\n",
              "      <th>tie</th>\n",
              "    </tr>\n",
              "  </thead>\n",
              "  <tbody>\n",
              "    <tr>\n",
              "      <th>0</th>\n",
              "      <td>441.28</td>\n",
              "      <td>550.0</td>\n",
              "    </tr>\n",
              "    <tr>\n",
              "      <th>1</th>\n",
              "      <td>734.21</td>\n",
              "      <td>836.0</td>\n",
              "    </tr>\n",
              "    <tr>\n",
              "      <th>2</th>\n",
              "      <td>555.99</td>\n",
              "      <td>879.0</td>\n",
              "    </tr>\n",
              "    <tr>\n",
              "      <th>3</th>\n",
              "      <td>845.78</td>\n",
              "      <td>632.0</td>\n",
              "    </tr>\n",
              "    <tr>\n",
              "      <th>4</th>\n",
              "      <td>909.28</td>\n",
              "      <td>563.0</td>\n",
              "    </tr>\n",
              "    <tr>\n",
              "      <th>...</th>\n",
              "      <td>...</td>\n",
              "      <td>...</td>\n",
              "    </tr>\n",
              "    <tr>\n",
              "      <th>95</th>\n",
              "      <td>700.19</td>\n",
              "      <td>10.0</td>\n",
              "    </tr>\n",
              "    <tr>\n",
              "      <th>96</th>\n",
              "      <td>330.24</td>\n",
              "      <td>639.0</td>\n",
              "    </tr>\n",
              "    <tr>\n",
              "      <th>97</th>\n",
              "      <td>917.68</td>\n",
              "      <td>120.0</td>\n",
              "    </tr>\n",
              "    <tr>\n",
              "      <th>98</th>\n",
              "      <td>197.85</td>\n",
              "      <td>414.0</td>\n",
              "    </tr>\n",
              "    <tr>\n",
              "      <th>99</th>\n",
              "      <td>522.07</td>\n",
              "      <td>771.0</td>\n",
              "    </tr>\n",
              "  </tbody>\n",
              "</table>\n",
              "<p>100 rows × 2 columns</p>\n",
              "</div>"
            ],
            "text/plain": [
              "       gdp    tie\n",
              "0   441.28  550.0\n",
              "1   734.21  836.0\n",
              "2   555.99  879.0\n",
              "3   845.78  632.0\n",
              "4   909.28  563.0\n",
              "..     ...    ...\n",
              "95  700.19   10.0\n",
              "96  330.24  639.0\n",
              "97  917.68  120.0\n",
              "98  197.85  414.0\n",
              "99  522.07  771.0\n",
              "\n",
              "[100 rows x 2 columns]"
            ]
          },
          "metadata": {
            "tags": []
          },
          "execution_count": 75
        }
      ]
    },
    {
      "cell_type": "code",
      "metadata": {
        "colab": {
          "base_uri": "https://localhost:8080/",
          "height": 520
        },
        "id": "9BcKSAC4NMFW",
        "outputId": "2f8cf333-13d1-48e9-914b-ac2b1e6127e2"
      },
      "source": [
        "import statsmodels.api as sm\n",
        "\n",
        "model2 = sm.OLS.from_formula(\"money ~ gdp*tie\", data=dataset2).fit()\n",
        "model2.summary()"
      ],
      "execution_count": null,
      "outputs": [
        {
          "output_type": "execute_result",
          "data": {
            "text/html": [
              "<table class=\"simpletable\">\n",
              "<caption>OLS Regression Results</caption>\n",
              "<tr>\n",
              "  <th>Dep. Variable:</th>          <td>money</td>      <th>  R-squared:         </th> <td>   1.000</td> \n",
              "</tr>\n",
              "<tr>\n",
              "  <th>Model:</th>                   <td>OLS</td>       <th>  Adj. R-squared:    </th> <td>   1.000</td> \n",
              "</tr>\n",
              "<tr>\n",
              "  <th>Method:</th>             <td>Least Squares</td>  <th>  F-statistic:       </th> <td>1.796e+11</td>\n",
              "</tr>\n",
              "<tr>\n",
              "  <th>Date:</th>             <td>Tue, 27 Apr 2021</td> <th>  Prob (F-statistic):</th>  <td>  0.00</td>  \n",
              "</tr>\n",
              "<tr>\n",
              "  <th>Time:</th>                 <td>16:44:59</td>     <th>  Log-Likelihood:    </th> <td>  418.83</td> \n",
              "</tr>\n",
              "<tr>\n",
              "  <th>No. Observations:</th>      <td>   100</td>      <th>  AIC:               </th> <td>  -829.7</td> \n",
              "</tr>\n",
              "<tr>\n",
              "  <th>Df Residuals:</th>          <td>    96</td>      <th>  BIC:               </th> <td>  -819.2</td> \n",
              "</tr>\n",
              "<tr>\n",
              "  <th>Df Model:</th>              <td>     3</td>      <th>                     </th>     <td> </td>    \n",
              "</tr>\n",
              "<tr>\n",
              "  <th>Covariance Type:</th>      <td>nonrobust</td>    <th>                     </th>     <td> </td>    \n",
              "</tr>\n",
              "</table>\n",
              "<table class=\"simpletable\">\n",
              "<tr>\n",
              "      <td></td>         <th>coef</th>     <th>std err</th>      <th>t</th>      <th>P>|t|</th>  <th>[0.025</th>    <th>0.975]</th>  \n",
              "</tr>\n",
              "<tr>\n",
              "  <th>Intercept</th> <td>   -0.0014</td> <td>    0.001</td> <td>   -1.158</td> <td> 0.250</td> <td>   -0.004</td> <td>    0.001</td>\n",
              "</tr>\n",
              "<tr>\n",
              "  <th>gdp</th>       <td>    0.9000</td> <td> 2.19e-06</td> <td> 4.11e+05</td> <td> 0.000</td> <td>    0.900</td> <td>    0.900</td>\n",
              "</tr>\n",
              "<tr>\n",
              "  <th>tie</th>       <td> 2.972e-06</td> <td> 2.37e-06</td> <td>    1.257</td> <td> 0.212</td> <td>-1.72e-06</td> <td> 7.67e-06</td>\n",
              "</tr>\n",
              "<tr>\n",
              "  <th>gdp:tie</th>   <td> 4.607e-08</td> <td> 4.11e-09</td> <td>   11.215</td> <td> 0.000</td> <td> 3.79e-08</td> <td> 5.42e-08</td>\n",
              "</tr>\n",
              "</table>\n",
              "<table class=\"simpletable\">\n",
              "<tr>\n",
              "  <th>Omnibus:</th>       <td> 0.457</td> <th>  Durbin-Watson:     </th> <td>   2.005</td>\n",
              "</tr>\n",
              "<tr>\n",
              "  <th>Prob(Omnibus):</th> <td> 0.796</td> <th>  Jarque-Bera (JB):  </th> <td>   0.607</td>\n",
              "</tr>\n",
              "<tr>\n",
              "  <th>Skew:</th>          <td>-0.127</td> <th>  Prob(JB):          </th> <td>   0.738</td>\n",
              "</tr>\n",
              "<tr>\n",
              "  <th>Kurtosis:</th>      <td> 2.716</td> <th>  Cond. No.          </th> <td>1.03e+06</td>\n",
              "</tr>\n",
              "</table><br/><br/>Warnings:<br/>[1] Standard Errors assume that the covariance matrix of the errors is correctly specified.<br/>[2] The condition number is large, 1.03e+06. This might indicate that there are<br/>strong multicollinearity or other numerical problems."
            ],
            "text/plain": [
              "<class 'statsmodels.iolib.summary.Summary'>\n",
              "\"\"\"\n",
              "                            OLS Regression Results                            \n",
              "==============================================================================\n",
              "Dep. Variable:                  money   R-squared:                       1.000\n",
              "Model:                            OLS   Adj. R-squared:                  1.000\n",
              "Method:                 Least Squares   F-statistic:                 1.796e+11\n",
              "Date:                Tue, 27 Apr 2021   Prob (F-statistic):               0.00\n",
              "Time:                        16:44:59   Log-Likelihood:                 418.83\n",
              "No. Observations:                 100   AIC:                            -829.7\n",
              "Df Residuals:                      96   BIC:                            -819.2\n",
              "Df Model:                           3                                         \n",
              "Covariance Type:            nonrobust                                         \n",
              "==============================================================================\n",
              "                 coef    std err          t      P>|t|      [0.025      0.975]\n",
              "------------------------------------------------------------------------------\n",
              "Intercept     -0.0014      0.001     -1.158      0.250      -0.004       0.001\n",
              "gdp            0.9000   2.19e-06   4.11e+05      0.000       0.900       0.900\n",
              "tie         2.972e-06   2.37e-06      1.257      0.212   -1.72e-06    7.67e-06\n",
              "gdp:tie     4.607e-08   4.11e-09     11.215      0.000    3.79e-08    5.42e-08\n",
              "==============================================================================\n",
              "Omnibus:                        0.457   Durbin-Watson:                   2.005\n",
              "Prob(Omnibus):                  0.796   Jarque-Bera (JB):                0.607\n",
              "Skew:                          -0.127   Prob(JB):                        0.738\n",
              "Kurtosis:                       2.716   Cond. No.                     1.03e+06\n",
              "==============================================================================\n",
              "\n",
              "Warnings:\n",
              "[1] Standard Errors assume that the covariance matrix of the errors is correctly specified.\n",
              "[2] The condition number is large, 1.03e+06. This might indicate that there are\n",
              "strong multicollinearity or other numerical problems.\n",
              "\"\"\""
            ]
          },
          "metadata": {
            "tags": []
          },
          "execution_count": 80
        }
      ]
    },
    {
      "cell_type": "markdown",
      "metadata": {
        "id": "xaKAqYiROGUq"
      },
      "source": [
        "Значит, галстуки неважны, остальное все важно."
      ]
    },
    {
      "cell_type": "markdown",
      "metadata": {
        "id": "hHzkitbkODuA"
      },
      "source": [
        "# Задача №3"
      ]
    },
    {
      "cell_type": "code",
      "metadata": {
        "id": "2_RAPl2EODuB",
        "colab": {
          "base_uri": "https://localhost:8080/",
          "height": 94
        },
        "outputId": "de711e92-9239-4083-a725-2519c9df402a"
      },
      "source": [
        "task_numder = 3\n",
        "if task['tasks'][task_numder-1]['data'] != '-':\n",
        "    dataset3 = pd.read_csv(\n",
        "        'https://drive.google.com/uc?id={}'.format(\n",
        "            task['tasks'][task_numder-1]['data']))\n",
        "    print('dataset loaded')\n",
        "else:\n",
        "    dataset3 = pd.DataFrame(['not', 'required'])\n",
        "    print('dataset is not required')\n",
        "display(HTML('<h3>'+task['tasks'][task_numder-1]['task']+'</h3>'))"
      ],
      "execution_count": 52,
      "outputs": [
        {
          "output_type": "stream",
          "text": [
            "dataset loaded\n"
          ],
          "name": "stdout"
        },
        {
          "output_type": "display_data",
          "data": {
            "text/html": [
              "<h3>Рассмотрим задачу аппроксимации уровня продаж мандарин за последние 10 лет. Постройте модель, которая аппроксимирует данный временной ряд при помощи ARIMA. Подберите оптимальные параметры.</h3>"
            ],
            "text/plain": [
              "<IPython.core.display.HTML object>"
            ]
          },
          "metadata": {
            "tags": []
          }
        }
      ]
    },
    {
      "cell_type": "markdown",
      "metadata": {
        "id": "hAx4oWKFODuB"
      },
      "source": [
        "## Решение задачи"
      ]
    },
    {
      "cell_type": "code",
      "metadata": {
        "id": "ANkj0TRgXZZu",
        "colab": {
          "base_uri": "https://localhost:8080/",
          "height": 204
        },
        "outputId": "ebf06a1a-e225-4628-fbb3-0f5b87d3b268"
      },
      "source": [
        "dataset3.sample(5)"
      ],
      "execution_count": 55,
      "outputs": [
        {
          "output_type": "execute_result",
          "data": {
            "text/html": [
              "<div>\n",
              "<style scoped>\n",
              "    .dataframe tbody tr th:only-of-type {\n",
              "        vertical-align: middle;\n",
              "    }\n",
              "\n",
              "    .dataframe tbody tr th {\n",
              "        vertical-align: top;\n",
              "    }\n",
              "\n",
              "    .dataframe thead th {\n",
              "        text-align: right;\n",
              "    }\n",
              "</style>\n",
              "<table border=\"1\" class=\"dataframe\">\n",
              "  <thead>\n",
              "    <tr style=\"text-align: right;\">\n",
              "      <th></th>\n",
              "      <th>t</th>\n",
              "      <th>point</th>\n",
              "    </tr>\n",
              "  </thead>\n",
              "  <tbody>\n",
              "    <tr>\n",
              "      <th>126</th>\n",
              "      <td>7.2020</td>\n",
              "      <td>12.819919</td>\n",
              "    </tr>\n",
              "    <tr>\n",
              "      <th>104</th>\n",
              "      <td>9.2018</td>\n",
              "      <td>10.229187</td>\n",
              "    </tr>\n",
              "    <tr>\n",
              "      <th>21</th>\n",
              "      <td>10.2011</td>\n",
              "      <td>2.071861</td>\n",
              "    </tr>\n",
              "    <tr>\n",
              "      <th>127</th>\n",
              "      <td>8.2020</td>\n",
              "      <td>12.287866</td>\n",
              "    </tr>\n",
              "    <tr>\n",
              "      <th>125</th>\n",
              "      <td>6.2020</td>\n",
              "      <td>17.329616</td>\n",
              "    </tr>\n",
              "  </tbody>\n",
              "</table>\n",
              "</div>"
            ],
            "text/plain": [
              "           t      point\n",
              "126   7.2020  12.819919\n",
              "104   9.2018  10.229187\n",
              "21   10.2011   2.071861\n",
              "127   8.2020  12.287866\n",
              "125   6.2020  17.329616"
            ]
          },
          "metadata": {
            "tags": []
          },
          "execution_count": 55
        }
      ]
    },
    {
      "cell_type": "code",
      "metadata": {
        "colab": {
          "base_uri": "https://localhost:8080/",
          "height": 378
        },
        "id": "kE-orlspYlwZ",
        "outputId": "90118407-6e2f-410c-b943-f8701f779a97"
      },
      "source": [
        "!pip install statsmodels==0.12.1"
      ],
      "execution_count": 9,
      "outputs": [
        {
          "output_type": "stream",
          "text": [
            "Collecting statsmodels==0.12.1\n",
            "\u001b[?25l  Downloading https://files.pythonhosted.org/packages/93/97/67bf20df36a88ce8dd84828f83453b91177e1ff0abd8c92f2e0a47782689/statsmodels-0.12.1-cp37-cp37m-manylinux1_x86_64.whl (9.5MB)\n",
            "\u001b[K     |████████████████████████████████| 9.5MB 6.1MB/s \n",
            "\u001b[?25hRequirement already satisfied: numpy>=1.15 in /usr/local/lib/python3.7/dist-packages (from statsmodels==0.12.1) (1.19.5)\n",
            "Requirement already satisfied: patsy>=0.5 in /usr/local/lib/python3.7/dist-packages (from statsmodels==0.12.1) (0.5.1)\n",
            "Requirement already satisfied: scipy>=1.1 in /usr/local/lib/python3.7/dist-packages (from statsmodels==0.12.1) (1.4.1)\n",
            "Requirement already satisfied: pandas>=0.21 in /usr/local/lib/python3.7/dist-packages (from statsmodels==0.12.1) (1.1.5)\n",
            "Requirement already satisfied: six in /usr/local/lib/python3.7/dist-packages (from patsy>=0.5->statsmodels==0.12.1) (1.15.0)\n",
            "Requirement already satisfied: python-dateutil>=2.7.3 in /usr/local/lib/python3.7/dist-packages (from pandas>=0.21->statsmodels==0.12.1) (2.8.1)\n",
            "Requirement already satisfied: pytz>=2017.2 in /usr/local/lib/python3.7/dist-packages (from pandas>=0.21->statsmodels==0.12.1) (2018.9)\n",
            "Installing collected packages: statsmodels\n",
            "  Found existing installation: statsmodels 0.10.2\n",
            "    Uninstalling statsmodels-0.10.2:\n",
            "      Successfully uninstalled statsmodels-0.10.2\n",
            "Successfully installed statsmodels-0.12.1\n"
          ],
          "name": "stdout"
        },
        {
          "output_type": "display_data",
          "data": {
            "application/vnd.colab-display-data+json": {
              "pip_warning": {
                "packages": [
                  "statsmodels"
                ]
              }
            }
          },
          "metadata": {
            "tags": []
          }
        }
      ]
    },
    {
      "cell_type": "code",
      "metadata": {
        "id": "b-LyjIlce6DS"
      },
      "source": [
        "data = dataset3['point']"
      ],
      "execution_count": 57,
      "outputs": []
    },
    {
      "cell_type": "code",
      "metadata": {
        "colab": {
          "base_uri": "https://localhost:8080/",
          "height": 374
        },
        "id": "pXKPwVEWOYVg",
        "outputId": "839718d9-6340-4a91-c564-1e3681eff36c"
      },
      "source": [
        "import seaborn as sns\n",
        "import matplotlib.pylab as plt\n",
        "\n",
        "plt.figure(figsize = (10,6))\n",
        "plt.plot(data)\n",
        "plt.show()"
      ],
      "execution_count": 58,
      "outputs": [
        {
          "output_type": "display_data",
          "data": {
            "image/png": "[encoded data removed]",
            "text/plain": [
              "<Figure size 720x432 with 1 Axes>"
            ]
          },
          "metadata": {
            "tags": [],
            "needs_background": "light"
          }
        }
      ]
    },
    {
      "cell_type": "code",
      "metadata": {
        "colab": {
          "base_uri": "https://localhost:8080/",
          "height": 375
        },
        "id": "yu9QyqK6Y29X",
        "outputId": "f85155d0-886f-46fb-ecf5-49710fd59195"
      },
      "source": [
        "from statsmodels.tsa.seasonal import seasonal_decompose\n",
        "\n",
        "stl_data = seasonal_decompose(dataset3['point'])\n",
        "stl_data.plot()\n",
        "\n",
        "plt.show()"
      ],
      "execution_count": 83,
      "outputs": [
        {
          "output_type": "error",
          "ename": "ValueError",
          "evalue": "ignored",
          "traceback": [
            "\u001b[0;31m---------------------------------------------------------------------------\u001b[0m",
            "\u001b[0;31mValueError\u001b[0m                                Traceback (most recent call last)",
            "\u001b[0;32m<ipython-input-83-ed0fdaaa8f8c>\u001b[0m in \u001b[0;36m<module>\u001b[0;34m()\u001b[0m\n\u001b[1;32m      1\u001b[0m \u001b[0;32mfrom\u001b[0m \u001b[0mstatsmodels\u001b[0m\u001b[0;34m.\u001b[0m\u001b[0mtsa\u001b[0m\u001b[0;34m.\u001b[0m\u001b[0mseasonal\u001b[0m \u001b[0;32mimport\u001b[0m \u001b[0mseasonal_decompose\u001b[0m\u001b[0;34m\u001b[0m\u001b[0;34m\u001b[0m\u001b[0m\n\u001b[1;32m      2\u001b[0m \u001b[0;34m\u001b[0m\u001b[0m\n\u001b[0;32m----> 3\u001b[0;31m \u001b[0mstl_data\u001b[0m \u001b[0;34m=\u001b[0m \u001b[0mseasonal_decompose\u001b[0m\u001b[0;34m(\u001b[0m\u001b[0mdataset3\u001b[0m\u001b[0;34m[\u001b[0m\u001b[0;34m'point'\u001b[0m\u001b[0;34m]\u001b[0m\u001b[0;34m)\u001b[0m\u001b[0;34m\u001b[0m\u001b[0;34m\u001b[0m\u001b[0m\n\u001b[0m\u001b[1;32m      4\u001b[0m \u001b[0mstl_data\u001b[0m\u001b[0;34m.\u001b[0m\u001b[0mplot\u001b[0m\u001b[0;34m(\u001b[0m\u001b[0;34m)\u001b[0m\u001b[0;34m\u001b[0m\u001b[0;34m\u001b[0m\u001b[0m\n\u001b[1;32m      5\u001b[0m \u001b[0;34m\u001b[0m\u001b[0m\n",
            "\u001b[0;32m/usr/local/lib/python3.7/dist-packages/pandas/util/_decorators.py\u001b[0m in \u001b[0;36mwrapper\u001b[0;34m(*args, **kwargs)\u001b[0m\n\u001b[1;32m    197\u001b[0m                 \u001b[0;32melse\u001b[0m\u001b[0;34m:\u001b[0m\u001b[0;34m\u001b[0m\u001b[0;34m\u001b[0m\u001b[0m\n\u001b[1;32m    198\u001b[0m                     \u001b[0mkwargs\u001b[0m\u001b[0;34m[\u001b[0m\u001b[0mnew_arg_name\u001b[0m\u001b[0;34m]\u001b[0m \u001b[0;34m=\u001b[0m \u001b[0mnew_arg_value\u001b[0m\u001b[0;34m\u001b[0m\u001b[0;34m\u001b[0m\u001b[0m\n\u001b[0;32m--> 199\u001b[0;31m             \u001b[0;32mreturn\u001b[0m \u001b[0mfunc\u001b[0m\u001b[0;34m(\u001b[0m\u001b[0;34m*\u001b[0m\u001b[0margs\u001b[0m\u001b[0;34m,\u001b[0m \u001b[0;34m**\u001b[0m\u001b[0mkwargs\u001b[0m\u001b[0;34m)\u001b[0m\u001b[0;34m\u001b[0m\u001b[0;34m\u001b[0m\u001b[0m\n\u001b[0m\u001b[1;32m    200\u001b[0m \u001b[0;34m\u001b[0m\u001b[0m\n\u001b[1;32m    201\u001b[0m         \u001b[0;32mreturn\u001b[0m \u001b[0mcast\u001b[0m\u001b[0;34m(\u001b[0m\u001b[0mF\u001b[0m\u001b[0;34m,\u001b[0m \u001b[0mwrapper\u001b[0m\u001b[0;34m)\u001b[0m\u001b[0;34m\u001b[0m\u001b[0;34m\u001b[0m\u001b[0m\n",
            "\u001b[0;32m/usr/local/lib/python3.7/dist-packages/statsmodels/tsa/seasonal.py\u001b[0m in \u001b[0;36mseasonal_decompose\u001b[0;34m(x, model, filt, period, two_sided, extrapolate_trend)\u001b[0m\n\u001b[1;32m    140\u001b[0m             \u001b[0mperiod\u001b[0m \u001b[0;34m=\u001b[0m \u001b[0mpfreq\u001b[0m\u001b[0;34m\u001b[0m\u001b[0;34m\u001b[0m\u001b[0m\n\u001b[1;32m    141\u001b[0m         \u001b[0;32melse\u001b[0m\u001b[0;34m:\u001b[0m\u001b[0;34m\u001b[0m\u001b[0;34m\u001b[0m\u001b[0m\n\u001b[0;32m--> 142\u001b[0;31m             raise ValueError(\"You must specify a period or x must be a \"\n\u001b[0m\u001b[1;32m    143\u001b[0m                              \u001b[0;34m\"pandas object with a DatetimeIndex with \"\u001b[0m\u001b[0;34m\u001b[0m\u001b[0;34m\u001b[0m\u001b[0m\n\u001b[1;32m    144\u001b[0m                              \"a freq not set to None\")\n",
            "\u001b[0;31mValueError\u001b[0m: You must specify a period or x must be a pandas object with a DatetimeIndex with a freq not set to None"
          ]
        }
      ]
    },
    {
      "cell_type": "code",
      "metadata": {
        "colab": {
          "base_uri": "https://localhost:8080/",
          "height": 235
        },
        "id": "nFPuz9vHkyXK",
        "outputId": "36b92ed2-8d7e-4a81-922e-7fe70db1992f"
      },
      "source": [
        ""
      ],
      "execution_count": null,
      "outputs": [
        {
          "output_type": "execute_result",
          "data": {
            "text/html": [
              "<div>\n",
              "<style scoped>\n",
              "    .dataframe tbody tr th:only-of-type {\n",
              "        vertical-align: middle;\n",
              "    }\n",
              "\n",
              "    .dataframe tbody tr th {\n",
              "        vertical-align: top;\n",
              "    }\n",
              "\n",
              "    .dataframe thead th {\n",
              "        text-align: right;\n",
              "    }\n",
              "</style>\n",
              "<table border=\"1\" class=\"dataframe\">\n",
              "  <thead>\n",
              "    <tr style=\"text-align: right;\">\n",
              "      <th></th>\n",
              "      <th>t</th>\n",
              "      <th>point</th>\n",
              "    </tr>\n",
              "    <tr>\n",
              "      <th>t</th>\n",
              "      <th></th>\n",
              "      <th></th>\n",
              "    </tr>\n",
              "  </thead>\n",
              "  <tbody>\n",
              "    <tr>\n",
              "      <th>1970-01-01 00:00:00.000000049</th>\n",
              "      <td>49.0</td>\n",
              "      <td>6.117718</td>\n",
              "    </tr>\n",
              "    <tr>\n",
              "      <th>1970-01-01 00:00:00.000000023</th>\n",
              "      <td>23.0</td>\n",
              "      <td>2.011134</td>\n",
              "    </tr>\n",
              "    <tr>\n",
              "      <th>1970-01-01 00:00:00.000000128</th>\n",
              "      <td>128.0</td>\n",
              "      <td>13.639404</td>\n",
              "    </tr>\n",
              "    <tr>\n",
              "      <th>1970-01-01 00:00:00.000000129</th>\n",
              "      <td>129.0</td>\n",
              "      <td>14.995759</td>\n",
              "    </tr>\n",
              "    <tr>\n",
              "      <th>1970-01-01 00:00:00.000000002</th>\n",
              "      <td>2.0</td>\n",
              "      <td>0.380522</td>\n",
              "    </tr>\n",
              "  </tbody>\n",
              "</table>\n",
              "</div>"
            ],
            "text/plain": [
              "                                   t      point\n",
              "t                                              \n",
              "1970-01-01 00:00:00.000000049   49.0   6.117718\n",
              "1970-01-01 00:00:00.000000023   23.0   2.011134\n",
              "1970-01-01 00:00:00.000000128  128.0  13.639404\n",
              "1970-01-01 00:00:00.000000129  129.0  14.995759\n",
              "1970-01-01 00:00:00.000000002    2.0   0.380522"
            ]
          },
          "metadata": {
            "tags": []
          },
          "execution_count": 94
        }
      ]
    },
    {
      "cell_type": "code",
      "metadata": {
        "colab": {
          "base_uri": "https://localhost:8080/",
          "height": 611
        },
        "id": "NmIgmwvCj_BX",
        "outputId": "20f2c04b-0dea-4598-ee3a-d866389a63b2"
      },
      "source": [
        "from statsmodels.tsa.seasonal import seasonal_decompose\n",
        "\n",
        "stl_data = seasonal_decompose(dataset3['point'].values, freq=30)\n",
        "stl_data.plot()"
      ],
      "execution_count": 39,
      "outputs": [
        {
          "output_type": "stream",
          "text": [
            "/usr/local/lib/python3.7/dist-packages/ipykernel_launcher.py:3: FutureWarning: the 'freq'' keyword is deprecated, use 'period' instead\n",
            "  This is separate from the ipykernel package so we can avoid doing imports until\n"
          ],
          "name": "stderr"
        },
        {
          "output_type": "execute_result",
          "data": {
            "image/png": "[encoded data removed]",
            "text/plain": [
              "<Figure size 432x288 with 4 Axes>"
            ]
          },
          "metadata": {
            "tags": []
          },
          "execution_count": 39
        },
        {
          "output_type": "display_data",
          "data": {
            "image/png": "[encoded data removed]",
            "text/plain": [
              "<Figure size 432x288 with 4 Axes>"
            ]
          },
          "metadata": {
            "tags": [],
            "needs_background": "light"
          }
        }
      ]
    },
    {
      "cell_type": "code",
      "metadata": {
        "colab": {
          "base_uri": "https://localhost:8080/"
        },
        "id": "-L9dByPZdWdC",
        "outputId": "d793a29f-ae1b-43e0-e0d6-fc1616a7b92a"
      },
      "source": [
        "stl_data.trend"
      ],
      "execution_count": 65,
      "outputs": [
        {
          "output_type": "execute_result",
          "data": {
            "text/plain": [
              "0     NaN\n",
              "1     NaN\n",
              "2     NaN\n",
              "3     NaN\n",
              "4     NaN\n",
              "       ..\n",
              "127   NaN\n",
              "128   NaN\n",
              "129   NaN\n",
              "130   NaN\n",
              "131   NaN\n",
              "Name: trend, Length: 132, dtype: float64"
            ]
          },
          "metadata": {
            "tags": []
          },
          "execution_count": 65
        }
      ]
    },
    {
      "cell_type": "code",
      "metadata": {
        "colab": {
          "base_uri": "https://localhost:8080/"
        },
        "id": "IswGxtz2kPkB",
        "outputId": "3d54390c-0970-4986-8cdf-e5a392f362fa"
      },
      "source": [
        "from statsmodels.tsa.stattools import kpss\n",
        "\n",
        "kpss(data, nlags=\"legacy\")"
      ],
      "execution_count": 60,
      "outputs": [
        {
          "output_type": "stream",
          "text": [
            "/usr/local/lib/python3.7/dist-packages/statsmodels/tsa/stattools.py:1882: InterpolationWarning: The test statistic is outside of the range of p-values available in the\n",
            "look-up table. The actual p-value is smaller than the p-value returned.\n",
            "\n",
            "  warn_msg.format(direction=\"smaller\"), InterpolationWarning\n"
          ],
          "name": "stderr"
        },
        {
          "output_type": "execute_result",
          "data": {
            "text/plain": [
              "(1.0005841771931219,\n",
              " 0.01,\n",
              " 13,\n",
              " {'1%': 0.739, '10%': 0.347, '2.5%': 0.574, '5%': 0.463})"
            ]
          },
          "metadata": {
            "tags": []
          },
          "execution_count": 60
        }
      ]
    },
    {
      "cell_type": "code",
      "metadata": {
        "colab": {
          "base_uri": "https://localhost:8080/",
          "height": 265
        },
        "id": "5rCMg9BpcZjF",
        "outputId": "a16c4d9f-5ef8-474d-fdcd-eda75d9e4f1c"
      },
      "source": [
        "new_data_without_trend = dataset3.copy()[15:-15]\n",
        "new_data_without_trend['t'] = (dataset3['t'] - stl_data.trend)[15:-15]\n",
        "plt.plot(new_data_without_trend['point'])\n",
        "\n",
        "plt.show()"
      ],
      "execution_count": 68,
      "outputs": [
        {
          "output_type": "display_data",
          "data": {
            "image/png": "[encoded data removed]",
            "text/plain": [
              "<Figure size 432x288 with 1 Axes>"
            ]
          },
          "metadata": {
            "tags": [],
            "needs_background": "light"
          }
        }
      ]
    },
    {
      "cell_type": "code",
      "metadata": {
        "colab": {
          "base_uri": "https://localhost:8080/"
        },
        "id": "eifXVVSgd7IV",
        "outputId": "c8fd7a67-5dbe-4226-e84c-9a9659ce6648"
      },
      "source": [
        "kpss(new_data_without_trend['point'], nlags=\"legacy\")"
      ],
      "execution_count": 69,
      "outputs": [
        {
          "output_type": "stream",
          "text": [
            "/usr/local/lib/python3.7/dist-packages/statsmodels/tsa/stattools.py:1882: InterpolationWarning: The test statistic is outside of the range of p-values available in the\n",
            "look-up table. The actual p-value is smaller than the p-value returned.\n",
            "\n",
            "  warn_msg.format(direction=\"smaller\"), InterpolationWarning\n"
          ],
          "name": "stderr"
        },
        {
          "output_type": "execute_result",
          "data": {
            "text/plain": [
              "(0.8316041071272807,\n",
              " 0.01,\n",
              " 13,\n",
              " {'1%': 0.739, '10%': 0.347, '2.5%': 0.574, '5%': 0.463})"
            ]
          },
          "metadata": {
            "tags": []
          },
          "execution_count": 69
        }
      ]
    },
    {
      "cell_type": "markdown",
      "metadata": {
        "id": "FedosFLco1o6"
      },
      "source": [
        "Ряд нестационарен. Проведём дифференцирование:"
      ]
    },
    {
      "cell_type": "code",
      "metadata": {
        "colab": {
          "base_uri": "https://localhost:8080/",
          "height": 455
        },
        "id": "tt3GrDr0oc7f",
        "outputId": "8437add0-8bf4-4689-84e0-57a1a4041684"
      },
      "source": [
        "diff_ts = dataset3['point'].diff(12)[12:]\n",
        "plt.plot(diff_ts)\n",
        "kpss(diff_ts)"
      ],
      "execution_count": 70,
      "outputs": [
        {
          "output_type": "stream",
          "text": [
            "/usr/local/lib/python3.7/dist-packages/statsmodels/tsa/stattools.py:1850: FutureWarning: The behavior of using nlags=None will change in release 0.13.Currently nlags=None is the same as nlags=\"legacy\", and so a sample-size lag length is used. After the next release, the default will change to be the same as nlags=\"auto\" which uses an automatic lag length selection method. To silence this warning, either use \"auto\" or \"legacy\"\n",
            "  warnings.warn(msg, FutureWarning)\n",
            "/usr/local/lib/python3.7/dist-packages/statsmodels/tsa/stattools.py:1886: InterpolationWarning: The test statistic is outside of the range of p-values available in the\n",
            "look-up table. The actual p-value is greater than the p-value returned.\n",
            "\n",
            "  warn_msg.format(direction=\"greater\"), InterpolationWarning\n"
          ],
          "name": "stderr"
        },
        {
          "output_type": "execute_result",
          "data": {
            "text/plain": [
              "(0.045012059986617045,\n",
              " 0.1,\n",
              " 13,\n",
              " {'1%': 0.739, '10%': 0.347, '2.5%': 0.574, '5%': 0.463})"
            ]
          },
          "metadata": {
            "tags": []
          },
          "execution_count": 70
        },
        {
          "output_type": "display_data",
          "data": {
            "image/png": "[encoded data removed]",
            "text/plain": [
              "<Figure size 432x288 with 1 Axes>"
            ]
          },
          "metadata": {
            "tags": [],
            "needs_background": "light"
          }
        }
      ]
    },
    {
      "cell_type": "markdown",
      "metadata": {
        "id": "CEt62pDMo97x"
      },
      "source": [
        "Для полученного ряда гипотеза стационарности не отвергается\n",
        "\n",
        "Посмотрим на ACF и PACF полученного продифференцированного ряда:"
      ]
    },
    {
      "cell_type": "code",
      "metadata": {
        "colab": {
          "base_uri": "https://localhost:8080/",
          "height": 281
        },
        "id": "O-rND0CvpAHn",
        "outputId": "b4ffb687-8163-4480-dc21-2da8a453e939"
      },
      "source": [
        "from statsmodels.graphics.tsaplots import plot_acf\n",
        "\n",
        "plot_acf(diff_ts, lags=15)\n",
        "plt.show()"
      ],
      "execution_count": 71,
      "outputs": [
        {
          "output_type": "display_data",
          "data": {
            "image/png": "[encoded data removed]",
            "text/plain": [
              "<Figure size 432x288 with 1 Axes>"
            ]
          },
          "metadata": {
            "tags": [],
            "needs_background": "light"
          }
        }
      ]
    },
    {
      "cell_type": "code",
      "metadata": {
        "colab": {
          "base_uri": "https://localhost:8080/",
          "height": 281
        },
        "id": "ggve7TuMpMy3",
        "outputId": "025754be-69ed-47a8-a010-b0f08b6ee270"
      },
      "source": [
        "from statsmodels.graphics.tsaplots import plot_pacf\n",
        "\n",
        "plot_pacf(diff_ts, lags=15)\n",
        "plt.show()"
      ],
      "execution_count": 72,
      "outputs": [
        {
          "output_type": "display_data",
          "data": {
            "image/png": "[encoded data removed]",
            "text/plain": [
              "<Figure size 432x288 with 1 Axes>"
            ]
          },
          "metadata": {
            "tags": [],
            "needs_background": "light"
          }
        }
      ]
    },
    {
      "cell_type": "code",
      "metadata": {
        "colab": {
          "base_uri": "https://localhost:8080/",
          "height": 457
        },
        "id": "QMkJL3vZpnRU",
        "outputId": "e7a037e9-2a21-4534-e852-58bb593e1851"
      },
      "source": [
        "diff_diff_ts = diff_ts.diff(1)[1:]\n",
        "plt.plot(diff_diff_ts)\n",
        "kpss(diff_diff_ts)"
      ],
      "execution_count": 73,
      "outputs": [
        {
          "output_type": "stream",
          "text": [
            "/usr/local/lib/python3.7/dist-packages/statsmodels/tsa/stattools.py:1850: FutureWarning: The behavior of using nlags=None will change in release 0.13.Currently nlags=None is the same as nlags=\"legacy\", and so a sample-size lag length is used. After the next release, the default will change to be the same as nlags=\"auto\" which uses an automatic lag length selection method. To silence this warning, either use \"auto\" or \"legacy\"\n",
            "  warnings.warn(msg, FutureWarning)\n",
            "/usr/local/lib/python3.7/dist-packages/statsmodels/tsa/stattools.py:1886: InterpolationWarning: The test statistic is outside of the range of p-values available in the\n",
            "look-up table. The actual p-value is greater than the p-value returned.\n",
            "\n",
            "  warn_msg.format(direction=\"greater\"), InterpolationWarning\n"
          ],
          "name": "stderr"
        },
        {
          "output_type": "execute_result",
          "data": {
            "text/plain": [
              "(0.15336978903101334,\n",
              " 0.1,\n",
              " 13,\n",
              " {'1%': 0.739, '10%': 0.347, '2.5%': 0.574, '5%': 0.463})"
            ]
          },
          "metadata": {
            "tags": []
          },
          "execution_count": 73
        },
        {
          "output_type": "display_data",
          "data": {
            "image/png": "[encoded data removed]",
            "text/plain": [
              "<Figure size 432x288 with 1 Axes>"
            ]
          },
          "metadata": {
            "tags": [],
            "needs_background": "light"
          }
        }
      ]
    },
    {
      "cell_type": "code",
      "metadata": {
        "colab": {
          "base_uri": "https://localhost:8080/",
          "height": 281
        },
        "id": "v0SwN4GLp1hs",
        "outputId": "f88355b9-3c7b-4ca3-ecf9-43dc180e1ac6"
      },
      "source": [
        "plot_acf(diff_ts, lags=15)\n",
        "plt.show()"
      ],
      "execution_count": 74,
      "outputs": [
        {
          "output_type": "display_data",
          "data": {
            "image/png": "[encoded data removed]",
            "text/plain": [
              "<Figure size 432x288 with 1 Axes>"
            ]
          },
          "metadata": {
            "tags": [],
            "needs_background": "light"
          }
        }
      ]
    },
    {
      "cell_type": "code",
      "metadata": {
        "colab": {
          "base_uri": "https://localhost:8080/",
          "height": 281
        },
        "id": "izDyY2XtptYv",
        "outputId": "82978146-9b98-4562-c44e-8f08c8e0c9d2"
      },
      "source": [
        "plot_pacf(diff_diff_ts, lags=15)\n",
        "plt.show()"
      ],
      "execution_count": 75,
      "outputs": [
        {
          "output_type": "display_data",
          "data": {
            "image/png": "[encoded data removed]",
            "text/plain": [
              "<Figure size 432x288 with 1 Axes>"
            ]
          },
          "metadata": {
            "tags": [],
            "needs_background": "light"
          }
        }
      ]
    },
    {
      "cell_type": "markdown",
      "metadata": {
        "id": "TZfW-M03qZwL"
      },
      "source": [
        "На ACF значимы лаг 12, на PACF — 1-3. Будем искать модель, оптимальную по AICc, в окрестности ARIMA(3,1,1).\n",
        "\n",
        "**Не очень понятно, что делать с 11 и 12 на PACF? И на предыдущем дифференцировании так-то только 12 было — что это значит?**"
      ]
    },
    {
      "cell_type": "code",
      "metadata": {
        "id": "TEvdunyIOjTI",
        "colab": {
          "base_uri": "https://localhost:8080/"
        },
        "outputId": "d9f5c8dc-0d05-4130-caa8-080ee2fa007a"
      },
      "source": [
        "from statsmodels.tsa.arima_model import ARIMA\n",
        "\n",
        "for i in range(-3,2):\n",
        "    for k in range(-1, 2):\n",
        "      for p in range(-1, 2):\n",
        "        order = (3+i,1+k,1+p)\n",
        "        try:\n",
        "            arima = ARIMA(dataset3['point'].values, order=order).fit()\n",
        "            print(arima.aic)\n",
        "        except:\n",
        "            pass"
      ],
      "execution_count": 78,
      "outputs": [
        {
          "output_type": "stream",
          "text": [
            "780.0054352921779\n",
            "712.0049508239454\n",
            "687.6567982546605\n",
            "644.3561163438171\n",
            "581.0407497444336\n",
            "580.4240338906538\n",
            "777.0807183748182\n",
            "647.3345834832905\n",
            "591.0140606269365\n",
            "639.3382664895498\n",
            "596.5770755261924\n",
            "619.3360505832305\n",
            "580.4552224219631\n",
            "582.3831211905402\n",
            "718.7690114657121\n",
            "621.8979293680804\n",
            "664.4951472566268\n",
            "600.7160786874391\n",
            "582.4552100246675\n",
            "583.743434465266\n",
            "681.1297154544063\n",
            "606.8564934616065\n",
            "593.5009258097136\n",
            "582.2993507231674\n",
            "585.713056959437\n",
            "654.8447328332743\n",
            "598.6830322744354\n",
            "601.2708249020139\n",
            "593.2199204277905\n",
            "583.0140724844532\n",
            "585.0917546009863\n",
            "641.8510121686835\n",
            "598.6555868340655\n"
          ],
          "name": "stdout"
        }
      ]
    },
    {
      "cell_type": "markdown",
      "metadata": {
        "id": "UK9_w2CBsKbp"
      },
      "source": [
        "Нулевая апроксимирует лучшего всего?"
      ]
    },
    {
      "cell_type": "code",
      "metadata": {
        "colab": {
          "base_uri": "https://localhost:8080/"
        },
        "id": "-MkrJhsSsOB0",
        "outputId": "cd92184d-c637-49d4-bc19-808cb256c667"
      },
      "source": [
        "for i in range(-1,2):\n",
        "    for k in range(-1, 2):\n",
        "        order = (3+i,1,1+k)\n",
        "        try:\n",
        "            arima = ARIMA(dataset3['point'].values, order=order).fit()\n",
        "            print(arima.aic)\n",
        "        except:\n",
        "            pass"
      ],
      "execution_count": 79,
      "outputs": [
        {
          "output_type": "stream",
          "text": [
            "600.7160786874391\n",
            "582.4552100246675\n",
            "583.743434465266\n",
            "593.5009258097136\n",
            "582.2993507231674\n",
            "585.713056959437\n",
            "593.2199204277905\n",
            "583.0140724844532\n",
            "585.0917546009863\n"
          ],
          "name": "stdout"
        }
      ]
    },
    {
      "cell_type": "markdown",
      "metadata": {
        "id": "2rl4l4WvsZwC"
      },
      "source": [
        "Если делать как на семинаре, то все равно получается минимальная степень (2, 1, 0)"
      ]
    },
    {
      "cell_type": "code",
      "metadata": {
        "colab": {
          "base_uri": "https://localhost:8080/"
        },
        "id": "ZiqWjN6wsj8u",
        "outputId": "757b1b42-cf87-4d43-ebdc-b1a0f34e36f3"
      },
      "source": [
        "arima = ARIMA(dataset3['point'].values, order=(2,1,0)).fit()\n",
        "print(arima.summary())"
      ],
      "execution_count": null,
      "outputs": [
        {
          "output_type": "stream",
          "text": [
            "                             ARIMA Model Results                              \n",
            "==============================================================================\n",
            "Dep. Variable:                    D.y   No. Observations:                  131\n",
            "Model:                 ARIMA(2, 1, 0)   Log Likelihood                -296.358\n",
            "Method:                       css-mle   S.D. of innovations              2.319\n",
            "Date:                Tue, 27 Apr 2021   AIC                            600.716\n",
            "Time:                        18:59:11   BIC                            612.217\n",
            "Sample:                             1   HQIC                           605.389\n",
            "                                                                              \n",
            "==============================================================================\n",
            "                 coef    std err          z      P>|z|      [0.025      0.975]\n",
            "------------------------------------------------------------------------------\n",
            "const          0.0763      0.103      0.743      0.459      -0.125       0.278\n",
            "ar.L1.D.y     -0.5992      0.081     -7.414      0.000      -0.758      -0.441\n",
            "ar.L2.D.y     -0.3841      0.081     -4.741      0.000      -0.543      -0.225\n",
            "                                    Roots                                    \n",
            "=============================================================================\n",
            "                  Real          Imaginary           Modulus         Frequency\n",
            "-----------------------------------------------------------------------------\n",
            "AR.1           -0.7799           -1.4124j            1.6134           -0.3303\n",
            "AR.2           -0.7799           +1.4124j            1.6134            0.3303\n",
            "-----------------------------------------------------------------------------\n"
          ],
          "name": "stdout"
        }
      ]
    },
    {
      "cell_type": "code",
      "metadata": {
        "colab": {
          "base_uri": "https://localhost:8080/",
          "height": 793
        },
        "id": "yFrW-udosnPZ",
        "outputId": "f6c30cce-1ecf-4f0f-b0d4-622134e80eee"
      },
      "source": [
        "plt.plot(arima.resid)\n",
        "plot_pacf(arima.resid, lags=15)\n",
        "plot_acf(arima.resid, lags=15)\n",
        "\n",
        "plt.show()"
      ],
      "execution_count": null,
      "outputs": [
        {
          "output_type": "display_data",
          "data": {
            "image/png": "[encoded data removed]",
            "text/plain": [
              "<Figure size 432x288 with 1 Axes>"
            ]
          },
          "metadata": {
            "tags": [],
            "needs_background": "light"
          }
        },
        {
          "output_type": "display_data",
          "data": {
            "image/png": "[encoded data removed]",
            "text/plain": [
              "<Figure size 432x288 with 1 Axes>"
            ]
          },
          "metadata": {
            "tags": [],
            "needs_background": "light"
          }
        },
        {
          "output_type": "display_data",
          "data": {
            "image/png": "[encoded data removed]",
            "text/plain": [
              "<Figure size 432x288 with 1 Axes>"
            ]
          },
          "metadata": {
            "tags": [],
            "needs_background": "light"
          }
        }
      ]
    },
    {
      "cell_type": "code",
      "metadata": {
        "id": "k1J52pnKsq_R"
      },
      "source": [
        "for i in range(-1,2):\n",
        "    for k in range(-1, 2):\n",
        "        order = (3+i,1,1+k)\n",
        "        try:\n",
        "            arima = ARIMA(dataset3['point'].values, order=order, seasonal_order=(1, 1, 1, 12)).fit()\n",
        "            print(arima.aic)\n",
        "        except:\n",
        "            pass"
      ],
      "execution_count": 80,
      "outputs": []
    },
    {
      "cell_type": "code",
      "metadata": {
        "id": "8oG5OWAmtAQk"
      },
      "source": [
        ""
      ],
      "execution_count": null,
      "outputs": []
    },
    {
      "cell_type": "markdown",
      "metadata": {
        "id": "_taqSaxltODz"
      },
      "source": [
        "Ничего? "
      ]
    }
  ]
}