{
 "cells": [
  {
   "cell_type": "markdown",
   "metadata": {
    "slideshow": {
     "slide_type": "slide"
    }
   },
   "source": [
    "# Множественное тестирование гипотез"
   ]
  },
  {
   "cell_type": "markdown",
   "metadata": {
    "slideshow": {
     "slide_type": "slide"
    }
   },
   "source": [
    "## Библиотеки"
   ]
  },
  {
   "cell_type": "code",
   "execution_count": 1,
   "metadata": {},
   "outputs": [],
   "source": [
    "import numpy as np\n",
    "import pandas as pd\n",
    "import matplotlib.pylab as plt\n",
    "\n",
    "import scipy.stats as st\n",
    "import seaborn as sns\n",
    "\n",
    "# критерий стюдента для независимых выборок\n",
    "from  statsmodels.stats.weightstats import ttest_ind\n",
    "\n",
    "# пакет для проверки множественных гипотез\n",
    "from statsmodels.stats.multitest import multipletests"
   ]
  },
  {
   "cell_type": "markdown",
   "metadata": {
    "slideshow": {
     "slide_type": "slide"
    }
   },
   "source": [
    "## Warmup"
   ]
  },
  {
   "cell_type": "markdown",
   "metadata": {
    "slideshow": {
     "slide_type": "subslide"
    }
   },
   "source": [
    "### Модельный эксперимент"
   ]
  },
  {
   "cell_type": "markdown",
   "metadata": {
    "slideshow": {
     "slide_type": "subslide"
    }
   },
   "source": [
    "#### Постановка\n",
    "**Данные:**\n",
    "\n",
    "$n=20, \\quad m=200, \\quad m_0=150$,\n",
    "\n",
    "$\\mathbf{X}_i \\sim \\mathcal{N}(\\mathbf{0}, \\mathbf{I}), \\quad i=1,\\dots,m_0;$\n",
    "\n",
    "$\\mathbf{X}_i \\sim \\mathcal{N}(\\mathbf{1}, \\mathbf{I}), \\quad i=m_0+1,\\dots,m;$\n",
    "\n",
    "$\\mathbf{X}_i \\in \\mathbb{R}^n.$\n",
    "\n",
    "**Гипотезы:**\n",
    "\n",
    "$H^i_0: \\mathsf{E}\\mathbf{X}_i = 0$;\n",
    "\n",
    "$H^i_1: \\mathsf{E}\\mathbf{X}_i \\neq 0$;\n",
    "\n",
    "\n",
    "**Критерий для проверки:**\n",
    "* одновыборочный t-Критерия Стьюдента."
   ]
  },
  {
   "cell_type": "markdown",
   "metadata": {
    "slideshow": {
     "slide_type": "subslide"
    }
   },
   "source": [
    "#### Генерация данных"
   ]
  },
  {
   "cell_type": "code",
   "execution_count": 2,
   "metadata": {
    "slideshow": {
     "slide_type": "fragment"
    }
   },
   "outputs": [],
   "source": [
    "rs = np.random.RandomState(42)\n",
    "\n",
    "alpha = 0.05\n",
    "m = 200\n",
    "m0 = 150\n",
    "n = 20\n",
    "\n",
    "X = rs.randn(m,n)\n",
    "X[m0:]+=1"
   ]
  },
  {
   "cell_type": "markdown",
   "metadata": {
    "slideshow": {
     "slide_type": "subslide"
    }
   },
   "source": [
    "#### Гистограммы"
   ]
  },
  {
   "cell_type": "code",
   "execution_count": 5,
   "metadata": {
    "slideshow": {
     "slide_type": "fragment"
    }
   },
   "outputs": [
    {
     "data": {
      "image/png": "[encoded data removed]",
      "text/plain": [
       "<Figure size 432x288 with 1 Axes>"
      ]
     },
     "metadata": {
      "needs_background": "light"
     },
     "output_type": "display_data"
    }
   ],
   "source": [
    "_ = plt.hist(X[:m0].flatten(), color='r', density=True)\n",
    "_ = plt.hist(X[m0:].flatten(), color='g', alpha=0.5, density=True)"
   ]
  },
  {
   "cell_type": "markdown",
   "metadata": {
    "slideshow": {
     "slide_type": "subslide"
    }
   },
   "source": [
    "#### Эксперимент\n",
    "\n",
    "В качестве статистики использовать функцию ```st.ttest_1samp``` из пакета ```scipy.stats```."
   ]
  },
  {
   "cell_type": "markdown",
   "metadata": {
    "slideshow": {
     "slide_type": "subslide"
    }
   },
   "source": [
    "##### Без поправок"
   ]
  },
  {
   "cell_type": "code",
   "execution_count": 10,
   "metadata": {
    "slideshow": {
     "slide_type": "fragment"
    }
   },
   "outputs": [
    {
     "name": "stdout",
     "output_type": "stream",
     "text": [
      "True: H0; H1 non-rejected: 139\n",
      "True: H0; H0 rejected: 11\n",
      "True: H1; H1 non-rejected: 0\n",
      "True: H1; H0 rejected: 50\n"
     ]
    }
   ],
   "source": [
    "# zero mean\n",
    "rejected = 0\n",
    "for x in X[:m0]:\n",
    "    if st.ttest_1samp(x, 0)[1] <= alpha:\n",
    "        rejected+=1\n",
    "\n",
    "print ('True: H0; H1 non-rejected:', m0 - rejected)\n",
    "print ('True: H0; H0 rejected:', rejected)\n",
    "\n",
    "# non-zero mean\n",
    "rejected = 0\n",
    "for x in X[m0:]:\n",
    "    if st.ttest_1samp(x, 0)[1] <= alpha:\n",
    "        rejected+=1\n",
    "\n",
    "print ('True: H1; H1 non-rejected:', m-m0 - rejected)\n",
    "print ('True: H1; H0 rejected:', rejected)"
   ]
  },
  {
   "cell_type": "markdown",
   "metadata": {},
   "source": [
    "Ошиблись 11 раз (ошибка 1-го рода), так как вероятность ошибиться равна $0.5^{150} = $"
   ]
  },
  {
   "cell_type": "code",
   "execution_count": 15,
   "metadata": {},
   "outputs": [
    {
     "name": "stdout",
     "output_type": "stream",
     "text": [
      "0.04555549744836572 %\n"
     ]
    }
   ],
   "source": [
    "print(0.95**150*100, \"%\")"
   ]
  },
  {
   "cell_type": "markdown",
   "metadata": {
    "slideshow": {
     "slide_type": "subslide"
    }
   },
   "source": [
    "##### Бонферони (из пакета)"
   ]
  },
  {
   "cell_type": "code",
   "execution_count": 18,
   "metadata": {
    "slideshow": {
     "slide_type": "fragment"
    }
   },
   "outputs": [
    {
     "name": "stdout",
     "output_type": "stream",
     "text": [
      "True: H0; H1 non-rejected: 150\n",
      "True: H0; H1 rejected: 0\n",
      "True: H1;  H1 non-rejected: 30\n",
      "True: H1;  H1 rejected: 20\n"
     ]
    }
   ],
   "source": [
    "# zero mean\n",
    "p_values = []\n",
    "for x in X:\n",
    "    ### Ваш код тут ###\n",
    "    p_values.append(st.ttest_1samp(x, 0)[1])\n",
    "\n",
    "rejections = multipletests(p_values, method='bonferroni')[0]\n",
    "\n",
    "print ('True: H0; H1 non-rejected:', m0 - rejections[:m0].sum())\n",
    "print ('True: H0; H1 rejected:',  rejections[:m0].sum())\n",
    "\n",
    "# non-zero mean\n",
    "rejections = multipletests(p_values, method='bonferroni')[0]\n",
    "\n",
    "print ('True: H1;  H1 non-rejected:', m-m0 - rejections[m0:].sum())\n",
    "print ('True: H1;  H1 rejected:',  rejections[m0:].sum())\n",
    "\n"
   ]
  },
  {
   "cell_type": "markdown",
   "metadata": {
    "slideshow": {
     "slide_type": "subslide"
    }
   },
   "source": [
    "##### Бонферони (руками)"
   ]
  },
  {
   "cell_type": "code",
   "execution_count": 21,
   "metadata": {
    "slideshow": {
     "slide_type": "fragment"
    }
   },
   "outputs": [
    {
     "name": "stdout",
     "output_type": "stream",
     "text": [
      "True: H0; H1 non-rejected: 150\n",
      "True: H0; H0 rejected: 0\n",
      "True: H1; H1 non-rejected: 30\n",
      "True: H1; H0 rejected: 20\n"
     ]
    }
   ],
   "source": [
    "# zero mean\n",
    "rejected = 0\n",
    "for x in X[:m0]:\n",
    "    if st.ttest_1samp(x, 0)[1] <= alpha/m:\n",
    "        rejected+=1\n",
    "\n",
    "print ('True: H0; H1 non-rejected:', m0 - rejected)\n",
    "print ('True: H0; H0 rejected:', rejected)\n",
    "\n",
    "# non-zero mean\n",
    "rejected = 0\n",
    "for x in X[m0:]:\n",
    "    if st.ttest_1samp(x, 0)[1] <= alpha/m:\n",
    "        rejected+=1\n",
    "\n",
    "print ('True: H1; H1 non-rejected:', m-m0 - rejected)\n",
    "print ('True: H1; H0 rejected:', rejected)"
   ]
  },
  {
   "cell_type": "markdown",
   "metadata": {
    "slideshow": {
     "slide_type": "subslide"
    }
   },
   "source": [
    "##### График зависимости мощности для разных поправок"
   ]
  },
  {
   "cell_type": "code",
   "execution_count": 30,
   "metadata": {
    "slideshow": {
     "slide_type": "fragment"
    }
   },
   "outputs": [
    {
     "data": {
      "image/png": "[encoded data removed]",
      "text/plain": [
       "<Figure size 720x576 with 1 Axes>"
      ]
     },
     "metadata": {
      "needs_background": "light"
     },
     "output_type": "display_data"
    }
   ],
   "source": [
    "# no correction\n",
    "plt.plot([0, m - 1], [alpha] * 2, label='No correction')\n",
    "\n",
    "# bonferroni\n",
    "bonferroni = alpha / m\n",
    "plt.plot([0, m - 1], [bonferroni] * 2, label='Bonferroni')\n",
    "\n",
    "# holm\n",
    "holm = alpha / np.arange(m, 0, -1)\n",
    "plt.plot(holm, label='Holm')\n",
    "\n",
    "# sidak\n",
    "sidak = 1 - np.power((1. - alpha),  1. / np.arange(m, 0, -1))\n",
    "plt.plot(sidak, label='Sidak', ls='--')\n",
    "\n",
    "# benjamini-hochberg\n",
    "ecdffactor = np.arange(1, m + 1)/float(m)\n",
    "bh = alpha * ecdffactor\n",
    "plt.plot(range(m), bh, label='Benjamini-Hochberg' )\n",
    "\n",
    "# benjamini-yekutieli \n",
    "cm = np.sum(1. / np.arange(1, m+1)) \n",
    "ecdffactor = ecdffactor / cm\n",
    "by = alpha * ecdffactor\n",
    "plt.plot(range(m), by, label='Benjamini-Yekutieli ' )\n",
    "\n",
    "plt.xlabel('i')\n",
    "plt.ylabel('$a_i$')\n",
    "plt.legend(loc='best')\n",
    "plt.rcParams['figure.figsize'] = (10.0, 8.0)\n",
    "\n",
    "plt.show()"
   ]
  },
  {
   "cell_type": "markdown",
   "metadata": {
    "slideshow": {
     "slide_type": "subslide"
    }
   },
   "source": [
    "##### График модифицированых уровней значимости"
   ]
  },
  {
   "cell_type": "code",
   "execution_count": 31,
   "metadata": {
    "slideshow": {
     "slide_type": "fragment"
    }
   },
   "outputs": [],
   "source": [
    "def plot_diff_alpha(p_values, loc_plt=None):\n",
    "    '''\n",
    "    Функция для отрисовки модифицированых, отсортированых \n",
    "    уровней значимости для модельной выборки.\n",
    "    \n",
    "    param: p_values --- список уровней значимости\n",
    "    param: loc_plt --- объект matplotlib.pylab где производится отрисовка\n",
    "    \n",
    "    return: loc_plt --- объект matplotlib.pylab после отрисовки\n",
    "    '''\n",
    "    if loc_plt is None:\n",
    "        return None\n",
    "    argsorted_p = np.argsort(p_values)\n",
    "    false = []\n",
    "    true = []\n",
    "    for i, id in enumerate(argsorted_p):   \n",
    "        if id>m0:\n",
    "            false.append((i, p_values[id]))\n",
    "        else:\n",
    "            true.append((i, p_values[id]))\n",
    "    \n",
    "    loc_plt.scatter(*zip(*true), label='True hypothesis', c='b')\n",
    "    loc_plt.scatter(*zip(*false), label='False hypothesis', c='r')\n",
    "    loc_plt.xlabel('sorted i')\n",
    "    loc_plt.ylabel('$\\hat{p}(i)$')\n",
    "    loc_plt.legend(loc='best')\n",
    "    \n",
    "    return loc_plt"
   ]
  },
  {
   "cell_type": "markdown",
   "metadata": {
    "slideshow": {
     "slide_type": "subslide"
    }
   },
   "source": [
    "##### График модифицированых уровней значимости (без поправок)"
   ]
  },
  {
   "cell_type": "code",
   "execution_count": 33,
   "metadata": {
    "slideshow": {
     "slide_type": "fragment"
    }
   },
   "outputs": [
    {
     "data": {
      "image/png": "[encoded data removed]",
      "text/plain": [
       "<Figure size 720x576 with 1 Axes>"
      ]
     },
     "metadata": {
      "needs_background": "light"
     },
     "output_type": "display_data"
    }
   ],
   "source": [
    "p_values = []\n",
    "for x in X:\n",
    "     p_values.append(st.ttest_1samp(x, 0)[1])\n",
    "        \n",
    "plot_diff_alpha(p_values, loc_plt=plt)\n",
    "plt.plot(np.arange(0, m), [0.05]*200)\n",
    "plt.show()"
   ]
  },
  {
   "cell_type": "markdown",
   "metadata": {
    "slideshow": {
     "slide_type": "subslide"
    }
   },
   "source": [
    "##### График модифицированых уровней значимости (Bonferroni)"
   ]
  },
  {
   "cell_type": "code",
   "execution_count": 35,
   "metadata": {
    "slideshow": {
     "slide_type": "fragment"
    }
   },
   "outputs": [
    {
     "data": {
      "image/png": "[encoded data removed]",
      "text/plain": [
       "<Figure size 720x576 with 1 Axes>"
      ]
     },
     "metadata": {
      "needs_background": "light"
     },
     "output_type": "display_data"
    }
   ],
   "source": [
    "p_values = []\n",
    "for x in X:\n",
    "     p_values.append(st.ttest_1samp(x, 0)[1])\n",
    "\n",
    "p_values = multipletests(p_values, method='bonferroni')[1]\n",
    "\n",
    "plot_diff_alpha(p_values, loc_plt=plt)\n",
    "plt.plot(np.arange(0, m), [0.05]*200)\n",
    "plt.show()"
   ]
  },
  {
   "cell_type": "markdown",
   "metadata": {
    "slideshow": {
     "slide_type": "subslide"
    }
   },
   "source": [
    "##### График модифицированых уровней значимости (Holm)"
   ]
  },
  {
   "cell_type": "code",
   "execution_count": 36,
   "metadata": {
    "slideshow": {
     "slide_type": "fragment"
    }
   },
   "outputs": [
    {
     "data": {
      "image/png": "[encoded data removed]",
      "text/plain": [
       "<Figure size 720x576 with 1 Axes>"
      ]
     },
     "metadata": {
      "needs_background": "light"
     },
     "output_type": "display_data"
    }
   ],
   "source": [
    "p_values = []\n",
    "for x in X:\n",
    "     p_values.append(st.ttest_1samp(x, 0)[1])\n",
    "\n",
    "p_values = multipletests(p_values, method='holm')[1]\n",
    "\n",
    "plot_diff_alpha(p_values, loc_plt=plt)\n",
    "plt.plot(np.arange(0, m), [0.05]*200)\n",
    "plt.show()"
   ]
  },
  {
   "cell_type": "markdown",
   "metadata": {
    "slideshow": {
     "slide_type": "subslide"
    }
   },
   "source": [
    "##### График модифицированых уровней значимости (Holm-Sidak)"
   ]
  },
  {
   "cell_type": "code",
   "execution_count": 38,
   "metadata": {
    "slideshow": {
     "slide_type": "fragment"
    }
   },
   "outputs": [
    {
     "data": {
      "image/png": "[encoded data removed]",
      "text/plain": [
       "<Figure size 720x576 with 1 Axes>"
      ]
     },
     "metadata": {
      "needs_background": "light"
     },
     "output_type": "display_data"
    }
   ],
   "source": [
    "p_values = []\n",
    "for x in X:\n",
    "     p_values.append(st.ttest_1samp(x, 0)[1])\n",
    "\n",
    "p_values = multipletests(p_values, method='holm-sidak')[1]\n",
    "\n",
    "plot_diff_alpha(p_values, loc_plt=plt)\n",
    "plt.plot(np.arange(0, m), [0.05]*200)\n",
    "plt.show()"
   ]
  },
  {
   "cell_type": "markdown",
   "metadata": {
    "slideshow": {
     "slide_type": "subslide"
    }
   },
   "source": [
    "##### График модифицированых уровней значимости (Benjamini-Hochberg)"
   ]
  },
  {
   "cell_type": "code",
   "execution_count": 40,
   "metadata": {
    "slideshow": {
     "slide_type": "fragment"
    }
   },
   "outputs": [
    {
     "data": {
      "image/png": "[encoded data removed]",
      "text/plain": [
       "<Figure size 720x576 with 1 Axes>"
      ]
     },
     "metadata": {
      "needs_background": "light"
     },
     "output_type": "display_data"
    }
   ],
   "source": [
    "p_values = []\n",
    "for x in X:\n",
    "     p_values.append(st.ttest_1samp(x, 0)[1])\n",
    "\n",
    "p_values = multipletests(p_values, method='fdr_bh')[1]\n",
    "\n",
    "plot_diff_alpha(p_values, loc_plt=plt)\n",
    "plt.plot(np.arange(0, m), [0.05]*200)\n",
    "plt.show()"
   ]
  },
  {
   "cell_type": "markdown",
   "metadata": {
    "slideshow": {
     "slide_type": "subslide"
    }
   },
   "source": [
    "##### График модифицированых уровней значимости (Benjamini-Yekutieli)"
   ]
  },
  {
   "cell_type": "code",
   "execution_count": 41,
   "metadata": {
    "slideshow": {
     "slide_type": "fragment"
    }
   },
   "outputs": [
    {
     "data": {
      "image/png": "[encoded data removed]",
      "text/plain": [
       "<Figure size 720x576 with 1 Axes>"
      ]
     },
     "metadata": {
      "needs_background": "light"
     },
     "output_type": "display_data"
    }
   ],
   "source": [
    "p_values = []\n",
    "for x in X:\n",
    "     p_values.append(st.ttest_1samp(x, 0)[1])\n",
    "\n",
    "p_values = multipletests(p_values, method='fdr_by')[1]\n",
    "\n",
    "plot_diff_alpha(p_values, loc_plt=plt)\n",
    "plt.plot(np.arange(0, m), [0.05]*200)\n",
    "plt.show()"
   ]
  },
  {
   "cell_type": "markdown",
   "metadata": {
    "slideshow": {
     "slide_type": "slide"
    }
   },
   "source": [
    "## Лейкоциты и астма\n",
    "\n",
    "С использованием ДНК-микрочипов были получены анализ изменения генной экспрессии для двух групп детей: больных астмой и здоровых.\n",
    "\n",
    "Источник данных: http://www.ncbi.nlm.nih.gov/sites/GDSbrowser?acc=GDS4896"
   ]
  },
  {
   "cell_type": "markdown",
   "metadata": {
    "slideshow": {
     "slide_type": "subslide"
    }
   },
   "source": [
    "### Рассмотрим сами данные"
   ]
  },
  {
   "cell_type": "code",
   "execution_count": 42,
   "metadata": {
    "slideshow": {
     "slide_type": "fragment"
    }
   },
   "outputs": [],
   "source": [
    "data = pd.read_csv('data/expression.csv', delimiter=';')"
   ]
  },
  {
   "cell_type": "code",
   "execution_count": 43,
   "metadata": {
    "slideshow": {
     "slide_type": "fragment"
    }
   },
   "outputs": [
    {
     "data": {
      "text/html": [
       "<div>\n",
       "<style scoped>\n",
       "    .dataframe tbody tr th:only-of-type {\n",
       "        vertical-align: middle;\n",
       "    }\n",
       "\n",
       "    .dataframe tbody tr th {\n",
       "        vertical-align: top;\n",
       "    }\n",
       "\n",
       "    .dataframe thead th {\n",
       "        text-align: right;\n",
       "    }\n",
       "</style>\n",
       "<table border=\"1\" class=\"dataframe\">\n",
       "  <thead>\n",
       "    <tr style=\"text-align: right;\">\n",
       "      <th></th>\n",
       "      <th>ID_REF</th>\n",
       "      <th>IDENTIFIER</th>\n",
       "      <th>Healthy control</th>\n",
       "      <th>Healthy control.1</th>\n",
       "      <th>Healthy control.2</th>\n",
       "      <th>Healthy control.3</th>\n",
       "      <th>Healthy control.4</th>\n",
       "      <th>Healthy control.5</th>\n",
       "      <th>Healthy control.6</th>\n",
       "      <th>Healthy control.7</th>\n",
       "      <th>...</th>\n",
       "      <th>Severe asthma.8</th>\n",
       "      <th>Severe asthma.9</th>\n",
       "      <th>Severe asthma.10</th>\n",
       "      <th>Severe asthma.11</th>\n",
       "      <th>Severe asthma.12</th>\n",
       "      <th>Severe asthma.13</th>\n",
       "      <th>Severe asthma.14</th>\n",
       "      <th>Severe asthma.15</th>\n",
       "      <th>Severe asthma.16</th>\n",
       "      <th>Gene title</th>\n",
       "    </tr>\n",
       "  </thead>\n",
       "  <tbody>\n",
       "    <tr>\n",
       "      <th>24361</th>\n",
       "      <td>8139915</td>\n",
       "      <td>chr7:68972498-68972608</td>\n",
       "      <td>3.76948</td>\n",
       "      <td>3.68015</td>\n",
       "      <td>3.74611</td>\n",
       "      <td>3.63432</td>\n",
       "      <td>3.86040</td>\n",
       "      <td>3.37283</td>\n",
       "      <td>3.71514</td>\n",
       "      <td>3.59223</td>\n",
       "      <td>...</td>\n",
       "      <td>3.78447</td>\n",
       "      <td>4.14862</td>\n",
       "      <td>3.83881</td>\n",
       "      <td>3.67698</td>\n",
       "      <td>3.89037</td>\n",
       "      <td>3.75484</td>\n",
       "      <td>3.81857</td>\n",
       "      <td>3.88641</td>\n",
       "      <td>3.50943</td>\n",
       "      <td>NaN</td>\n",
       "    </tr>\n",
       "    <tr>\n",
       "      <th>16236</th>\n",
       "      <td>8153704</td>\n",
       "      <td>SCRT1</td>\n",
       "      <td>5.10719</td>\n",
       "      <td>5.03709</td>\n",
       "      <td>4.88747</td>\n",
       "      <td>4.92006</td>\n",
       "      <td>5.04115</td>\n",
       "      <td>4.96551</td>\n",
       "      <td>5.18758</td>\n",
       "      <td>4.96119</td>\n",
       "      <td>...</td>\n",
       "      <td>5.02194</td>\n",
       "      <td>5.20394</td>\n",
       "      <td>5.05910</td>\n",
       "      <td>5.01995</td>\n",
       "      <td>4.84870</td>\n",
       "      <td>5.04161</td>\n",
       "      <td>4.83771</td>\n",
       "      <td>4.90972</td>\n",
       "      <td>4.63200</td>\n",
       "      <td>scratch family zinc finger 1</td>\n",
       "    </tr>\n",
       "    <tr>\n",
       "      <th>1132</th>\n",
       "      <td>8152867</td>\n",
       "      <td>ASAP1</td>\n",
       "      <td>10.77670</td>\n",
       "      <td>10.45790</td>\n",
       "      <td>10.37940</td>\n",
       "      <td>10.30210</td>\n",
       "      <td>10.91190</td>\n",
       "      <td>10.60680</td>\n",
       "      <td>10.68050</td>\n",
       "      <td>10.76900</td>\n",
       "      <td>...</td>\n",
       "      <td>10.47630</td>\n",
       "      <td>10.32990</td>\n",
       "      <td>10.64780</td>\n",
       "      <td>10.58370</td>\n",
       "      <td>11.20130</td>\n",
       "      <td>10.64330</td>\n",
       "      <td>10.27230</td>\n",
       "      <td>10.30870</td>\n",
       "      <td>10.12290</td>\n",
       "      <td>ArfGAP with SH3 domain, ankyrin repeat and PH ...</td>\n",
       "    </tr>\n",
       "    <tr>\n",
       "      <th>26938</th>\n",
       "      <td>8123763</td>\n",
       "      <td>chr6:6938840-6939130</td>\n",
       "      <td>6.05581</td>\n",
       "      <td>5.85686</td>\n",
       "      <td>5.88777</td>\n",
       "      <td>5.82856</td>\n",
       "      <td>6.04216</td>\n",
       "      <td>5.75013</td>\n",
       "      <td>6.17798</td>\n",
       "      <td>5.81931</td>\n",
       "      <td>...</td>\n",
       "      <td>5.93248</td>\n",
       "      <td>6.04876</td>\n",
       "      <td>5.89860</td>\n",
       "      <td>6.02485</td>\n",
       "      <td>5.92168</td>\n",
       "      <td>5.81926</td>\n",
       "      <td>5.94733</td>\n",
       "      <td>5.77901</td>\n",
       "      <td>6.14720</td>\n",
       "      <td>NaN</td>\n",
       "    </tr>\n",
       "    <tr>\n",
       "      <th>18470</th>\n",
       "      <td>8136557</td>\n",
       "      <td>TBXAS1</td>\n",
       "      <td>9.68575</td>\n",
       "      <td>9.63905</td>\n",
       "      <td>9.03147</td>\n",
       "      <td>9.55518</td>\n",
       "      <td>10.21350</td>\n",
       "      <td>9.81557</td>\n",
       "      <td>9.52707</td>\n",
       "      <td>9.85491</td>\n",
       "      <td>...</td>\n",
       "      <td>9.61948</td>\n",
       "      <td>9.77666</td>\n",
       "      <td>9.54023</td>\n",
       "      <td>9.80807</td>\n",
       "      <td>9.96340</td>\n",
       "      <td>10.04780</td>\n",
       "      <td>9.66205</td>\n",
       "      <td>10.08380</td>\n",
       "      <td>9.71226</td>\n",
       "      <td>thromboxane A synthase 1 (platelet)</td>\n",
       "    </tr>\n",
       "  </tbody>\n",
       "</table>\n",
       "<p>5 rows × 57 columns</p>\n",
       "</div>"
      ],
      "text/plain": [
       "        ID_REF              IDENTIFIER  Healthy control  Healthy control.1  \\\n",
       "24361  8139915  chr7:68972498-68972608          3.76948            3.68015   \n",
       "16236  8153704                   SCRT1          5.10719            5.03709   \n",
       "1132   8152867                   ASAP1         10.77670           10.45790   \n",
       "26938  8123763    chr6:6938840-6939130          6.05581            5.85686   \n",
       "18470  8136557                  TBXAS1          9.68575            9.63905   \n",
       "\n",
       "       Healthy control.2  Healthy control.3  Healthy control.4  \\\n",
       "24361            3.74611            3.63432            3.86040   \n",
       "16236            4.88747            4.92006            5.04115   \n",
       "1132            10.37940           10.30210           10.91190   \n",
       "26938            5.88777            5.82856            6.04216   \n",
       "18470            9.03147            9.55518           10.21350   \n",
       "\n",
       "       Healthy control.5  Healthy control.6  Healthy control.7  ...  \\\n",
       "24361            3.37283            3.71514            3.59223  ...   \n",
       "16236            4.96551            5.18758            4.96119  ...   \n",
       "1132            10.60680           10.68050           10.76900  ...   \n",
       "26938            5.75013            6.17798            5.81931  ...   \n",
       "18470            9.81557            9.52707            9.85491  ...   \n",
       "\n",
       "       Severe asthma.8  Severe asthma.9  Severe asthma.10  Severe asthma.11  \\\n",
       "24361          3.78447          4.14862           3.83881           3.67698   \n",
       "16236          5.02194          5.20394           5.05910           5.01995   \n",
       "1132          10.47630         10.32990          10.64780          10.58370   \n",
       "26938          5.93248          6.04876           5.89860           6.02485   \n",
       "18470          9.61948          9.77666           9.54023           9.80807   \n",
       "\n",
       "       Severe asthma.12  Severe asthma.13  Severe asthma.14  Severe asthma.15  \\\n",
       "24361           3.89037           3.75484           3.81857           3.88641   \n",
       "16236           4.84870           5.04161           4.83771           4.90972   \n",
       "1132           11.20130          10.64330          10.27230          10.30870   \n",
       "26938           5.92168           5.81926           5.94733           5.77901   \n",
       "18470           9.96340          10.04780           9.66205          10.08380   \n",
       "\n",
       "       Severe asthma.16                                         Gene title  \n",
       "24361           3.50943                                                NaN  \n",
       "16236           4.63200                       scratch family zinc finger 1  \n",
       "1132           10.12290  ArfGAP with SH3 domain, ankyrin repeat and PH ...  \n",
       "26938           6.14720                                                NaN  \n",
       "18470           9.71226                thromboxane A synthase 1 (platelet)  \n",
       "\n",
       "[5 rows x 57 columns]"
      ]
     },
     "execution_count": 43,
     "metadata": {},
     "output_type": "execute_result"
    }
   ],
   "source": [
    "data.sample(5)"
   ]
  },
  {
   "cell_type": "code",
   "execution_count": 44,
   "metadata": {
    "slideshow": {
     "slide_type": "subslide"
    }
   },
   "outputs": [
    {
     "name": "stdout",
     "output_type": "stream",
     "text": [
      "ID_REF\t\tIDENTIFIER\t\tHealthy control\t\tHealthy control.1\t\tHealthy control.2\t\tHealthy control.3\t\tHealthy control.4\t\tHealthy control.5\t\tHealthy control.6\t\tHealthy control.7\t\tHealthy control.8\t\tHealthy control.9\t\tHealthy control.10\t\tHealthy control.11\t\tHealthy control.12\t\tHealthy control.13\t\tHealthy control.14\t\tHealthy control.15\t\tHealthy control.16\t\tHealthy control.17\t\tMild asthma\t\tMild asthma.1\t\tMild asthma.2\t\tMild asthma.3\t\tMild asthma.4\t\tMild asthma.5\t\tMild asthma.6\t\tMild asthma.7\t\tMild asthma.8\t\tMild asthma.9\t\tMild asthma.10\t\tMild asthma.11\t\tMild asthma.12\t\tMild asthma.13\t\tMild asthma.14\t\tMild asthma.15\t\tMild asthma.16\t\tMild asthma.17\t\tMild asthma.18\t\tSevere asthma\t\tSevere asthma.1\t\tSevere asthma.2\t\tSevere asthma.3\t\tSevere asthma.4\t\tSevere asthma.5\t\tSevere asthma.6\t\tSevere asthma.7\t\tSevere asthma.8\t\tSevere asthma.9\t\tSevere asthma.10\t\tSevere asthma.11\t\tSevere asthma.12\t\tSevere asthma.13\t\tSevere asthma.14\t\tSevere asthma.15\t\tSevere asthma.16\t\tGene title\n"
     ]
    }
   ],
   "source": [
    "print('\\t\\t'.join(list(data.columns)))"
   ]
  },
  {
   "cell_type": "markdown",
   "metadata": {
    "slideshow": {
     "slide_type": "subslide"
    }
   },
   "source": [
    "### Эксперимент"
   ]
  },
  {
   "cell_type": "markdown",
   "metadata": {
    "slideshow": {
     "slide_type": "fragment"
    }
   },
   "source": [
    "#### Достигаемые уровни значимости в t-Критерии Стьюдента"
   ]
  },
  {
   "cell_type": "code",
   "execution_count": 45,
   "metadata": {
    "slideshow": {
     "slide_type": "subslide"
    }
   },
   "outputs": [],
   "source": [
    "data_np = data.values\n",
    "def get_healthy(i):\n",
    "    '''\n",
    "    Возвращает всех здоровых пациентов для i-го микрочипа\n",
    "    '''\n",
    "    return data_np[i, 2:20]\n",
    "\n",
    "def get_asthma(i):\n",
    "    '''\n",
    "    Возвращает всех больных астмой пациентов для i-го микрочипа\n",
    "    '''\n",
    "    return data_np[i, 39:56]\n",
    "\n",
    "def get_pvalue_t_test(i):\n",
    "    '''\n",
    "    Возвращает p-value для критерия Стьюдента для независимых выборок\n",
    "    '''\n",
    "    return ttest_ind(get_healthy(i), get_asthma(i), usevar='unequal')[1]\n",
    "    \n",
    "p_values = list(map(get_pvalue_t_test, range(data_np.shape[0])))\n",
    "p_values = np.array(p_values)"
   ]
  },
  {
   "cell_type": "markdown",
   "metadata": {
    "slideshow": {
     "slide_type": "subslide"
    }
   },
   "source": [
    "#### Модифицированые уровни значимости"
   ]
  },
  {
   "cell_type": "code",
   "execution_count": 58,
   "metadata": {
    "slideshow": {
     "slide_type": "fragment"
    }
   },
   "outputs": [],
   "source": [
    "p_holm = multipletests(p_values, method='holm')[1]\n",
    "\n",
    "p_bh = multipletests(p_values, method='fdr_bh')[1]\n",
    "\n",
    "p_bonferroni = multipletests(p_values, method='bonferroni')[1]"
   ]
  },
  {
   "cell_type": "markdown",
   "metadata": {
    "slideshow": {
     "slide_type": "subslide"
    }
   },
   "source": [
    "#### Распределения исходных и модифицированных достигаемых уровней значимости"
   ]
  },
  {
   "cell_type": "code",
   "execution_count": 59,
   "metadata": {
    "slideshow": {
     "slide_type": "fragment"
    }
   },
   "outputs": [
    {
     "data": {
      "image/png": "[encoded data removed]",
      "text/plain": [
       "<Figure size 720x576 with 1 Axes>"
      ]
     },
     "metadata": {
      "needs_background": "light"
     },
     "output_type": "display_data"
    }
   ],
   "source": [
    "plt.plot(sorted(p_values), '.', label='no correction')\n",
    "plt.plot(sorted(p_holm), '.', label='holm')\n",
    "plt.plot(sorted(p_bh), '.', label='bh')\n",
    "plt.plot(sorted(p_bonferroni), '.', label='bonferroni')\n",
    "plt.plot(np.arange(0, len(p_bh)), [0.05]*len(p_bh))\n",
    "\n",
    "plt.xlabel('sorted i')\n",
    "plt.ylabel('$\\hat{p}(i)$')\n",
    "plt.legend(loc='best')\n",
    "plt.show()"
   ]
  },
  {
   "cell_type": "markdown",
   "metadata": {
    "slideshow": {
     "slide_type": "subslide"
    }
   },
   "source": [
    "#### Количество генов, экспрессия которых статистически значимо отличается при поправке методами Холма и Бенджамини-Хохберга:"
   ]
  },
  {
   "cell_type": "code",
   "execution_count": 61,
   "metadata": {},
   "outputs": [
    {
     "name": "stdout",
     "output_type": "stream",
     "text": [
      "Количество генов, для которых значимо отличается: 4087\t(no correction)\n",
      "Количество генов, для которых значимо отличается: 31\t(holm)\n",
      "Количество генов, для которых значимо отличается: 564\t(bh)\n",
      "Количество генов, для которых значимо отличается: 31\t(bonferroni)\n"
     ]
    }
   ],
   "source": [
    "print('Количество генов, для которых значимо отличается: {}\\t(no correction)'.format((p_values <= 0.05).sum()))\n",
    "print('Количество генов, для которых значимо отличается: {}\\t(holm)'.format((p_holm <= 0.05).sum()))\n",
    "print('Количество генов, для которых значимо отличается: {}\\t(bh)'.format((p_bh <= 0.05).sum()))\n",
    "print('Количество генов, для которых значимо отличается: {}\\t(bonferroni)'.format((p_bonferroni <= 0.05).sum()))"
   ]
  },
  {
   "cell_type": "markdown",
   "metadata": {
    "slideshow": {
     "slide_type": "subslide"
    }
   },
   "source": [
    "### На микрочипах есть много проб к малоизученным участкам генома, у которых даже нет названия; их можно сразу удалить из рассмотрения (Эксперимент 2)"
   ]
  },
  {
   "cell_type": "code",
   "execution_count": 62,
   "metadata": {
    "slideshow": {
     "slide_type": "fragment"
    }
   },
   "outputs": [
    {
     "data": {
      "text/plain": [
       "((21465, 57), (28231, 57))"
      ]
     },
     "execution_count": 62,
     "metadata": {},
     "output_type": "execute_result"
    }
   ],
   "source": [
    "reduced_data = data[data['Gene title'].isnull() == False]\n",
    "reduced_data.shape, data.shape"
   ]
  },
  {
   "cell_type": "markdown",
   "metadata": {
    "slideshow": {
     "slide_type": "subslide"
    }
   },
   "source": [
    "#### Рассмотрим как изменились уровни значимости"
   ]
  },
  {
   "cell_type": "code",
   "execution_count": 63,
   "metadata": {
    "slideshow": {
     "slide_type": "fragment"
    }
   },
   "outputs": [],
   "source": [
    "data_np = reduced_data.values\n",
    "\n",
    "p_values = list(map(get_pvalue_t_test, range(data_np.shape[0])))\n",
    "p_values = np.array(p_values) "
   ]
  },
  {
   "cell_type": "code",
   "execution_count": 65,
   "metadata": {
    "slideshow": {
     "slide_type": "fragment"
    }
   },
   "outputs": [],
   "source": [
    "p_holm = multipletests(p_values, method='holm')[1]\n",
    "\n",
    "p_bh = multipletests(p_values, method='fdr_bh')[1]\n",
    "\n",
    "p_bonferroni = multipletests(p_values, method='bonferroni')[1]"
   ]
  },
  {
   "cell_type": "code",
   "execution_count": 66,
   "metadata": {
    "slideshow": {
     "slide_type": "subslide"
    }
   },
   "outputs": [
    {
     "data": {
      "image/png": "[encoded data removed]",
      "text/plain": [
       "<Figure size 720x576 with 1 Axes>"
      ]
     },
     "metadata": {
      "needs_background": "light"
     },
     "output_type": "display_data"
    }
   ],
   "source": [
    "plt.plot(sorted(p_values), '.', label='no correction')\n",
    "plt.plot(sorted(p_holm), '.', label='holm')\n",
    "plt.plot(sorted(p_bh), '.', label='bh')\n",
    "#plt.plot(sorted(p_bonferroni), '.', label='bonferroni')\n",
    "plt.plot(np.arange(0, len(p_bh)), [0.05]*len(p_bh))\n",
    "\n",
    "plt.xlabel('sorted i')\n",
    "plt.ylabel('$\\hat{p}(i)$')\n",
    "plt.legend(loc='best')\n",
    "plt.show()"
   ]
  },
  {
   "cell_type": "code",
   "execution_count": 67,
   "metadata": {
    "slideshow": {
     "slide_type": "subslide"
    }
   },
   "outputs": [
    {
     "name": "stdout",
     "output_type": "stream",
     "text": [
      "Количество генов для которых значимо отличается: 2772\t(no correction)\n",
      "Количество генов для которых значимо отличается: 9\t(holm)\n",
      "Количество генов для которых значимо отличается: 168\t(bh)\n"
     ]
    }
   ],
   "source": [
    "print('Количество генов для которых значимо отличается: {}\\t(no correction)'.format((p_values <= 0.05).sum()))\n",
    "print('Количество генов для которых значимо отличается: {}\\t(holm)'.format((p_holm <= 0.05).sum()))\n",
    "print('Количество генов для которых значимо отличается: {}\\t(bh)'.format((p_bh <= 0.05).sum()))"
   ]
  },
  {
   "cell_type": "markdown",
   "metadata": {
    "slideshow": {
     "slide_type": "slide"
    }
   },
   "source": [
    "## Сравнение качества классификаторов\n",
    "\n",
    "Дано: AUC различных версий алгоритма C4.5, посчитанный на 15 датасетах.\n",
    "\n",
    "**Demsar J. (2006). Statistical Comparisons of Classifiers over Multiple Data Sets. Journal of Machine Learning Research, 7, 1–30.**"
   ]
  },
  {
   "cell_type": "markdown",
   "metadata": {
    "slideshow": {
     "slide_type": "subslide"
    }
   },
   "source": [
    "### Рассмотрим данные"
   ]
  },
  {
   "cell_type": "code",
   "execution_count": 68,
   "metadata": {
    "slideshow": {
     "slide_type": "fragment"
    }
   },
   "outputs": [],
   "source": [
    "data = pd.read_csv('data/auc.txt', delimiter='\\t')"
   ]
  },
  {
   "cell_type": "code",
   "execution_count": 70,
   "metadata": {
    "slideshow": {
     "slide_type": "fragment"
    }
   },
   "outputs": [
    {
     "data": {
      "text/html": [
       "<div>\n",
       "<style scoped>\n",
       "    .dataframe tbody tr th:only-of-type {\n",
       "        vertical-align: middle;\n",
       "    }\n",
       "\n",
       "    .dataframe tbody tr th {\n",
       "        vertical-align: top;\n",
       "    }\n",
       "\n",
       "    .dataframe thead th {\n",
       "        text-align: right;\n",
       "    }\n",
       "</style>\n",
       "<table border=\"1\" class=\"dataframe\">\n",
       "  <thead>\n",
       "    <tr style=\"text-align: right;\">\n",
       "      <th></th>\n",
       "      <th>Dataset</th>\n",
       "      <th>C4.5</th>\n",
       "      <th>C4.5+m</th>\n",
       "      <th>C4.5+cf</th>\n",
       "      <th>C4.5+m+cf</th>\n",
       "    </tr>\n",
       "  </thead>\n",
       "  <tbody>\n",
       "    <tr>\n",
       "      <th>8</th>\n",
       "      <td>lymphography</td>\n",
       "      <td>0.775</td>\n",
       "      <td>0.838</td>\n",
       "      <td>0.866</td>\n",
       "      <td>0.875</td>\n",
       "    </tr>\n",
       "    <tr>\n",
       "      <th>5</th>\n",
       "      <td>iris</td>\n",
       "      <td>0.936</td>\n",
       "      <td>0.931</td>\n",
       "      <td>0.916</td>\n",
       "      <td>0.931</td>\n",
       "    </tr>\n",
       "    <tr>\n",
       "      <th>11</th>\n",
       "      <td>rheum</td>\n",
       "      <td>0.619</td>\n",
       "      <td>0.666</td>\n",
       "      <td>0.614</td>\n",
       "      <td>0.669</td>\n",
       "    </tr>\n",
       "    <tr>\n",
       "      <th>12</th>\n",
       "      <td>voting</td>\n",
       "      <td>0.972</td>\n",
       "      <td>0.981</td>\n",
       "      <td>0.975</td>\n",
       "      <td>0.975</td>\n",
       "    </tr>\n",
       "    <tr>\n",
       "      <th>3</th>\n",
       "      <td>cmc</td>\n",
       "      <td>0.628</td>\n",
       "      <td>0.661</td>\n",
       "      <td>0.654</td>\n",
       "      <td>0.657</td>\n",
       "    </tr>\n",
       "  </tbody>\n",
       "</table>\n",
       "</div>"
      ],
      "text/plain": [
       "         Dataset   C4.5  C4.5+m  C4.5+cf  C4.5+m+cf\n",
       "8   lymphography  0.775   0.838    0.866      0.875\n",
       "5           iris  0.936   0.931    0.916      0.931\n",
       "11         rheum  0.619   0.666    0.614      0.669\n",
       "12        voting  0.972   0.981    0.975      0.975\n",
       "3            cmc  0.628   0.661    0.654      0.657"
      ]
     },
     "execution_count": 70,
     "metadata": {},
     "output_type": "execute_result"
    }
   ],
   "source": [
    "data.sample(5)"
   ]
  },
  {
   "cell_type": "code",
   "execution_count": 72,
   "metadata": {},
   "outputs": [
    {
     "data": {
      "text/html": [
       "<div>\n",
       "<style scoped>\n",
       "    .dataframe tbody tr th:only-of-type {\n",
       "        vertical-align: middle;\n",
       "    }\n",
       "\n",
       "    .dataframe tbody tr th {\n",
       "        vertical-align: top;\n",
       "    }\n",
       "\n",
       "    .dataframe thead th {\n",
       "        text-align: right;\n",
       "    }\n",
       "</style>\n",
       "<table border=\"1\" class=\"dataframe\">\n",
       "  <thead>\n",
       "    <tr style=\"text-align: right;\">\n",
       "      <th></th>\n",
       "      <th>0</th>\n",
       "      <th>1</th>\n",
       "      <th>2</th>\n",
       "      <th>3</th>\n",
       "      <th>4</th>\n",
       "      <th>5</th>\n",
       "      <th>6</th>\n",
       "      <th>7</th>\n",
       "      <th>8</th>\n",
       "      <th>9</th>\n",
       "      <th>10</th>\n",
       "      <th>11</th>\n",
       "      <th>12</th>\n",
       "      <th>13</th>\n",
       "    </tr>\n",
       "  </thead>\n",
       "  <tbody>\n",
       "    <tr>\n",
       "      <th>Dataset</th>\n",
       "      <td>adult (sample)</td>\n",
       "      <td>breast cancer</td>\n",
       "      <td>breast cancer wisconsin</td>\n",
       "      <td>cmc</td>\n",
       "      <td>ionosphere</td>\n",
       "      <td>iris</td>\n",
       "      <td>liver disorders</td>\n",
       "      <td>lung cancer</td>\n",
       "      <td>lymphography</td>\n",
       "      <td>mushroom</td>\n",
       "      <td>primary tumor</td>\n",
       "      <td>rheum</td>\n",
       "      <td>voting</td>\n",
       "      <td>wine</td>\n",
       "    </tr>\n",
       "    <tr>\n",
       "      <th>C4.5</th>\n",
       "      <td>0.763</td>\n",
       "      <td>0.599</td>\n",
       "      <td>0.954</td>\n",
       "      <td>0.628</td>\n",
       "      <td>0.882</td>\n",
       "      <td>0.936</td>\n",
       "      <td>0.661</td>\n",
       "      <td>0.583</td>\n",
       "      <td>0.775</td>\n",
       "      <td>1</td>\n",
       "      <td>0.94</td>\n",
       "      <td>0.619</td>\n",
       "      <td>0.972</td>\n",
       "      <td>0.957</td>\n",
       "    </tr>\n",
       "    <tr>\n",
       "      <th>C4.5+m</th>\n",
       "      <td>0.768</td>\n",
       "      <td>0.591</td>\n",
       "      <td>0.971</td>\n",
       "      <td>0.661</td>\n",
       "      <td>0.888</td>\n",
       "      <td>0.931</td>\n",
       "      <td>0.668</td>\n",
       "      <td>0.583</td>\n",
       "      <td>0.838</td>\n",
       "      <td>1</td>\n",
       "      <td>0.962</td>\n",
       "      <td>0.666</td>\n",
       "      <td>0.981</td>\n",
       "      <td>0.978</td>\n",
       "    </tr>\n",
       "    <tr>\n",
       "      <th>C4.5+cf</th>\n",
       "      <td>0.771</td>\n",
       "      <td>0.59</td>\n",
       "      <td>0.968</td>\n",
       "      <td>0.654</td>\n",
       "      <td>0.886</td>\n",
       "      <td>0.916</td>\n",
       "      <td>0.609</td>\n",
       "      <td>0.563</td>\n",
       "      <td>0.866</td>\n",
       "      <td>1</td>\n",
       "      <td>0.965</td>\n",
       "      <td>0.614</td>\n",
       "      <td>0.975</td>\n",
       "      <td>0.946</td>\n",
       "    </tr>\n",
       "    <tr>\n",
       "      <th>C4.5+m+cf</th>\n",
       "      <td>0.798</td>\n",
       "      <td>0.569</td>\n",
       "      <td>0.967</td>\n",
       "      <td>0.657</td>\n",
       "      <td>0.898</td>\n",
       "      <td>0.931</td>\n",
       "      <td>0.685</td>\n",
       "      <td>0.625</td>\n",
       "      <td>0.875</td>\n",
       "      <td>1</td>\n",
       "      <td>0.962</td>\n",
       "      <td>0.669</td>\n",
       "      <td>0.975</td>\n",
       "      <td>0.97</td>\n",
       "    </tr>\n",
       "  </tbody>\n",
       "</table>\n",
       "</div>"
      ],
      "text/plain": [
       "                       0              1                        2      3   \\\n",
       "Dataset    adult (sample)  breast cancer  breast cancer wisconsin    cmc   \n",
       "C4.5                0.763          0.599                    0.954  0.628   \n",
       "C4.5+m              0.768          0.591                    0.971  0.661   \n",
       "C4.5+cf             0.771           0.59                    0.968  0.654   \n",
       "C4.5+m+cf           0.798          0.569                    0.967  0.657   \n",
       "\n",
       "                   4      5                6            7             8   \\\n",
       "Dataset    ionosphere   iris  liver disorders  lung cancer  lymphography   \n",
       "C4.5            0.882  0.936            0.661        0.583         0.775   \n",
       "C4.5+m          0.888  0.931            0.668        0.583         0.838   \n",
       "C4.5+cf         0.886  0.916            0.609        0.563         0.866   \n",
       "C4.5+m+cf       0.898  0.931            0.685        0.625         0.875   \n",
       "\n",
       "                 9              10     11      12     13  \n",
       "Dataset    mushroom  primary tumor  rheum  voting   wine  \n",
       "C4.5              1           0.94  0.619   0.972  0.957  \n",
       "C4.5+m            1          0.962  0.666   0.981  0.978  \n",
       "C4.5+cf           1          0.965  0.614   0.975  0.946  \n",
       "C4.5+m+cf         1          0.962  0.669   0.975   0.97  "
      ]
     },
     "execution_count": 72,
     "metadata": {},
     "output_type": "execute_result"
    }
   ],
   "source": [
    "data.T"
   ]
  },
  {
   "cell_type": "markdown",
   "metadata": {
    "slideshow": {
     "slide_type": "subslide"
    }
   },
   "source": [
    "### Эксперимент\n",
    "\n",
    "Между какими из версий есть значимые различия?\n",
    "\n",
    "Сравним все значения критерия качества попарно с помощью критерия знаковых рангов Уилкоксона (```st.wilcoxon```):"
   ]
  },
  {
   "cell_type": "code",
   "execution_count": 74,
   "metadata": {
    "slideshow": {
     "slide_type": "subslide"
    }
   },
   "outputs": [
    {
     "name": "stdout",
     "output_type": "stream",
     "text": [
      "C4.5 C4.5+m 0.01075713311978963\n",
      "C4.5 C4.5+cf 0.861262330095348\n",
      "C4.5 C4.5+m+cf 0.015906444101703374\n",
      "C4.5+m C4.5+cf 0.046332729793395394\n",
      "C4.5+m C4.5+m+cf 0.3278256758446406\n",
      "C4.5+cf C4.5+m+cf 0.022909099354356588\n"
     ]
    }
   ],
   "source": [
    "p_values= []\n",
    "for i in range(1, 5):\n",
    "    for j in range(i+1, 5):\n",
    "        test_result = st.wilcoxon(data.iloc[:, i].values, data.iloc[:, j].values, mode='approx')\n",
    "        p_values += [test_result[1]]        \n",
    "        print(data.columns[i],data.columns[j], p_values[-1])\n",
    "                                                                  "
   ]
  },
  {
   "cell_type": "markdown",
   "metadata": {
    "slideshow": {
     "slide_type": "subslide"
    }
   },
   "source": [
    "### Разные поправки"
   ]
  },
  {
   "cell_type": "code",
   "execution_count": 79,
   "metadata": {},
   "outputs": [
    {
     "name": "stdout",
     "output_type": "stream",
     "text": [
      "bonferroni\n",
      "[False False False False False False]\n",
      "[0.0645428  1.         0.09543866 0.27799638 1.         0.1374546 ]\n",
      "################################################################################\n",
      "holm\n",
      "[False False False False False False]\n",
      "[0.0645428  0.86126233 0.07953222 0.13899819 0.65565135 0.0916364 ]\n",
      "################################################################################\n",
      "fdr_bh\n",
      "[ True False  True False False  True]\n",
      "[0.0458182  0.86126233 0.0458182  0.06949909 0.39339081 0.0458182 ]\n",
      "################################################################################\n",
      "fdr_by\n",
      "[False False False False False False]\n",
      "[0.11225459 1.         0.11225459 0.17027278 0.96380749 0.11225459]\n",
      "################################################################################\n"
     ]
    }
   ],
   "source": [
    "for k in ['bonferroni', 'holm', 'fdr_bh', 'fdr_by']:\n",
    "    results = multipletests(p_values, method=k)\n",
    "    print(k)\n",
    "    print(results[0])\n",
    "    print(results[1])\n",
    "    print('#'*80)"
   ]
  }
 ],
 "metadata": {
  "celltoolbar": "Slideshow",
  "kernelspec": {
   "display_name": "Python 3",
   "language": "python",
   "name": "python3"
  },
  "language_info": {
   "codemirror_mode": {
    "name": "ipython",
    "version": 3
   },
   "file_extension": ".py",
   "mimetype": "text/x-python",
   "name": "python",
   "nbconvert_exporter": "python",
   "pygments_lexer": "ipython3",
   "version": "3.8.5"
  }
 },
 "nbformat": 4,
 "nbformat_minor": 4
}
