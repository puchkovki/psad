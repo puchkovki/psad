{
 "cells": [
  {
   "cell_type": "markdown",
   "metadata": {},
   "source": [
    "# Марковская модель"
   ]
  },
  {
   "cell_type": "markdown",
   "metadata": {},
   "source": [
    "## Библиотеки"
   ]
  },
  {
   "cell_type": "code",
   "execution_count": 1,
   "metadata": {},
   "outputs": [],
   "source": [
    "import re\n",
    "\n",
    "import numpy as np\n",
    "import nltk\n",
    "from nltk.tag import hmm\n",
    "from nltk.corpus import brown\n",
    "import pandas as pd\n",
    "\n",
    "from collections import Counter\n",
    "\n",
    "import nltk.lm as lm\n",
    "from nltk.util import ngrams as nltk_ngrams\n",
    "import numpy as np\n",
    "import scipy.stats as st\n",
    "\n",
    "from nltk.tokenize import RegexpTokenizer\n"
   ]
  },
  {
   "cell_type": "markdown",
   "metadata": {},
   "source": [
    "## Brown Dataset HMM"
   ]
  },
  {
   "cell_type": "markdown",
   "metadata": {},
   "source": [
    "### Dataset"
   ]
  },
  {
   "cell_type": "code",
   "execution_count": 2,
   "metadata": {},
   "outputs": [
    {
     "name": "stderr",
     "output_type": "stream",
     "text": [
      "[nltk_data] Downloading package brown to /home/hp/nltk_data...\n",
      "[nltk_data]   Unzipping corpora/brown.zip.\n"
     ]
    }
   ],
   "source": [
    "nltk.download('brown')\n",
    "english = re.compile('^[a-z]+$')"
   ]
  },
  {
   "cell_type": "code",
   "execution_count": 3,
   "metadata": {},
   "outputs": [
    {
     "name": "stdout",
     "output_type": "stream",
     "text": [
      "Number of tokens: 981716\n"
     ]
    }
   ],
   "source": [
    "tokens = []\n",
    "for sent in brown.sents():\n",
    "    for w in sent:\n",
    "        w = w.lower()\n",
    "        if english.match(w):\n",
    "                tokens.append(w)\n",
    "print(f'Number of tokens: {len(tokens)}')"
   ]
  },
  {
   "cell_type": "code",
   "execution_count": 6,
   "metadata": {},
   "outputs": [
    {
     "data": {
      "text/plain": [
       "(5579335,\n",
       " 'the fulton county grand jury said friday an investigation of recent primary election produced no evi')"
      ]
     },
     "execution_count": 6,
     "metadata": {},
     "output_type": "execute_result"
    }
   ],
   "source": [
    "text = ' '.join(tokens)\n",
    "len(text), text[:100]"
   ]
  },
  {
   "cell_type": "markdown",
   "metadata": {},
   "source": [
    "### Unsupervised обучение скрытой марковской модели (Алгоритм Баума-Велша)"
   ]
  },
  {
   "cell_type": "code",
   "execution_count": 7,
   "metadata": {},
   "outputs": [
    {
     "data": {
      "text/plain": [
       "27"
      ]
     },
     "execution_count": 7,
     "metadata": {},
     "output_type": "execute_result"
    }
   ],
   "source": [
    "vocab = sorted(list(set(text)))\n",
    "len(vocab)"
   ]
  },
  {
   "cell_type": "code",
   "execution_count": 8,
   "metadata": {},
   "outputs": [],
   "source": [
    "trainer = hmm.HiddenMarkovModelTrainer(range(2), vocab)"
   ]
  },
  {
   "cell_type": "code",
   "execution_count": 9,
   "metadata": {
    "scrolled": true
   },
   "outputs": [
    {
     "name": "stdout",
     "output_type": "stream",
     "text": [
      "iteration 0 logprob -24142.453045979015\n",
      "iteration 1 logprob -20551.003837963417\n",
      "iteration 2 logprob -20549.04643655334\n",
      "iteration 3 logprob -20546.535295938174\n",
      "iteration 4 logprob -20543.311123785857\n",
      "iteration 5 logprob -20539.173674525275\n",
      "iteration 6 logprob -20533.875825370556\n",
      "iteration 7 logprob -20527.121448297657\n",
      "iteration 8 logprob -20518.570802262362\n",
      "iteration 9 logprob -20507.857004676905\n",
      "iteration 10 logprob -20494.614034394217\n",
      "iteration 11 logprob -20478.510997862144\n",
      "iteration 12 logprob -20459.284920294678\n",
      "iteration 13 logprob -20436.772769448795\n",
      "iteration 14 logprob -20410.95429513545\n",
      "iteration 15 logprob -20381.997057466924\n",
      "iteration 16 logprob -20350.235576335068\n",
      "iteration 17 logprob -20316.01639170122\n",
      "iteration 18 logprob -20279.50513136231\n",
      "iteration 19 logprob -20240.704485852475\n",
      "iteration 20 logprob -20199.808316221708\n",
      "iteration 21 logprob -20157.745656919902\n",
      "iteration 22 logprob -20116.36934632431\n",
      "iteration 23 logprob -20077.685244997974\n",
      "iteration 24 logprob -20042.924981284516\n",
      "iteration 25 logprob -20012.511650955086\n",
      "iteration 26 logprob -19986.44633665001\n",
      "iteration 27 logprob -19964.560697113782\n",
      "iteration 28 logprob -19946.578993600266\n",
      "iteration 29 logprob -19932.09469908924\n",
      "iteration 30 logprob -19920.583241771023\n",
      "iteration 31 logprob -19911.475096203063\n",
      "iteration 32 logprob -19904.237320742104\n",
      "iteration 33 logprob -19898.42146442171\n",
      "iteration 34 logprob -19893.674434943023\n",
      "iteration 35 logprob -19889.728258591498\n",
      "iteration 36 logprob -19886.383299127454\n",
      "iteration 37 logprob -19883.4921923953\n",
      "iteration 38 logprob -19880.94669061653\n",
      "iteration 39 logprob -19878.667512415435\n",
      "iteration 40 logprob -19876.596724898907\n",
      "iteration 41 logprob -19874.692127611695\n",
      "iteration 42 logprob -19872.92316845973\n",
      "iteration 43 logprob -19871.26799607519\n",
      "iteration 44 logprob -19869.711325419667\n",
      "iteration 45 logprob -19868.242862338055\n",
      "iteration 46 logprob -19866.856096939555\n",
      "iteration 47 logprob -19865.547332830687\n",
      "iteration 48 logprob -19864.3148681855\n",
      "iteration 49 logprob -19863.15828393368\n"
     ]
    }
   ],
   "source": [
    "tagger = trainer.train_unsupervised([text[:5000]], max_iterations=50)"
   ]
  },
  {
   "cell_type": "markdown",
   "metadata": {},
   "source": [
    "#### Исследуем полученную модель\n"
   ]
  },
  {
   "cell_type": "markdown",
   "metadata": {},
   "source": [
    "Матрица переходов $$\\{a_{ij} = p(s_j|s_i)\\}_{i,j = 1}^{|S|}$$"
   ]
  },
  {
   "cell_type": "code",
   "execution_count": 10,
   "metadata": {},
   "outputs": [
    {
     "data": {
      "text/html": [
       "<div>\n",
       "<style scoped>\n",
       "    .dataframe tbody tr th:only-of-type {\n",
       "        vertical-align: middle;\n",
       "    }\n",
       "\n",
       "    .dataframe tbody tr th {\n",
       "        vertical-align: top;\n",
       "    }\n",
       "\n",
       "    .dataframe thead th {\n",
       "        text-align: right;\n",
       "    }\n",
       "</style>\n",
       "<table border=\"1\" class=\"dataframe\">\n",
       "  <thead>\n",
       "    <tr style=\"text-align: right;\">\n",
       "      <th></th>\n",
       "      <th>0</th>\n",
       "      <th>1</th>\n",
       "    </tr>\n",
       "  </thead>\n",
       "  <tbody>\n",
       "    <tr>\n",
       "      <th>0</th>\n",
       "      <td>0.267721</td>\n",
       "      <td>0.732279</td>\n",
       "    </tr>\n",
       "    <tr>\n",
       "      <th>1</th>\n",
       "      <td>0.749923</td>\n",
       "      <td>0.250077</td>\n",
       "    </tr>\n",
       "  </tbody>\n",
       "</table>\n",
       "</div>"
      ],
      "text/plain": [
       "          0         1\n",
       "0  0.267721  0.732279\n",
       "1  0.749923  0.250077"
      ]
     },
     "execution_count": 10,
     "metadata": {},
     "output_type": "execute_result"
    }
   ],
   "source": [
    "trans_matr = pd.DataFrame(data=np.array([\n",
    "    [2 ** log_p for log_p in tagger._transitions[0]._data],\n",
    "    [2 ** log_p for log_p in tagger._transitions[1]._data]\n",
    "]),\n",
    "                         columns=[0, 1],\n",
    "                         index=[0, 1])\n",
    "trans_matr"
   ]
  },
  {
   "cell_type": "markdown",
   "metadata": {},
   "source": [
    "Матрица выходных вероятностей $$\\{ b_{ij} = p(x_j|s_i) \\}_{i, j = 1}^{|S|, |X|}$$"
   ]
  },
  {
   "cell_type": "code",
   "execution_count": 11,
   "metadata": {},
   "outputs": [
    {
     "data": {
      "text/html": [
       "<div>\n",
       "<style scoped>\n",
       "    .dataframe tbody tr th:only-of-type {\n",
       "        vertical-align: middle;\n",
       "    }\n",
       "\n",
       "    .dataframe tbody tr th {\n",
       "        vertical-align: top;\n",
       "    }\n",
       "\n",
       "    .dataframe thead th {\n",
       "        text-align: right;\n",
       "    }\n",
       "</style>\n",
       "<table border=\"1\" class=\"dataframe\">\n",
       "  <thead>\n",
       "    <tr style=\"text-align: right;\">\n",
       "      <th></th>\n",
       "      <th></th>\n",
       "      <th>a</th>\n",
       "      <th>b</th>\n",
       "      <th>c</th>\n",
       "      <th>d</th>\n",
       "      <th>e</th>\n",
       "      <th>f</th>\n",
       "      <th>g</th>\n",
       "      <th>h</th>\n",
       "      <th>i</th>\n",
       "      <th>...</th>\n",
       "      <th>q</th>\n",
       "      <th>r</th>\n",
       "      <th>s</th>\n",
       "      <th>t</th>\n",
       "      <th>u</th>\n",
       "      <th>v</th>\n",
       "      <th>w</th>\n",
       "      <th>x</th>\n",
       "      <th>y</th>\n",
       "      <th>z</th>\n",
       "    </tr>\n",
       "  </thead>\n",
       "  <tbody>\n",
       "    <tr>\n",
       "      <th>0</th>\n",
       "      <td>0.294128</td>\n",
       "      <td>0.130406</td>\n",
       "      <td>6.883020e-09</td>\n",
       "      <td>0.000002</td>\n",
       "      <td>0.002901</td>\n",
       "      <td>2.138402e-01</td>\n",
       "      <td>1.879163e-08</td>\n",
       "      <td>0.001682</td>\n",
       "      <td>2.023943e-07</td>\n",
       "      <td>0.125689</td>\n",
       "      <td>...</td>\n",
       "      <td>3.696599e-34</td>\n",
       "      <td>6.107366e-09</td>\n",
       "      <td>5.277782e-07</td>\n",
       "      <td>0.053262</td>\n",
       "      <td>5.138490e-02</td>\n",
       "      <td>1.989185e-16</td>\n",
       "      <td>2.194478e-09</td>\n",
       "      <td>2.990145e-07</td>\n",
       "      <td>0.003044</td>\n",
       "      <td>1.348759e-34</td>\n",
       "    </tr>\n",
       "    <tr>\n",
       "      <th>1</th>\n",
       "      <td>0.031933</td>\n",
       "      <td>0.000033</td>\n",
       "      <td>1.943261e-02</td>\n",
       "      <td>0.057891</td>\n",
       "      <td>0.071116</td>\n",
       "      <td>8.112308e-13</td>\n",
       "      <td>4.898637e-02</td>\n",
       "      <td>0.024997</td>\n",
       "      <td>7.975449e-02</td>\n",
       "      <td>0.000007</td>\n",
       "      <td>...</td>\n",
       "      <td>8.096924e-04</td>\n",
       "      <td>1.121424e-01</td>\n",
       "      <td>9.108986e-02</td>\n",
       "      <td>0.121150</td>\n",
       "      <td>3.687532e-11</td>\n",
       "      <td>1.255023e-02</td>\n",
       "      <td>2.226654e-02</td>\n",
       "      <td>3.643310e-03</td>\n",
       "      <td>0.026031</td>\n",
       "      <td>1.619385e-03</td>\n",
       "    </tr>\n",
       "  </tbody>\n",
       "</table>\n",
       "<p>2 rows × 27 columns</p>\n",
       "</div>"
      ],
      "text/plain": [
       "                    a             b         c         d             e  \\\n",
       "0  0.294128  0.130406  6.883020e-09  0.000002  0.002901  2.138402e-01   \n",
       "1  0.031933  0.000033  1.943261e-02  0.057891  0.071116  8.112308e-13   \n",
       "\n",
       "              f         g             h         i  ...             q  \\\n",
       "0  1.879163e-08  0.001682  2.023943e-07  0.125689  ...  3.696599e-34   \n",
       "1  4.898637e-02  0.024997  7.975449e-02  0.000007  ...  8.096924e-04   \n",
       "\n",
       "              r             s         t             u             v  \\\n",
       "0  6.107366e-09  5.277782e-07  0.053262  5.138490e-02  1.989185e-16   \n",
       "1  1.121424e-01  9.108986e-02  0.121150  3.687532e-11  1.255023e-02   \n",
       "\n",
       "              w             x         y             z  \n",
       "0  2.194478e-09  2.990145e-07  0.003044  1.348759e-34  \n",
       "1  2.226654e-02  3.643310e-03  0.026031  1.619385e-03  \n",
       "\n",
       "[2 rows x 27 columns]"
      ]
     },
     "execution_count": 11,
     "metadata": {},
     "output_type": "execute_result"
    }
   ],
   "source": [
    "out_matr = pd.DataFrame(data=np.array([\n",
    "    [2 ** log_p for log_p in tagger._outputs[0]._data],\n",
    "    [2 ** log_p for log_p in tagger._outputs[1]._data]\n",
    "]),\n",
    "                        index=[0, 1],\n",
    "                        columns=vocab)\n",
    "out_matr"
   ]
  },
  {
   "cell_type": "markdown",
   "metadata": {},
   "source": [
    "### Supervised обучение скрытой марковской модели (максимум правдоподобия)"
   ]
  },
  {
   "cell_type": "code",
   "execution_count": 12,
   "metadata": {},
   "outputs": [],
   "source": [
    "def make_tag(c):\n",
    "    if c in 'aeiou':\n",
    "        return (c,'1')\n",
    "    else:\n",
    "        return (c,'0')\n",
    "supervised = [make_tag(c) for c in text]"
   ]
  },
  {
   "cell_type": "code",
   "execution_count": 13,
   "metadata": {},
   "outputs": [],
   "source": [
    "tagger = trainer.train_supervised([supervised[:500]])"
   ]
  },
  {
   "cell_type": "markdown",
   "metadata": {},
   "source": [
    "#### Исследуем полученную модель"
   ]
  },
  {
   "cell_type": "markdown",
   "metadata": {},
   "source": [
    "Частоты совстречаемостей тегов"
   ]
  },
  {
   "cell_type": "code",
   "execution_count": 14,
   "metadata": {},
   "outputs": [
    {
     "name": "stdout",
     "output_type": "stream",
     "text": [
      "0 {'_freqdist': FreqDist({'0': 199, '1': 142})}\n",
      "1 {'_freqdist': FreqDist({'0': 142, '1': 16})}\n"
     ]
    }
   ],
   "source": [
    "for t in tagger._transitions:\n",
    "    print(t, tagger._transitions[t].__dict__)"
   ]
  },
  {
   "cell_type": "markdown",
   "metadata": {},
   "source": [
    "Матрица переходов $$\\{a_{ij} = p(s_j|s_i)\\}_{i,j = 1}^{|S|}$$"
   ]
  },
  {
   "cell_type": "code",
   "execution_count": 15,
   "metadata": {},
   "outputs": [
    {
     "data": {
      "text/html": [
       "<div>\n",
       "<style scoped>\n",
       "    .dataframe tbody tr th:only-of-type {\n",
       "        vertical-align: middle;\n",
       "    }\n",
       "\n",
       "    .dataframe tbody tr th {\n",
       "        vertical-align: top;\n",
       "    }\n",
       "\n",
       "    .dataframe thead th {\n",
       "        text-align: right;\n",
       "    }\n",
       "</style>\n",
       "<table border=\"1\" class=\"dataframe\">\n",
       "  <thead>\n",
       "    <tr style=\"text-align: right;\">\n",
       "      <th></th>\n",
       "      <th>0</th>\n",
       "      <th>1</th>\n",
       "    </tr>\n",
       "  </thead>\n",
       "  <tbody>\n",
       "    <tr>\n",
       "      <th>0</th>\n",
       "      <td>0.583578</td>\n",
       "      <td>0.416422</td>\n",
       "    </tr>\n",
       "    <tr>\n",
       "      <th>1</th>\n",
       "      <td>0.898734</td>\n",
       "      <td>0.101266</td>\n",
       "    </tr>\n",
       "  </tbody>\n",
       "</table>\n",
       "</div>"
      ],
      "text/plain": [
       "          0         1\n",
       "0  0.583578  0.416422\n",
       "1  0.898734  0.101266"
      ]
     },
     "execution_count": 15,
     "metadata": {},
     "output_type": "execute_result"
    }
   ],
   "source": [
    "trans_matr = pd.DataFrame(data=np.array([\n",
    "    [tagger._transitions['0'].prob('0'), tagger._transitions['0'].prob('1')],\n",
    "    [tagger._transitions['1'].prob('0'), tagger._transitions['1'].prob('1')]\n",
    "]),\n",
    "                         columns=[0, 1],\n",
    "                         index=[0, 1])\n",
    "trans_matr"
   ]
  },
  {
   "cell_type": "markdown",
   "metadata": {},
   "source": [
    "Матрица выходных вероятностей $$\\{ b_{ij} = p(x_j|s_i) \\}_{i, j = 1}^{|S|, |X|}$$"
   ]
  },
  {
   "cell_type": "code",
   "execution_count": 16,
   "metadata": {},
   "outputs": [
    {
     "data": {
      "text/html": [
       "<div>\n",
       "<style scoped>\n",
       "    .dataframe tbody tr th:only-of-type {\n",
       "        vertical-align: middle;\n",
       "    }\n",
       "\n",
       "    .dataframe tbody tr th {\n",
       "        vertical-align: top;\n",
       "    }\n",
       "\n",
       "    .dataframe thead th {\n",
       "        text-align: right;\n",
       "    }\n",
       "</style>\n",
       "<table border=\"1\" class=\"dataframe\">\n",
       "  <thead>\n",
       "    <tr style=\"text-align: right;\">\n",
       "      <th></th>\n",
       "      <th></th>\n",
       "      <th>a</th>\n",
       "      <th>b</th>\n",
       "      <th>c</th>\n",
       "      <th>d</th>\n",
       "      <th>e</th>\n",
       "      <th>f</th>\n",
       "      <th>g</th>\n",
       "      <th>h</th>\n",
       "      <th>i</th>\n",
       "      <th>...</th>\n",
       "      <th>q</th>\n",
       "      <th>r</th>\n",
       "      <th>s</th>\n",
       "      <th>t</th>\n",
       "      <th>u</th>\n",
       "      <th>v</th>\n",
       "      <th>w</th>\n",
       "      <th>x</th>\n",
       "      <th>y</th>\n",
       "      <th>z</th>\n",
       "    </tr>\n",
       "  </thead>\n",
       "  <tbody>\n",
       "    <tr>\n",
       "      <th>0</th>\n",
       "      <td>0.236842</td>\n",
       "      <td>0.000000</td>\n",
       "      <td>0.008772</td>\n",
       "      <td>0.05848</td>\n",
       "      <td>0.049708</td>\n",
       "      <td>0.000000</td>\n",
       "      <td>0.02924</td>\n",
       "      <td>0.023392</td>\n",
       "      <td>0.070175</td>\n",
       "      <td>0.000000</td>\n",
       "      <td>...</td>\n",
       "      <td>0.0</td>\n",
       "      <td>0.096491</td>\n",
       "      <td>0.052632</td>\n",
       "      <td>0.128655</td>\n",
       "      <td>0.000000</td>\n",
       "      <td>0.01462</td>\n",
       "      <td>0.017544</td>\n",
       "      <td>0.002924</td>\n",
       "      <td>0.035088</td>\n",
       "      <td>0.0</td>\n",
       "    </tr>\n",
       "    <tr>\n",
       "      <th>1</th>\n",
       "      <td>0.000000</td>\n",
       "      <td>0.177215</td>\n",
       "      <td>0.000000</td>\n",
       "      <td>0.00000</td>\n",
       "      <td>0.000000</td>\n",
       "      <td>0.348101</td>\n",
       "      <td>0.00000</td>\n",
       "      <td>0.000000</td>\n",
       "      <td>0.000000</td>\n",
       "      <td>0.208861</td>\n",
       "      <td>...</td>\n",
       "      <td>0.0</td>\n",
       "      <td>0.000000</td>\n",
       "      <td>0.000000</td>\n",
       "      <td>0.000000</td>\n",
       "      <td>0.101266</td>\n",
       "      <td>0.00000</td>\n",
       "      <td>0.000000</td>\n",
       "      <td>0.000000</td>\n",
       "      <td>0.000000</td>\n",
       "      <td>0.0</td>\n",
       "    </tr>\n",
       "  </tbody>\n",
       "</table>\n",
       "<p>2 rows × 27 columns</p>\n",
       "</div>"
      ],
      "text/plain": [
       "                    a         b        c         d         e        f  \\\n",
       "0  0.236842  0.000000  0.008772  0.05848  0.049708  0.000000  0.02924   \n",
       "1  0.000000  0.177215  0.000000  0.00000  0.000000  0.348101  0.00000   \n",
       "\n",
       "          g         h         i  ...    q         r         s         t  \\\n",
       "0  0.023392  0.070175  0.000000  ...  0.0  0.096491  0.052632  0.128655   \n",
       "1  0.000000  0.000000  0.208861  ...  0.0  0.000000  0.000000  0.000000   \n",
       "\n",
       "          u        v         w         x         y    z  \n",
       "0  0.000000  0.01462  0.017544  0.002924  0.035088  0.0  \n",
       "1  0.101266  0.00000  0.000000  0.000000  0.000000  0.0  \n",
       "\n",
       "[2 rows x 27 columns]"
      ]
     },
     "execution_count": 16,
     "metadata": {},
     "output_type": "execute_result"
    }
   ],
   "source": [
    "out_matr = pd.DataFrame(data=np.array([\n",
    "    [tagger._outputs['0'].prob(c) for c in vocab],\n",
    "    [tagger._outputs['1'].prob(c) for c in vocab]\n",
    "]),\n",
    "                        index=[0, 1],\n",
    "                        columns=vocab)\n",
    "out_matr"
   ]
  },
  {
   "cell_type": "markdown",
   "metadata": {},
   "source": [
    "## Языковая модель"
   ]
  },
  {
   "cell_type": "markdown",
   "metadata": {},
   "source": [
    "Построим языковую модель сначала вручную на простом синтетическом корпусе, затем обучим модель из пакета `nltk` на стихотворении \"Дом, который построил Джек\""
   ]
  },
  {
   "cell_type": "markdown",
   "metadata": {},
   "source": [
    "### Первый пример"
   ]
  },
  {
   "cell_type": "code",
   "execution_count": 17,
   "metadata": {},
   "outputs": [
    {
     "data": {
      "text/plain": [
       "['SOS', 'SOS', 'А', 'Б', 'А', 'Б', 'А', 'Б', 'А', 'Б']"
      ]
     },
     "execution_count": 17,
     "metadata": {},
     "output_type": "execute_result"
    }
   ],
   "source": [
    "text = 'SOS SOS ' + 'А Б ' * 100 + 'EOS'\n",
    "tokens = text.split()\n",
    "n = len(tokens)\n",
    "tokens[:10]"
   ]
  },
  {
   "cell_type": "code",
   "execution_count": 18,
   "metadata": {},
   "outputs": [],
   "source": [
    "def ngrams_and_prefix_counts(tokens, n_max):\n",
    "    # словарь n-грамм и их частот\n",
    "    ngrams_counts = {}\n",
    "    # словарь n-граммных префиксов и их частот\n",
    "    prefix_counts = {}\n",
    "    \n",
    "    n = len(tokens)\n",
    "    for i in range(n_max):\n",
    "        ngrams_counts[i + 1] = Counter([tuple(tokens[j : j + i + 1]) for j in range(n - i)])\n",
    "        prefix_counts[i + 1] = Counter([tuple(tokens[j : j + i] + ['*']) for j in range(n - i)])\n",
    "\n",
    "    return ngrams_counts, prefix_counts"
   ]
  },
  {
   "cell_type": "code",
   "execution_count": 19,
   "metadata": {},
   "outputs": [],
   "source": [
    "ngram_counts, prefix_counts = ngrams_and_prefix_counts(tokens, 3)"
   ]
  },
  {
   "cell_type": "code",
   "execution_count": 20,
   "metadata": {},
   "outputs": [
    {
     "data": {
      "text/plain": [
       "{1: Counter({('SOS',): 2, ('А',): 100, ('Б',): 100, ('EOS',): 1}),\n",
       " 2: Counter({('SOS', 'SOS'): 1,\n",
       "          ('SOS', 'А'): 1,\n",
       "          ('А', 'Б'): 100,\n",
       "          ('Б', 'А'): 99,\n",
       "          ('Б', 'EOS'): 1}),\n",
       " 3: Counter({('SOS', 'SOS', 'А'): 1,\n",
       "          ('SOS', 'А', 'Б'): 1,\n",
       "          ('А', 'Б', 'А'): 99,\n",
       "          ('Б', 'А', 'Б'): 99,\n",
       "          ('А', 'Б', 'EOS'): 1})}"
      ]
     },
     "execution_count": 20,
     "metadata": {},
     "output_type": "execute_result"
    }
   ],
   "source": [
    "ngram_counts"
   ]
  },
  {
   "cell_type": "code",
   "execution_count": 21,
   "metadata": {},
   "outputs": [
    {
     "data": {
      "text/plain": [
       "{1: Counter({('*',): 203}),\n",
       " 2: Counter({('SOS', '*'): 2, ('А', '*'): 100, ('Б', '*'): 100}),\n",
       " 3: Counter({('SOS', 'SOS', '*'): 1,\n",
       "          ('SOS', 'А', '*'): 1,\n",
       "          ('А', 'Б', '*'): 100,\n",
       "          ('Б', 'А', '*'): 99})}"
      ]
     },
     "execution_count": 21,
     "metadata": {},
     "output_type": "execute_result"
    }
   ],
   "source": [
    "prefix_counts"
   ]
  },
  {
   "cell_type": "markdown",
   "metadata": {},
   "source": [
    "#### N-граммы и их частотные вероятности\n",
    "\n",
    "$$\\hat p_i = \\hat p(w_i)$$"
   ]
  },
  {
   "cell_type": "code",
   "execution_count": 22,
   "metadata": {},
   "outputs": [],
   "source": [
    "def unigram_probas(ngram_counts):\n",
    "    p1 = {}\n",
    "    n = sum(ngram_counts[1].values())\n",
    "    for w in ngram_counts[1]:\n",
    "        p1[w] = ngram_counts[1][w] / n\n",
    "    return p1"
   ]
  },
  {
   "cell_type": "code",
   "execution_count": 23,
   "metadata": {},
   "outputs": [
    {
     "data": {
      "text/plain": [
       "{('SOS',): 0.009852216748768473,\n",
       " ('А',): 0.49261083743842365,\n",
       " ('Б',): 0.49261083743842365,\n",
       " ('EOS',): 0.0049261083743842365}"
      ]
     },
     "execution_count": 23,
     "metadata": {},
     "output_type": "execute_result"
    }
   ],
   "source": [
    "p1 = unigram_probas(ngram_counts)\n",
    "p1"
   ]
  },
  {
   "cell_type": "markdown",
   "metadata": {},
   "source": [
    "$$\\hat p_{i, i - 1} = \\hat p(w_i|w_{i - 1})$$"
   ]
  },
  {
   "cell_type": "code",
   "execution_count": 24,
   "metadata": {},
   "outputs": [],
   "source": [
    "def bigram_probas(ngram_counts, prefix_counts):\n",
    "    p2 = {}\n",
    "    for w in ngram_counts[2]:\n",
    "        pre_w = tuple([w[0]] + ['*'])\n",
    "        p2[u'{1}|{0}'.format(*w)] = ngram_counts[2][w] / prefix_counts[2][pre_w]\n",
    "    return p2"
   ]
  },
  {
   "cell_type": "code",
   "execution_count": 25,
   "metadata": {},
   "outputs": [
    {
     "data": {
      "text/plain": [
       "{'SOS|SOS': 0.5, 'А|SOS': 0.5, 'Б|А': 1.0, 'А|Б': 0.99, 'EOS|Б': 0.01}"
      ]
     },
     "execution_count": 25,
     "metadata": {},
     "output_type": "execute_result"
    }
   ],
   "source": [
    "p2 = bigram_probas(ngram_counts, prefix_counts)\n",
    "p2"
   ]
  },
  {
   "cell_type": "markdown",
   "metadata": {},
   "source": [
    "$$\\hat p_{i, i - 1, i - 2} = \\hat p(w_i|w_{i - 1}, w_{i - 2})$$"
   ]
  },
  {
   "cell_type": "code",
   "execution_count": 26,
   "metadata": {},
   "outputs": [],
   "source": [
    "def trigram_probas(ngram_counts, prefix_counts):\n",
    "    p3 = {}\n",
    "    for w in ngram_counts[3]:\n",
    "        pre_w = w[:2] + tuple(['*'])\n",
    "        p3[u'{2}|{1},{0}'.format(*w)] = ngram_counts[3][w] / prefix_counts[3][pre_w]\n",
    "    return p3"
   ]
  },
  {
   "cell_type": "code",
   "execution_count": 27,
   "metadata": {},
   "outputs": [
    {
     "data": {
      "text/plain": [
       "{'А|SOS,SOS': 1.0,\n",
       " 'Б|А,SOS': 1.0,\n",
       " 'А|Б,А': 0.99,\n",
       " 'Б|А,Б': 1.0,\n",
       " 'EOS|Б,А': 0.01}"
      ]
     },
     "execution_count": 27,
     "metadata": {},
     "output_type": "execute_result"
    }
   ],
   "source": [
    "p3 =  trigram_probas(ngram_counts, prefix_counts)\n",
    "p3"
   ]
  },
  {
   "cell_type": "markdown",
   "metadata": {},
   "source": [
    "#### Проверка гипотезы, что триграммную модель можно свести к биграммной против правосторонней альтернативы"
   ]
  },
  {
   "cell_type": "markdown",
   "metadata": {},
   "source": [
    "Статистика:\n",
    "$$-2 \\log (\\prod_{i, j, k = 1}^m (\\hat p_{ij} / \\hat p_{ijk})^{n_{ijk}}) = \\sum_{i, j, k}^m -2 n_{ijk} \\log \\hat p_{ij} + 2 n_{ijk} \\log \\hat p_{ijk} = \\sum_{i = 3}^N -2 \\log \\hat p_{i,i - 1} + 2 \\log \\hat p_{i, i - 1, i - 2},$$\n",
    "$$n_{ijk} = |\\{X_t: X_t = O_i, X_{t + 1} = O_j, X_{t + 2} = O_k\\}|$$"
   ]
  },
  {
   "cell_type": "code",
   "execution_count": 28,
   "metadata": {},
   "outputs": [],
   "source": [
    "def chi2_statistic(p2, p3, tokens):\n",
    "    stat2 = []\n",
    "    stat3 = []\n",
    "    n = len(tokens)\n",
    "    for i in range(n - 2):\n",
    "        w = tokens[i : i + 3]\n",
    "        ngram3 = '{2}|{1},{0}'.format(*w)\n",
    "        ngram2 = '{1}|{0}'.format(*w)\n",
    "\n",
    "        stat2.append(np.log(p2[ngram2]))\n",
    "        stat3.append(np.log(p3[ngram3]))\n",
    "    return - 2 * np.sum(stat2) + 2 * np.sum(stat3)"
   ]
  },
  {
   "cell_type": "code",
   "execution_count": 29,
   "metadata": {},
   "outputs": [],
   "source": [
    "m = len(p3)\n",
    "stat = chi2_statistic(p2, p3, tokens)"
   ]
  },
  {
   "cell_type": "code",
   "execution_count": 30,
   "metadata": {
    "scrolled": true
   },
   "outputs": [
    {
     "name": "stdout",
     "output_type": "stream",
     "text": [
      "p-value = 1.0\n"
     ]
    }
   ],
   "source": [
    "print(f'p-value = {1 - st.distributions.chi2(m * ((m - 1) ** 2) - 1).cdf(stat)}')"
   ]
  },
  {
   "cell_type": "markdown",
   "metadata": {},
   "source": [
    "Значит триграммная модель бесполезна."
   ]
  },
  {
   "cell_type": "markdown",
   "metadata": {},
   "source": [
    "### Второй пример"
   ]
  },
  {
   "cell_type": "code",
   "execution_count": 31,
   "metadata": {},
   "outputs": [
    {
     "data": {
      "text/plain": [
       "['SOS', 'SOS', 'А', 'Б', 'Б', 'А', 'Б', 'А', 'Б', 'А']"
      ]
     },
     "execution_count": 31,
     "metadata": {},
     "output_type": "execute_result"
    }
   ],
   "source": [
    "text = 'SOS SOS ' + 'А Б Б А Б А Б А Б Б А А ' * 100\n",
    "tokens = text.split()\n",
    "tokens[:10]"
   ]
  },
  {
   "cell_type": "code",
   "execution_count": 32,
   "metadata": {},
   "outputs": [],
   "source": [
    "ngram_counts, prefix_counts = ngrams_and_prefix_counts(tokens, 3)"
   ]
  },
  {
   "cell_type": "code",
   "execution_count": 33,
   "metadata": {},
   "outputs": [
    {
     "data": {
      "text/plain": [
       "{1: Counter({('SOS',): 2, ('А',): 600, ('Б',): 600}),\n",
       " 2: Counter({('SOS', 'SOS'): 1,\n",
       "          ('SOS', 'А'): 1,\n",
       "          ('А', 'Б'): 400,\n",
       "          ('Б', 'Б'): 200,\n",
       "          ('Б', 'А'): 400,\n",
       "          ('А', 'А'): 199}),\n",
       " 3: Counter({('SOS', 'SOS', 'А'): 1,\n",
       "          ('SOS', 'А', 'Б'): 1,\n",
       "          ('А', 'Б', 'Б'): 200,\n",
       "          ('Б', 'Б', 'А'): 200,\n",
       "          ('Б', 'А', 'Б'): 300,\n",
       "          ('А', 'Б', 'А'): 200,\n",
       "          ('Б', 'А', 'А'): 100,\n",
       "          ('А', 'А', 'А'): 99,\n",
       "          ('А', 'А', 'Б'): 99})}"
      ]
     },
     "execution_count": 33,
     "metadata": {},
     "output_type": "execute_result"
    }
   ],
   "source": [
    "ngram_counts"
   ]
  },
  {
   "cell_type": "code",
   "execution_count": 34,
   "metadata": {},
   "outputs": [
    {
     "data": {
      "text/plain": [
       "{1: Counter({('*',): 1202}),\n",
       " 2: Counter({('SOS', '*'): 2, ('А', '*'): 599, ('Б', '*'): 600}),\n",
       " 3: Counter({('SOS', 'SOS', '*'): 1,\n",
       "          ('SOS', 'А', '*'): 1,\n",
       "          ('А', 'Б', '*'): 400,\n",
       "          ('Б', 'Б', '*'): 200,\n",
       "          ('Б', 'А', '*'): 400,\n",
       "          ('А', 'А', '*'): 198})}"
      ]
     },
     "execution_count": 34,
     "metadata": {},
     "output_type": "execute_result"
    }
   ],
   "source": [
    "prefix_counts"
   ]
  },
  {
   "cell_type": "code",
   "execution_count": 35,
   "metadata": {},
   "outputs": [
    {
     "data": {
      "text/plain": [
       "{('SOS',): 0.0016638935108153079,\n",
       " ('А',): 0.49916805324459235,\n",
       " ('Б',): 0.49916805324459235}"
      ]
     },
     "execution_count": 35,
     "metadata": {},
     "output_type": "execute_result"
    }
   ],
   "source": [
    "p1 = unigram_probas(ngram_counts)\n",
    "p1"
   ]
  },
  {
   "cell_type": "code",
   "execution_count": 36,
   "metadata": {},
   "outputs": [
    {
     "data": {
      "text/plain": [
       "{'SOS|SOS': 0.5,\n",
       " 'А|SOS': 0.5,\n",
       " 'Б|А': 0.667779632721202,\n",
       " 'Б|Б': 0.3333333333333333,\n",
       " 'А|Б': 0.6666666666666666,\n",
       " 'А|А': 0.332220367278798}"
      ]
     },
     "execution_count": 36,
     "metadata": {},
     "output_type": "execute_result"
    }
   ],
   "source": [
    "p2 = bigram_probas(ngram_counts, prefix_counts)\n",
    "p2"
   ]
  },
  {
   "cell_type": "code",
   "execution_count": 37,
   "metadata": {},
   "outputs": [
    {
     "data": {
      "text/plain": [
       "{'А|SOS,SOS': 1.0,\n",
       " 'Б|А,SOS': 1.0,\n",
       " 'Б|Б,А': 0.5,\n",
       " 'А|Б,Б': 1.0,\n",
       " 'Б|А,Б': 0.75,\n",
       " 'А|Б,А': 0.5,\n",
       " 'А|А,Б': 0.25,\n",
       " 'А|А,А': 0.5,\n",
       " 'Б|А,А': 0.5}"
      ]
     },
     "execution_count": 37,
     "metadata": {},
     "output_type": "execute_result"
    }
   ],
   "source": [
    "p3 =  trigram_probas(ngram_counts, prefix_counts)\n",
    "p3"
   ]
  },
  {
   "cell_type": "markdown",
   "metadata": {},
   "source": [
    "#### Проверка той же гипотезы"
   ]
  },
  {
   "cell_type": "code",
   "execution_count": 38,
   "metadata": {},
   "outputs": [],
   "source": [
    "stat = chi2_statistic(p2, p3, tokens)"
   ]
  },
  {
   "cell_type": "code",
   "execution_count": 39,
   "metadata": {},
   "outputs": [
    {
     "name": "stdout",
     "output_type": "stream",
     "text": [
      "p-value = 0.0\n"
     ]
    }
   ],
   "source": [
    "print(f'p-value = {1 - st.distributions.chi2(m * ((m - 1) ** 2) - 1).cdf(stat)}')"
   ]
  },
  {
   "cell_type": "markdown",
   "metadata": {},
   "source": [
    "#### Сглаживание Лапласа"
   ]
  },
  {
   "cell_type": "code",
   "execution_count": 40,
   "metadata": {},
   "outputs": [
    {
     "data": {
      "text/plain": [
       "[('SOS', 'SOS', 'А'),\n",
       " ('SOS', 'А', 'Б'),\n",
       " ('А', 'Б', 'Б'),\n",
       " ('Б', 'Б', 'А'),\n",
       " ('Б', 'А', 'Б'),\n",
       " ('А', 'Б', 'А'),\n",
       " ('Б', 'А', 'Б'),\n",
       " ('А', 'Б', 'А'),\n",
       " ('Б', 'А', 'Б'),\n",
       " ('А', 'Б', 'Б')]"
      ]
     },
     "execution_count": 40,
     "metadata": {},
     "output_type": "execute_result"
    }
   ],
   "source": [
    "n1 = list(nltk_ngrams(tokens, 1))\n",
    "n2 = list(nltk_ngrams(tokens, 2))\n",
    "n3 = list(nltk_ngrams(tokens, 3))\n",
    "n3[:10]"
   ]
  },
  {
   "cell_type": "code",
   "execution_count": 41,
   "metadata": {},
   "outputs": [],
   "source": [
    "laplace = lm.Laplace(order=3)\n",
    "laplace.fit([n1] + [n2] + [n3], vocabulary_text=list(set(tokens)))\n",
    "regular_lm = lm.MLE(order=3)\n",
    "regular_lm.fit([n1] + [n2] + [n3], vocabulary_text=list(set(tokens)))"
   ]
  },
  {
   "cell_type": "markdown",
   "metadata": {},
   "source": [
    "#### Перплексия (Меньше $\\rightarrow$ лучше)"
   ]
  },
  {
   "cell_type": "code",
   "execution_count": 42,
   "metadata": {},
   "outputs": [
    {
     "data": {
      "text/plain": [
       "(2.024429736885131, 2.0224364471218337)"
      ]
     },
     "execution_count": 42,
     "metadata": {},
     "output_type": "execute_result"
    }
   ],
   "source": [
    "laplace.perplexity(n1), regular_lm.perplexity(n1)"
   ]
  },
  {
   "cell_type": "code",
   "execution_count": 43,
   "metadata": {},
   "outputs": [
    {
     "data": {
      "text/plain": [
       "(1206.000000000001, inf)"
      ]
     },
     "execution_count": 43,
     "metadata": {},
     "output_type": "execute_result"
    }
   ],
   "source": [
    "foo = [('b'), ('a'), ('r')]\n",
    "laplace.perplexity(foo), regular_lm.perplexity(foo)"
   ]
  },
  {
   "cell_type": "markdown",
   "metadata": {},
   "source": [
    "#### Сглаженная по Лапласу оценка вероятности\n",
    "\n",
    "$$p_L(w_i) = \\frac{c_i + 1}{\\sum_{i = 1}^v c_i + v}$$\n",
    "$$p_L(w_i|w_j) = \\frac{c_{ij} + 1}{\\sum_{j=1}^v (c_{ij} + 1)} = \\frac{c_{ij} + 1}{c_i + v}$$\n",
    "\n",
    "$$p_L('А'|'SOS')$$"
   ]
  },
  {
   "cell_type": "code",
   "execution_count": 44,
   "metadata": {},
   "outputs": [
    {
     "data": {
      "text/plain": [
       "(0.3333333333333333, 0.5)"
      ]
     },
     "execution_count": 44,
     "metadata": {},
     "output_type": "execute_result"
    }
   ],
   "source": [
    "laplace.score('А', context=['SOS']), regular_lm.score('А', context=['SOS'])"
   ]
  },
  {
   "cell_type": "markdown",
   "metadata": {},
   "source": [
    "$$p_L('SOS')$$"
   ]
  },
  {
   "cell_type": "code",
   "execution_count": 45,
   "metadata": {},
   "outputs": [
    {
     "data": {
      "text/plain": [
       "(0.0024875621890547263, 0.0016638935108153079)"
      ]
     },
     "execution_count": 45,
     "metadata": {},
     "output_type": "execute_result"
    }
   ],
   "source": [
    "laplace.score('SOS'), regular_lm.score('SOS')"
   ]
  },
  {
   "cell_type": "markdown",
   "metadata": {},
   "source": [
    "#### n-граммы не встречаючиеся в тексте:"
   ]
  },
  {
   "cell_type": "code",
   "execution_count": 46,
   "metadata": {},
   "outputs": [
    {
     "data": {
      "text/plain": [
       "(0.16666666666666666, 0.25, 0.0008291873963515755)"
      ]
     },
     "execution_count": 46,
     "metadata": {},
     "output_type": "execute_result"
    }
   ],
   "source": [
    "laplace.score('C', context=['SOS']), laplace.score('ыаываа', context=['B']), laplace.score('B')"
   ]
  },
  {
   "cell_type": "code",
   "execution_count": 47,
   "metadata": {},
   "outputs": [
    {
     "data": {
      "text/plain": [
       "(0.0, 0, 0.0)"
      ]
     },
     "execution_count": 47,
     "metadata": {},
     "output_type": "execute_result"
    }
   ],
   "source": [
    "regular_lm.score('C', context=['SOS']), regular_lm.score('ыаываа', context=['B']), regular_lm.score('B')"
   ]
  },
  {
   "cell_type": "markdown",
   "metadata": {},
   "source": [
    "### Генерация текста"
   ]
  },
  {
   "cell_type": "code",
   "execution_count": 49,
   "metadata": {},
   "outputs": [],
   "source": [
    "rt = RegexpTokenizer(u'\\w+')"
   ]
  },
  {
   "cell_type": "code",
   "execution_count": 50,
   "metadata": {},
   "outputs": [],
   "source": [
    "with open('data/jack.txt') as f:\n",
    "    text = f.read().lower()"
   ]
  },
  {
   "cell_type": "code",
   "execution_count": 51,
   "metadata": {},
   "outputs": [
    {
     "data": {
      "text/plain": [
       "(247, 57)"
      ]
     },
     "execution_count": 51,
     "metadata": {},
     "output_type": "execute_result"
    }
   ],
   "source": [
    "tokens = rt.tokenize(text)\n",
    "len(tokens), len(set(tokens))"
   ]
  },
  {
   "cell_type": "code",
   "execution_count": 52,
   "metadata": {},
   "outputs": [],
   "source": [
    "n1 = list(nltk_ngrams(tokens, 1) )\n",
    "n2 = list(nltk_ngrams(tokens, 2))\n",
    "n3 = list(nltk_ngrams(tokens, 3))"
   ]
  },
  {
   "cell_type": "code",
   "execution_count": 53,
   "metadata": {},
   "outputs": [],
   "source": [
    "laplace = lm.Laplace(order=3)\n",
    "laplace.fit([n1] + [n2] + [n3], vocabulary_text=list(set(tokens)))"
   ]
  },
  {
   "cell_type": "code",
   "execution_count": 54,
   "metadata": {},
   "outputs": [
    {
     "data": {
      "text/plain": [
       "'птица синица которая часто ворует пшеницу которая в тёмном чулане хранится в доме который построил джек а это старушка седая и строгая которая доит корову безрогую лягнувшую старого пса без хвоста который за шиворот треплет кота который пугает и ловит синицу которая часто ворует пшеницу которая в тёмном чулане хранится'"
      ]
     },
     "execution_count": 54,
     "metadata": {},
     "output_type": "execute_result"
    }
   ],
   "source": [
    "' '.join(laplace.generate(50, random_seed=42))"
   ]
  },
  {
   "cell_type": "code",
   "execution_count": 55,
   "metadata": {},
   "outputs": [
    {
     "data": {
      "text/plain": [
       "'а это корова безрогая лягнувшая старого пса без хвоста который за шиворот треплет кота который пугает и ловит синицу которая часто ворует пшеницу которая в тёмном чулане хранится в доме который построил джек а это весёлая птица синица которая часто ворует пшеницу которая в тёмном чулане хранится в доме который'"
      ]
     },
     "execution_count": 55,
     "metadata": {},
     "output_type": "execute_result"
    }
   ],
   "source": [
    "' '.join(laplace.generate(50, text_seed='вот дом который построил джек'.split()))"
   ]
  },
  {
   "cell_type": "code",
   "execution_count": 56,
   "metadata": {},
   "outputs": [
    {
     "data": {
      "text/plain": [
       "'ворует пшеницу которая в тёмном чулане хранится в доме который построил джек вот пёс без хвоста который за шиворот треплет кота который пугает и ловит синицу которая часто ворует пшеницу которая в тёмном чулане хранится в доме который построил джек а это старушка седая и строгая которая доит корову безрогую'"
      ]
     },
     "execution_count": 56,
     "metadata": {},
     "output_type": "execute_result"
    }
   ],
   "source": [
    "' '.join(laplace.generate(50, text_seed='привет как дела'.split()))"
   ]
  }
 ],
 "metadata": {
  "kernelspec": {
   "display_name": "Python 3",
   "language": "python",
   "name": "python3"
  },
  "language_info": {
   "codemirror_mode": {
    "name": "ipython",
    "version": 3
   },
   "file_extension": ".py",
   "mimetype": "text/x-python",
   "name": "python",
   "nbconvert_exporter": "python",
   "pygments_lexer": "ipython3",
   "version": "3.8.5"
  }
 },
 "nbformat": 4,
 "nbformat_minor": 4
}
